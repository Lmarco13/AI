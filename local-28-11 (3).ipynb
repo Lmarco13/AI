{
 "cells": [
  {
   "cell_type": "markdown",
   "metadata": {
    "id": "z1HBn5M5_cMB"
   },
   "source": [
    "# Sesión 5 - Inteligencia Artificial\n",
    "## Belén Díaz Agudo -  Facultad de Informática UCM\n",
    "## Búsqueda local\n",
    "En esta primera parte usaremos ejercicios paso a paso para familiarizarnos con la resolución de problemas sencillos de optimización, problemas conocidos que vamos a resolver utilizando algoritmos de búsqueda local. \n",
    "En la segunda parte de la práctica se pide resolver el problema dado en el enunciado."
   ]
  },
  {
   "cell_type": "markdown",
   "metadata": {
    "id": "FIQZcc6T_cMN"
   },
   "source": [
    "## Parte 1. Algoritmo de escalada\n",
    "Hill Climbing es un algoritmo de búsqueda local heurística utilizada para problemas de optimización.\n",
    "Esta solución puede o no ser el óptimo global. El algoritmo es una variante del algoritmo de generación y prueba.\n",
    "<br>\n",
    "En general, el algoritmo funciona de la siguiente manera:\n",
    "- Evaluar el estado inicial.\n",
    "- Si es igual al estado del objetivo, terminamos.\n",
    "- Encuentra un estado vecino al estado actual\n",
    "- Evaluar este estado. Si está más cerca del estado objetivo que antes, reemplace el estado inicial con este estado y repita estos pasos.\n",
    "<br>\n",
    "Usaremos la implementación de AIMA que está en el módulo search.py\n",
    "\n",
    "    def hill_climbing(problem):\n",
    "        \"\"\"From the initial node, keep choosing the neighbor with highest value,\n",
    "        stopping when no neighbor is better. [Figure 4.2]\"\"\"\n",
    "        current = Node(problem.initial)\n",
    "        while True:\n",
    "            neighbors = current.expand(problem)\n",
    "            if not neighbors:\n",
    "                break\n",
    "            neighbor = argmax_random_tie(neighbors,\n",
    "                                     key=lambda node: problem.value(node.state))\n",
    "            if problem.value(neighbor.state) <= problem.value(current.state):\n",
    "                break\n",
    "            current = neighbor\n",
    "        return current.state\n"
   ]
  },
  {
   "cell_type": "markdown",
   "metadata": {
    "id": "MQfKl5j8_cMS"
   },
   "source": [
    "### TSP (Travelling Salesman Problem): el problema del viajante\n",
    "Dado un conjunto de ciudades y la distancia entre cada par de ciudades, el problema es encontrar la ruta más corta posible que visite cada ciudad exactamente una vez y regrese al punto de partida. Es un problema NP hard. No existen una solución de coste polinomial. "
   ]
  },
  {
   "cell_type": "code",
   "execution_count": 408,
   "metadata": {
    "id": "hy-aprSY_cMU",
    "outputId": "ab085fce-51ef-4a53-9dae-2dfedf0dcee4"
   },
   "outputs": [
    {
     "name": "stdout",
     "output_type": "stream",
     "text": [
      "[Errno 2] No such file or directory: 'aima'\n",
      "/home/azul42/Escritorio/Universidad/Cuarto - Madrid/PrimerCuatrimestre/IA-1/Pracs/aima\n"
     ]
    }
   ],
   "source": [
    "cd aima"
   ]
  },
  {
   "cell_type": "code",
   "execution_count": 409,
   "metadata": {
    "id": "mqPZm4HN_cMZ"
   },
   "outputs": [],
   "source": [
    "##Resolvereremos el problema del viajante TSP para encontrar una solución aproximada.\n",
    "from search import *\n",
    "\n",
    "class TSP_problem(Problem):\n",
    "\n",
    "    def two_opt(self, state):\n",
    "        \"\"\" Neighbour generating function for Traveling Salesman Problem \"\"\"\n",
    "        ## Puedes buscar información adicional del método 2-opt. \n",
    "        ## Un vecino 2-opt consiste en eliminar dos aristas y volver a conectar los dos caminos resultantes de \n",
    "        ## forma diferente para obtener un nuevo recorrido. \n",
    "                \n",
    "        neighbour_state = state[:]\n",
    "        left = random.randint(0, len(neighbour_state) - 1)\n",
    "        right = random.randint(0, len(neighbour_state) - 1)\n",
    "        if left > right:\n",
    "            left, right = right, left\n",
    "        neighbour_state[left: right + 1] = reversed(neighbour_state[left: right + 1])\n",
    "        return neighbour_state\n",
    "\n",
    "    def actions(self, state):\n",
    "        \"\"\" action that can be excuted in given state \"\"\"\n",
    "        return [self.two_opt]\n",
    "\n",
    "    def result(self, state, action):\n",
    "        \"\"\"  result after applying the given action on the given state \"\"\"\n",
    "        return action(state)\n",
    "\n",
    "    def path_cost(self, c, state1, action, state2):\n",
    "        \"\"\" total distance for the Traveling Salesman to be covered if in state2  \"\"\"\n",
    "        cost = 0\n",
    "        for i in range(len(state2) - 1):\n",
    "            cost += distances[state2[i]][state2[i + 1]]\n",
    "        cost += distances[state2[0]][state2[-1]]\n",
    "        return cost\n",
    "\n",
    "    def value(self, state):\n",
    "        \"\"\" value of path cost given negative for the given state \"\"\"\n",
    "        return -1 * self.path_cost(None, None, None, state)"
   ]
  },
  {
   "cell_type": "code",
   "execution_count": 410,
   "metadata": {
    "id": "v5Iok5Xq_cMb"
   },
   "outputs": [],
   "source": [
    "## Resolveremos el TSP para las ciudades de la lista de ciudades de Rumanía.\n",
    "## ['Arad', 'Bucharest', 'Craiova', 'Drobeta', 'Eforie', 'Fagaras', 'Giurgiu', 'Hirsova', 'Iasi', 'Lugoj', 'Mehadia', 'Neamt', 'Oradea', 'Pitesti', 'Rimnicu', 'Sibiu', 'Timisoara', 'Urziceni', 'Vaslui', 'Zerind']"
   ]
  },
  {
   "cell_type": "markdown",
   "metadata": {
    "id": "JwIRGDzl_cMd"
   },
   "source": [
    "Esta es la imagen del mapa de Rumanía. \n",
    "\n",
    "![image.png](attachment:image.png)"
   ]
  },
  {
   "cell_type": "code",
   "execution_count": 411,
   "metadata": {
    "id": "_QZCQR8Z_cMd"
   },
   "outputs": [],
   "source": [
    "# Usaremos la siguiente representacion del libro AIMA para el mapa de Rumanía.\n",
    "\n",
    "romania_map = UndirectedGraph(dict(\n",
    "    Arad=dict(Zerind=75, Sibiu=140, Timisoara=118),\n",
    "    Bucharest=dict(Urziceni=85, Pitesti=101, Giurgiu=90, Fagaras=211),\n",
    "    Craiova=dict(Drobeta=120, Rimnicu=146, Pitesti=138),\n",
    "    Drobeta=dict(Mehadia=75),\n",
    "    Eforie=dict(Hirsova=86),\n",
    "    Fagaras=dict(Sibiu=99),\n",
    "    Hirsova=dict(Urziceni=98),\n",
    "    Iasi=dict(Vaslui=92, Neamt=87),\n",
    "    Lugoj=dict(Timisoara=111, Mehadia=70),\n",
    "    Oradea=dict(Zerind=71, Sibiu=151),\n",
    "    Pitesti=dict(Rimnicu=97),\n",
    "    Rimnicu=dict(Sibiu=80),\n",
    "    Urziceni=dict(Vaslui=142)))\n",
    "\n",
    "romania_map.locations = dict(\n",
    "    Arad=(91, 492), Bucharest=(400, 327), Craiova=(253, 288),\n",
    "    Drobeta=(165, 299), Eforie=(562, 293), Fagaras=(305, 449),\n",
    "    Giurgiu=(375, 270), Hirsova=(534, 350), Iasi=(473, 506),\n",
    "    Lugoj=(165, 379), Mehadia=(168, 339), Neamt=(406, 537),\n",
    "    Oradea=(131, 571), Pitesti=(320, 368), Rimnicu=(233, 410),\n",
    "    Sibiu=(207, 457), Timisoara=(94, 410), Urziceni=(456, 350),\n",
    "    Vaslui=(509, 444), Zerind=(108, 531))"
   ]
  },
  {
   "cell_type": "markdown",
   "metadata": {
    "id": "QMoESpJA_cMf"
   },
   "source": [
    "Es bastante sencillo entender este `romania_map`. El primer nodo ** Arad ** tiene tres vecinos llamados ** Zerind **, ** Sibiu **, ** Timisoara **. Cada uno de estos nodos están a distancias 75, 140, 118 de ** Arad ** respectivamente. Y lo mismo ocurre con otros nodos.\n",
    "\n",
    "Y `romania_map.locations` contiene las posiciones de cada uno de los nodos. \n",
    "Como heurística se puede usar la distancia en línea recta o la distancia manhattan (que es diferente de la proporcionada en `romania_map`) entre dos ciudades."
   ]
  },
  {
   "cell_type": "code",
   "execution_count": 412,
   "metadata": {
    "id": "CJfqxAkN_cMh",
    "outputId": "dde82b9f-c2f0-4881-bd6b-6f1e9c9774a3"
   },
   "outputs": [
    {
     "name": "stdout",
     "output_type": "stream",
     "text": [
      "{'Arad': (91, 492), 'Bucharest': (400, 327), 'Craiova': (253, 288), 'Drobeta': (165, 299), 'Eforie': (562, 293), 'Fagaras': (305, 449), 'Giurgiu': (375, 270), 'Hirsova': (534, 350), 'Iasi': (473, 506), 'Lugoj': (165, 379), 'Mehadia': (168, 339), 'Neamt': (406, 537), 'Oradea': (131, 571), 'Pitesti': (320, 368), 'Rimnicu': (233, 410), 'Sibiu': (207, 457), 'Timisoara': (94, 410), 'Urziceni': (456, 350), 'Vaslui': (509, 444), 'Zerind': (108, 531)}\n"
     ]
    }
   ],
   "source": [
    "romania_locations = romania_map.locations\n",
    "print(romania_locations)"
   ]
  },
  {
   "cell_type": "code",
   "execution_count": 413,
   "metadata": {
    "id": "sM2nBw1g_cMi"
   },
   "outputs": [],
   "source": [
    "# node colors, node positions and node label positions\n",
    "node_positions = romania_map.locations\n",
    "node_label_pos = { k:[v[0],v[1]-10]  for k,v in romania_map.locations.items() }\n",
    "edge_weights = {(k, k2) : v2 for k, v in romania_map.graph_dict.items() for k2, v2 in v.items()}\n",
    "\n",
    "romania_graph_data = {  'graph_dict' : romania_map.graph_dict,\n",
    "                        'node_positions': node_positions,\n",
    "                        'node_label_positions': node_label_pos,\n",
    "                         'edge_weights': edge_weights\n",
    "                     }"
   ]
  },
  {
   "cell_type": "markdown",
   "metadata": {
    "id": "7wVktL08_cMk"
   },
   "source": []
  },
  {
   "cell_type": "markdown",
   "metadata": {
    "id": "8_ViU6jj_cMm"
   },
   "source": [
    "![image-2.png](attachment:image-2.png)"
   ]
  },
  {
   "cell_type": "markdown",
   "metadata": {
    "id": "sKE09ijW_cMn"
   },
   "source": []
  },
  {
   "cell_type": "code",
   "execution_count": 414,
   "metadata": {
    "id": "glD1_S3A_cMo",
    "outputId": "f1514f76-10b9-4275-c860-bc22b483b110"
   },
   "outputs": [
    {
     "name": "stdout",
     "output_type": "stream",
     "text": [
      "['Arad', 'Bucharest', 'Craiova', 'Drobeta', 'Eforie', 'Fagaras', 'Giurgiu', 'Hirsova', 'Iasi', 'Lugoj', 'Mehadia', 'Neamt', 'Oradea', 'Pitesti', 'Rimnicu', 'Sibiu', 'Timisoara', 'Urziceni', 'Vaslui', 'Zerind']\n"
     ]
    }
   ],
   "source": [
    "## el siguiente código crea un diccionario y calcula y añade al diccionario la distancia manhattan entre las ciudades. \n",
    "import numpy as np\n",
    "\n",
    "distances = {}\n",
    "all_cities = []\n",
    "\n",
    "for city in romania_map.locations.keys():\n",
    "    distances[city] = {}\n",
    "    all_cities.append(city)\n",
    "    \n",
    "all_cities.sort()\n",
    "print(all_cities)\n",
    "\n",
    "for name_1, coordinates_1 in romania_map.locations.items():\n",
    "        for name_2, coordinates_2 in romania_map.locations.items():\n",
    "            distances[name_1][name_2] = np.linalg.norm(\n",
    "                [coordinates_1[0] - coordinates_2[0], coordinates_1[1] - coordinates_2[1]])\n",
    "            distances[name_2][name_1] = np.linalg.norm(\n",
    "                [coordinates_1[0] - coordinates_2[0], coordinates_1[1] - coordinates_2[1]])"
   ]
  },
  {
   "cell_type": "code",
   "execution_count": 415,
   "metadata": {
    "id": "IwR4cquL_cMq"
   },
   "outputs": [],
   "source": [
    "# Creamos una instancia del problema TSP con la lista de ciudades anterior que se na extraido del mapa.\n",
    "# En el mapa hay informacion de las distancias que se utilizan en la clase TSP_problem para calcular el coste y las heurísticas.\n",
    "tsp = TSP_problem(all_cities)"
   ]
  },
  {
   "cell_type": "code",
   "execution_count": 416,
   "metadata": {
    "id": "s0LeUtNI_cMt"
   },
   "outputs": [],
   "source": [
    "## Redefinimos el hill climbing de AIMA para que el método de generacion de vecinos sea acceder al grafo que hemos definido para el TSP\n",
    "##  Escalada por máxima pendiente con 100 vecinos generados con el procedimiento 2-opt\n",
    "\n",
    "\n",
    "def hill_climbing(problem):\n",
    "    \n",
    "    \"\"\"From the initial node, keep choosing the neighbor with highest value,\n",
    "    stopping when no neighbor is better. [Figure 4.2]\"\"\"\n",
    "    \n",
    "    def find_neighbors(state, number_of_neighbors=100):\n",
    "        \"\"\" finds neighbors using two_opt method \"\"\"\n",
    "        \n",
    "        neighbors = []\n",
    "        \n",
    "        for i in range(number_of_neighbors):\n",
    "            new_state = problem.two_opt(state)\n",
    "            neighbors.append(Node(new_state))\n",
    "            state = new_state\n",
    "            \n",
    "        return neighbors\n",
    "\n",
    "    # as this is a stochastic algorithm, we will set a cap on the number of iterations\n",
    "    iterations = 10000\n",
    "    \n",
    "    current = Node(problem.initial)\n",
    "    while iterations:\n",
    "        neighbors = find_neighbors(current.state)\n",
    "        if not neighbors:\n",
    "            break\n",
    "        neighbor = argmax_random_tie(neighbors,\n",
    "                                     key=lambda node: problem.value(node.state))\n",
    "        if problem.value(neighbor.state) <= problem.value(current.state):\n",
    "            current.state = neighbor.state\n",
    "        iterations -= 1\n",
    "        \n",
    "    return current.state"
   ]
  },
  {
   "cell_type": "code",
   "execution_count": 417,
   "metadata": {
    "id": "YKmZ_6u4_cMv",
    "outputId": "7de51f01-d8f1-43ec-ee3f-8d893ed9b8de"
   },
   "outputs": [
    {
     "data": {
      "text/plain": [
       "['Hirsova',\n",
       " 'Mehadia',\n",
       " 'Bucharest',\n",
       " 'Timisoara',\n",
       " 'Lugoj',\n",
       " 'Drobeta',\n",
       " 'Sibiu',\n",
       " 'Zerind',\n",
       " 'Arad',\n",
       " 'Urziceni',\n",
       " 'Pitesti',\n",
       " 'Vaslui',\n",
       " 'Giurgiu',\n",
       " 'Oradea',\n",
       " 'Eforie',\n",
       " 'Fagaras',\n",
       " 'Neamt',\n",
       " 'Craiova',\n",
       " 'Rimnicu',\n",
       " 'Iasi']"
      ]
     },
     "execution_count": 417,
     "metadata": {},
     "output_type": "execute_result"
    }
   ],
   "source": [
    "# Y lo resolvemos con escalada por máxima pendiente. \n",
    "hill_climbing(tsp)"
   ]
  },
  {
   "cell_type": "markdown",
   "metadata": {
    "id": "7dW3y4hp_cMy"
   },
   "source": [
    "### Ejercicio 1. Resuelve el problema TSP con el algoritmo de escalada por máxima pendiente en el mapa de ciudades de Rumanía y explica el resultado obtenido. \n",
    "\n",
    "Realiza varias ejecuciones y comenta razonadamente las propiedades del algoritmo: eficiencia y optimalidad en base a la ejecución.  ¿Ha encontrado el algoritmo el óptimo global? ¿Ha encontrado la misma solución en distintas ejecuciones?\n",
    "Sólo se pide hacer una comparativa teórica (breve) con cómo se comporta este algoritmo.\n",
    "Relacionarlo con otros algoritmos vistos en clase.\n"
   ]
  },
  {
   "cell_type": "markdown",
   "metadata": {
    "id": "rfY8flTh_cMz"
   },
   "source": [
    "Obviamente el óptimo global no se ha encontrado, de hecho la solución aportada es bastante mala. Se queda estancado en un óptimo demasiado local. En distintas ejecuciones se encuentran distintas soluciones.\n",
    "\n",
    "En el caso de la eficiencia, es mejor que los algoritmos de búsqueda y que refuerzo, pero perdemos mucha optimalidad. En comparación con los que veremos a continuación (enfriamiento simulado) es peor porque tiene un enfoque demasiado codicioso."
   ]
  },
  {
   "cell_type": "markdown",
   "metadata": {
    "id": "udQKoKI4_cM1"
   },
   "source": [
    "## Parte 2. Enfriamiento simulado ( simulated annealing) \n",
    "El algoritmo de enfriamiento simulado puede manejar las situaciones de óptimo local o mesetas típicas en algoritmos de escalada.\n",
    "<br>\n",
    "El enfriamiento simulado es bastante similar a la escalada pero en lugar de elegir el mejor movimiento en cada iteración, elige un movimiento aleatorio. Si este movimiento aleatorio nos acerca al óptimo global, será aceptado,\n",
    "pero si no lo hace, el algoritmo puede aceptar o rechazar el movimiento en función de una probabilidad dictada por la temperatura.  Cuando la `temperatura` es alta, es más probable que el algoritmo acepte un movimiento aleatorio incluso si es malo. A bajas temperaturas, solo se aceptan buenos movimientos, con alguna excepción ocasional.\n",
    "Esto permite la exploración del espacio de estado y evita que el algoritmo se atasque en el óptimo local.\n",
    "\n",
    "    Usaremos la implementación de AIMA del modulo search.py\n",
    "    \n",
    "    def simulated_annealing(problem, schedule=exp_schedule()):\n",
    "    \"\"\"[Figure 4.5] CAUTION: This differs from the pseudocode as it\n",
    "    returns a state instead of a Node.\"\"\"\n",
    "    current = Node(problem.initial)\n",
    "    for t in range(sys.maxsize):\n",
    "        T = schedule(t)\n",
    "        if T == 0:\n",
    "            return current.state\n",
    "        neighbors = current.expand(problem)\n",
    "        if not neighbors:\n",
    "            return current.state\n",
    "        next_choice = random.choice(neighbors)\n",
    "        delta_e = problem.value(next_choice.state) - problem.value(current.state)\n",
    "        if delta_e > 0 or probability(math.exp(delta_e / T)):\n",
    "            current = next_choice"
   ]
  },
  {
   "cell_type": "markdown",
   "metadata": {
    "id": "ncSOftL6_cM3"
   },
   "source": [
    "Como hemos visto en clase hay varios métodos de enfriamiento (scheduling routine) \n",
    "Se puede variar el método de enfriamiento. En la implementación actual estamos usando el método de enfriamiento exponencial (que se pasa como parámetro). \n",
    "\n",
    "    def exp_schedule(k=20, lam=0.005, limit=100):\n",
    "        \"\"\"One possible schedule function for simulated annealing\"\"\"\n",
    "        return lambda t: (k * math.exp(-lam * t) if t < limit else 0)"
   ]
  },
  {
   "cell_type": "markdown",
   "metadata": {
    "id": "qGEliXYl_cM4"
   },
   "source": [
    "Como ejemplo, vamos a definir un problema sencillo de encontrar el valor más alto en una rejilla. Este problema está definido en el módulo search.py como PeakFindingProblem. Lo reproducimos aquí y creamos una rejilla simple."
   ]
  },
  {
   "cell_type": "code",
   "execution_count": 418,
   "metadata": {
    "id": "mHuI82xE_cM5"
   },
   "outputs": [],
   "source": [
    "initial = (0, 0)\n",
    "grid = [[3, 7, 2, 8], [5, 2, 9, 1], [5, 3, 3, 1]]"
   ]
  },
  {
   "cell_type": "code",
   "execution_count": 419,
   "metadata": {
    "id": "EdVIMwBu_cM6"
   },
   "outputs": [],
   "source": [
    "# Pre-defined actions for PeakFindingProblem\n",
    "directions4 = { 'W':(-1, 0), 'N':(0, 1), 'E':(1, 0), 'S':(0, -1) }\n",
    "directions8 = dict(directions4) \n",
    "directions8.update({'NW':(-1, 1), 'NE':(1, 1), 'SE':(1, -1), 'SW':(-1, -1) })\n",
    "\n",
    "class PeakFindingProblem(Problem):\n",
    "    \"\"\"Problem of finding the highest peak in a limited grid\"\"\"\n",
    "\n",
    "    def __init__(self, initial, grid, defined_actions=directions4):\n",
    "        \"\"\"The grid is a 2 dimensional array/list whose state is specified by tuple of indices\"\"\"\n",
    "        Problem.__init__(self, initial)\n",
    "        self.grid = grid\n",
    "        self.defined_actions = defined_actions\n",
    "        self.n = len(grid)\n",
    "        assert self.n > 0\n",
    "        self.m = len(grid[0])\n",
    "        assert self.m > 0\n",
    "\n",
    "    def actions(self, state):\n",
    "        \"\"\"Returns the list of actions which are allowed to be taken from the given state\"\"\"\n",
    "        allowed_actions = []\n",
    "        for action in self.defined_actions:\n",
    "            next_state = vector_add(state, self.defined_actions[action])\n",
    "            if next_state[0] >= 0 and next_state[1] >= 0 and next_state[0] <= self.n - 1 and next_state[1] <= self.m - 1:\n",
    "                allowed_actions.append(action)\n",
    "\n",
    "        return allowed_actions\n",
    "\n",
    "    def result(self, state, action):\n",
    "        \"\"\"Moves in the direction specified by action\"\"\"\n",
    "        return vector_add(state, self.defined_actions[action])\n",
    "\n",
    "    def value(self, state):\n",
    "        \"\"\"Value of a state is the value it is the index to\"\"\"\n",
    "        x, y = state\n",
    "        assert 0 <= x < self.n\n",
    "        assert 0 <= y < self.m\n",
    "        return self.grid[x][y]\n"
   ]
  },
  {
   "cell_type": "code",
   "execution_count": 420,
   "metadata": {
    "id": "Dn9ofh8J_cM-"
   },
   "outputs": [],
   "source": [
    "problem = PeakFindingProblem(initial, grid, directions4)"
   ]
  },
  {
   "cell_type": "code",
   "execution_count": 421,
   "metadata": {
    "id": "NCYCJA6f_cM_",
    "outputId": "5204f958-b9c3-4c07-ba80-7683b02da45e"
   },
   "outputs": [
    {
     "data": {
      "text/plain": [
       "9"
      ]
     },
     "execution_count": 421,
     "metadata": {},
     "output_type": "execute_result"
    }
   ],
   "source": [
    "# Lo resolvemos con enfriamiento simulado\n",
    "\n",
    "solutions = {problem.value(simulated_annealing(problem)) for i in range(100)}\n",
    "max(solutions)"
   ]
  },
  {
   "cell_type": "code",
   "execution_count": 422,
   "metadata": {
    "id": "oGAavnoD_cNB",
    "outputId": "548b7dac-69e3-4a3f-f790-2dc9d9af1e69"
   },
   "outputs": [
    {
     "data": {
      "text/plain": [
       "2"
      ]
     },
     "execution_count": 422,
     "metadata": {},
     "output_type": "execute_result"
    }
   ],
   "source": [
    "problem.value(simulated_annealing(problem))"
   ]
  },
  {
   "cell_type": "code",
   "execution_count": 423,
   "metadata": {
    "id": "zjU0YITt_cNB"
   },
   "outputs": [],
   "source": [
    "def hill_climbing(problem):\n",
    "    \"\"\"From the initial node, keep choosing the neighbor with highest value,\n",
    "    stopping when no neighbor is better. [Figure 4.2]\"\"\"\n",
    "    current = Node(problem.initial)\n",
    "    while True:\n",
    "        neighbors = current.expand(problem)\n",
    "        if not neighbors:\n",
    "            break\n",
    "        neighbor = argmax_random_tie(neighbors,\n",
    "                                     key=lambda node: problem.value(node.state))\n",
    "        if problem.value(neighbor.state) <= problem.value(current.state):\n",
    "            break\n",
    "        current = neighbor\n",
    "    return current.state"
   ]
  },
  {
   "cell_type": "code",
   "execution_count": 424,
   "metadata": {
    "id": "Ymck6MFy_cNC",
    "outputId": "25169cf6-35a6-4ec7-ea52-94f16123e85f"
   },
   "outputs": [
    {
     "data": {
      "text/plain": [
       "7"
      ]
     },
     "execution_count": 424,
     "metadata": {},
     "output_type": "execute_result"
    }
   ],
   "source": [
    "solution = problem.value(hill_climbing(problem))\n",
    "solution"
   ]
  },
  {
   "cell_type": "markdown",
   "metadata": {
    "id": "QpLImziO_cNE"
   },
   "source": [
    "### Ejercicio 2.  Resuelve el problema anterior de encontrar el punto máximo en una rejilla. Comenta y razona los resultados obtenidos en distintas rejjillas con los algoritmos de enfriamiento simulado y escalada por máxima pendiente. \n",
    " \n",
    " \n",
    "Ejemplo de rejilla para pruebas\n",
    "\n",
    "grid = [[0.00, 0.00, 0.00, 0.00, 0.00, 0.00, 0.00, 0.00, 0.00],\n",
    "        [0.00, 0.00, 0.00, 0.00, 0.00, 0.00, 0.00, 0.00, 0.00],\n",
    "        [0.00, 0.00, 0.00, 0.40, 0.40, 0.00, 0.00, 0.00, 0.00],\n",
    "        [0.00, 0.00, 0.00, 0.00, 0.00, 0.00, 0.00, 0.70, 1.40],\n",
    "        [2.20, 1.80, 0.70, 0.00, 0.00, 0.00, 0.00, 0.00, 0.00],\n",
    "        [2.20, 1.80, 4.70, 6.50, 4.30, 1.80, 0.70, 0.00, 0.00],\n",
    "        [0.00, 0.00, 0.00, 0.00, 0.00, 0.00, 11.2, 0.70, 1.40],\n",
    "        [2.20, 1.80, 0.70, 0.00, 0.00, 9.00, 0.00, 0.00, 0.00],\n",
    "        [2.20, 1.80, 4.70, 6.50, 4.30, 1.80, 0.70, 0.00, 0.00],\n",
    "        [0.00, 0.00, 0.00, 0.00, 0.00, 0.00, 0.00, 0.70, 1.40],\n",
    "        [2.20, 1.80, 0.70, 0.00, 0.00, 0.00, 0.00, 0.00, 0.00],\n",
    "        [2.20, 1.80, 4.70, 8.50, 4.30, 1.80, 0.70, 0.00, 0.00]]\n"
   ]
  },
  {
   "cell_type": "code",
   "execution_count": 425,
   "metadata": {
    "id": "pajjZGdG_cNE"
   },
   "outputs": [],
   "source": [
    "initial = (0, 0)\n",
    "grid = [[0.00, 0.00, 0.00, 0.00, 0.00, 0.00, 0.00, 0.00, 0.00], [0.00, 0.00, 0.00, 0.00, 0.00, 0.00, 0.00, 0.00, 0.00], [0.00, 0.00, 0.00, 0.40, 0.40, 0.00, 0.00, 0.00, 0.00], [0.00, 0.00, 0.00, 0.00, 0.00, 0.00, 0.00, 0.70, 1.40], [2.20, 1.80, 0.70, 0.00, 0.00, 0.00, 0.00, 0.00, 0.00], [2.20, 1.80, 4.70, 6.50, 4.30, 1.80, 0.70, 0.00, 0.00], [0.00, 0.00, 0.00, 0.00, 0.00, 0.00, 11.2, 0.70, 1.40], [2.20, 1.80, 0.70, 0.00, 0.00, 9.00, 0.00, 0.00, 0.00], [2.20, 1.80, 4.70, 6.50, 4.30, 1.80, 0.70, 0.00, 0.00], [0.00, 0.00, 0.00, 0.00, 0.00, 0.00, 0.00, 0.70, 1.40], [2.20, 1.80, 0.70, 0.00, 0.00, 0.00, 0.00, 0.00, 0.00], [2.20, 1.80, 4.70, 8.50, 4.30, 1.80, 0.70, 0.00, 0.00]]"
   ]
  },
  {
   "cell_type": "code",
   "execution_count": 426,
   "metadata": {
    "id": "8uVNxi1N_cNF"
   },
   "outputs": [],
   "source": [
    "problem = PeakFindingProblem(initial, grid, directions4)"
   ]
  },
  {
   "cell_type": "code",
   "execution_count": 427,
   "metadata": {
    "id": "I8Uh7DYF_cNG",
    "outputId": "42313bc8-c9b7-4b69-b0b0-7d1ead20e702"
   },
   "outputs": [
    {
     "data": {
      "text/plain": [
       "11.2"
      ]
     },
     "execution_count": 427,
     "metadata": {},
     "output_type": "execute_result"
    }
   ],
   "source": [
    "solutions = {problem.value(simulated_annealing(problem)) for i in range(100)}\n",
    "max(solutions)"
   ]
  },
  {
   "cell_type": "code",
   "execution_count": 428,
   "metadata": {
    "id": "RWkMXdVw_cNH",
    "outputId": "27531767-0fdc-4ae0-a681-203edd957c7f"
   },
   "outputs": [
    {
     "data": {
      "text/plain": [
       "6.5"
      ]
     },
     "execution_count": 428,
     "metadata": {},
     "output_type": "execute_result"
    }
   ],
   "source": [
    "solutions = {problem.value(simulated_annealing(problem)) for i in range(12)}\n",
    "max(solutions)"
   ]
  },
  {
   "cell_type": "code",
   "execution_count": 429,
   "metadata": {
    "id": "1M_BIB6t_cNI",
    "outputId": "66d7d25f-b213-4073-cd5f-bdb75903ddae"
   },
   "outputs": [
    {
     "name": "stdout",
     "output_type": "stream",
     "text": [
      "Valores optimos encontrados 30\n",
      "Media 1.3366000000000022\n"
     ]
    }
   ],
   "source": [
    "cont =0\n",
    "total=0\n",
    "for i in range(1000):\n",
    "    valor = problem.value(simulated_annealing(problem))\n",
    "    if valor == 11.2:\n",
    "        cont +=1\n",
    "    total += valor\n",
    "print(\"Valores optimos encontrados \" + str(cont))\n",
    "print(\"Media \" + str(total/1000))"
   ]
  },
  {
   "cell_type": "markdown",
   "metadata": {
    "id": "XS6dM-kx_cNK"
   },
   "source": [
    "Observamos que si ejecutamos el algoritmo menos veces no encuentra una solución tan óptima como cuando ejecutamos mas veces.\n",
    "Hemos hecho un bucle que comprueba en cuantos casos encuentra ese máximo y para 1000 casos nos da una media de 28 ejecuciones donde\n",
    "lo encuentra. Por otro lado hemos calculado la media de las soluciones y vemos que dista bastante de la solución óptima, es decir, en general no obtendremos un buen resultado"
   ]
  },
  {
   "cell_type": "code",
   "execution_count": 430,
   "metadata": {
    "id": "HFA2I_6f_cNL",
    "outputId": "d99c01f0-778e-41c0-e1ee-4a1faea90731"
   },
   "outputs": [
    {
     "data": {
      "text/plain": [
       "0.0"
      ]
     },
     "execution_count": 430,
     "metadata": {},
     "output_type": "execute_result"
    }
   ],
   "source": [
    "solution = problem.value(hill_climbing(problem))\n",
    "solution"
   ]
  },
  {
   "cell_type": "markdown",
   "metadata": {
    "id": "ci4Nk_Oh_cNM"
   },
   "source": [
    "El algoritmo de escalada siempre da el mismo resultado, mientras que el de enfriamiento no. Esto se debe a que el de escalada ha encontrado un óptimo local y el otro depende de la temperatura."
   ]
  },
  {
   "cell_type": "markdown",
   "metadata": {
    "id": "RlvSS7Cf_cNM"
   },
   "source": [
    "## Parte 3. Algoritmos genéticos\n"
   ]
  },
  {
   "cell_type": "markdown",
   "metadata": {
    "id": "cZoX91Ug_cNN"
   },
   "source": [
    "Se define una clase ProblemaGenetico que incluye los elementos necesarios para la representación de un problema de optimización que se va a resolver con un algoritmo genético. Los elementos son los que hemos visto en clase:\n",
    "\n",
    " - genes: lista de genes usados en el genotipo de los estados.\n",
    " - longitud_individuos: longitud de los cromosomas\n",
    " - decodifica: función de obtiene el fenotipo a partir del genotipo.\n",
    " - fitness: función de valoración.\n",
    " - muta: función de mutación de un cromosoma \n",
    " - cruza: función de cruce de un par de cromosomas"
   ]
  },
  {
   "cell_type": "code",
   "execution_count": 431,
   "metadata": {
    "id": "6V5WBk-k_cNN"
   },
   "outputs": [],
   "source": [
    "import random"
   ]
  },
  {
   "cell_type": "code",
   "execution_count": 432,
   "metadata": {
    "id": "e5BxRtt6_cNO"
   },
   "outputs": [],
   "source": [
    "class ProblemaGenetico(object):\n",
    "        def __init__(self, genes,fun_dec,fun_muta , fun_cruza, fun_fitness,longitud_individuos):\n",
    "            self.genes = genes\n",
    "            self.fun_dec = fun_dec\n",
    "            self.fun_cruza = fun_cruza\n",
    "            self.fun_muta = fun_muta\n",
    "            self.fun_fitness = fun_fitness\n",
    "            self.longitud_individuos = longitud_individuos\n",
    "            \"\"\"Constructor de la clase\"\"\"\n",
    "                \n",
    "        def decodifica(self, genotipo):\n",
    "            \"\"\"Devuelve el fenotipo a partir del genotipo\"\"\"\n",
    "            fenotipo = self.fun_dec(genotipo)\n",
    "            return fenotipo\n",
    "        def muta(self, cromosoma,prob):\n",
    "            \"\"\"Devuelve el cromosoma mutado\"\"\"   \n",
    "            mutante = self.fun_muta(cromosoma,prob)\n",
    "            return mutante\n",
    "        def cruza(self, cromosoma1, cromosoma2):         \n",
    "            \"\"\"Devuelve el cruce de un par de cromosomas\"\"\"\n",
    "            cruce = self.fun_cruza(cromosoma1,cromosoma2)\n",
    "            return cruce \n",
    "        def fitness(self, cromosoma):    \n",
    "            \"\"\"Función de valoración\"\"\"\n",
    "            valoracion = self.fun_fitness(cromosoma)\n",
    "            return valoracion"
   ]
  },
  {
   "cell_type": "markdown",
   "metadata": {
    "id": "jX0_2aEs_cNP"
   },
   "source": [
    "En primer lugar vamos a definir una instancia de la clase anterior correspondiente al problema de optimizar (maximizar o minimizar) la función cuadrado x^2 en el conjunto de los números naturales menores que 2^{10}.\n",
    "Se usa este ejemplo (del que sabemos la solución) para ver todos los elementos y poder observar el comportamiento del algoritmo genético. "
   ]
  },
  {
   "cell_type": "code",
   "execution_count": 433,
   "metadata": {
    "id": "4thJ6_RS_cNR"
   },
   "outputs": [],
   "source": [
    "# Será necesaria la siguiente función que interpreta una lista de 0's y 1's como un número natural:  \n",
    "# La siguiente función que interpreta una lista de 0's y 1's como\n",
    "# un número natural:  \n",
    "\n",
    "def binario_a_decimal(x):\n",
    "    x=x[::-1]\n",
    "    return sum(b*(2**i) for (i,b) in enumerate(x)) "
   ]
  },
  {
   "cell_type": "code",
   "execution_count": 434,
   "metadata": {
    "id": "9V3c2wBh_cNS",
    "outputId": "86d59fd9-4f9d-49b3-ae05-dc6ff9328d43"
   },
   "outputs": [
    {
     "data": {
      "text/plain": [
       "14"
      ]
     },
     "execution_count": 434,
     "metadata": {},
     "output_type": "execute_result"
    }
   ],
   "source": [
    "binario_a_decimal((1,1,1,0))"
   ]
  },
  {
   "cell_type": "code",
   "execution_count": 435,
   "metadata": {
    "id": "FAyXZ4eg_cNU"
   },
   "outputs": [],
   "source": [
    "# En primer luegar usaremos la clase anterior para representar el problema de optimizar (maximizar o minimizar)\n",
    "# la función cuadrado en el conjunto de los números naturales menores que\n",
    "# 2^{10}.\n",
    "\n",
    "# Tenemos que definir funciones de cruce, mutación y fitness para este problema.\n",
    "\n",
    "def fun_cruzar(cromosoma1, cromosoma2):\n",
    "    \"\"\"Cruza los cromosomas por la mitad\"\"\"\n",
    "    l1 = len(cromosoma1)\n",
    "    l2 = len(cromosoma2)\n",
    "    cruce1 = cromosoma1[0:l1//2]+cromosoma2[l1//2:l2]\n",
    "    cruce2 = cromosoma2[0:l2//2]+cromosoma1[l2//2:l1]\n",
    "    return [cruce1,cruce2]\n",
    "\n",
    "def fun_mutar(cromosoma,prob):\n",
    "    \"\"\"Elige un elemento al azar del cromosoma y lo modifica con una probabilidad igual a prob\"\"\"\n",
    "    l = len(cromosoma)\n",
    "    p = random.randint(0,l-1)\n",
    "    if prob > random.uniform(0,1):\n",
    "        cromosoma[p] =  (cromosoma[p]+1)%2\n",
    "    return cromosoma\n",
    "\n",
    "def fun_fitness_cuad(cromosoma):\n",
    "    \"\"\"Función de valoración que eleva al cuadrado el número recibido en binario\"\"\"\n",
    "    n = binario_a_decimal(cromosoma)**2\n",
    "    return n\n",
    "\n",
    "cuadrados = ProblemaGenetico([0,1],binario_a_decimal,fun_mutar, fun_cruzar, fun_fitness_cuad,10)"
   ]
  },
  {
   "cell_type": "markdown",
   "metadata": {
    "id": "qvx2UUmY_cNW"
   },
   "source": [
    "Una vez definida la instancia cuadrados que representa el problema genético, probar alguna de las funciones definidas en la clase anterior, para esta instancia concreta. Por ejemplo:"
   ]
  },
  {
   "cell_type": "code",
   "execution_count": 436,
   "metadata": {
    "id": "jDaE_1-B_cNY",
    "outputId": "914c96e8-15ed-4f1e-b9ce-b9059ec500bc"
   },
   "outputs": [
    {
     "data": {
      "text/plain": [
       "1125"
      ]
     },
     "execution_count": 436,
     "metadata": {},
     "output_type": "execute_result"
    }
   ],
   "source": [
    "cuadrados.decodifica([1,0,0,0,1,1,0,0,1,0,1])\n",
    "# Salida esperada: 1125"
   ]
  },
  {
   "cell_type": "code",
   "execution_count": 437,
   "metadata": {
    "id": "eO78poc6_cNa",
    "outputId": "c88f7053-2e72-4531-8ee1-77072f3fe485"
   },
   "outputs": [
    {
     "data": {
      "text/plain": [
       "1265625"
      ]
     },
     "execution_count": 437,
     "metadata": {},
     "output_type": "execute_result"
    }
   ],
   "source": [
    "cuadrados.fitness([1,0,0,0,1,1,0,0,1,0,1])\n",
    "# Salida esperada: 1265625"
   ]
  },
  {
   "cell_type": "code",
   "execution_count": 438,
   "metadata": {
    "id": "fNex_nwF_cNc",
    "outputId": "18c8b5c3-d333-4a1f-c4fb-c5eed0831d76"
   },
   "outputs": [
    {
     "data": {
      "text/plain": [
       "[1, 0, 0, 0, 1, 1, 0, 0, 1, 0, 1]"
      ]
     },
     "execution_count": 438,
     "metadata": {},
     "output_type": "execute_result"
    }
   ],
   "source": [
    "cuadrados.muta([1,0,0,0,1,1,0,0,1,0,1],0.1)\n",
    "# Posible salida: [1, 0, 0, 0, 1, 1, 0, 0, 1, 0, 1]"
   ]
  },
  {
   "cell_type": "code",
   "execution_count": 439,
   "metadata": {
    "id": "27fhcwAy_cNc",
    "outputId": "2aa265c3-e8c7-4717-d046-98e264e6c410"
   },
   "outputs": [
    {
     "data": {
      "text/plain": [
       "[1, 0, 0, 0, 1, 1, 0, 0, 1, 0, 1]"
      ]
     },
     "execution_count": 439,
     "metadata": {},
     "output_type": "execute_result"
    }
   ],
   "source": [
    "cuadrados.muta([1,0,0,0,1,1,0,0,1,0,1],0.1)\n",
    "# Posible salida: [0, 0, 0, 0, 1, 1, 0, 0, 1, 0, 1]"
   ]
  },
  {
   "cell_type": "code",
   "execution_count": 440,
   "metadata": {
    "id": "g1vy4NOc_cNd",
    "outputId": "4af2308d-04d0-43f2-db05-6cf641141948"
   },
   "outputs": [
    {
     "data": {
      "text/plain": [
       "[[1, 0, 0, 0, 1, 0, 0, 1, 1, 1], [0, 1, 1, 0, 1, 1, 0, 0, 1, 0, 1]]"
      ]
     },
     "execution_count": 440,
     "metadata": {},
     "output_type": "execute_result"
    }
   ],
   "source": [
    "cuadrados.cruza([1,0,0,0,1,1,0,0,1,0,1],[0,1,1,0,1,0,0,1,1,1])\n",
    "# Posible salida: [[1, 0, 0, 0, 1, 0, 0, 1, 1, 1], [0, 1, 1, 0, 1, 1, 0, 0, 1, 0, 1]]"
   ]
  },
  {
   "cell_type": "markdown",
   "metadata": {
    "id": "VYCQ-Nox_cNe"
   },
   "source": [
    "### Ejercicio 3\n",
    "\n",
    "   - Definir una función poblacion_inicial(problema_genetico,tamaño), para definir una población inicial de un tamaño dado, para una instancia dada de la clase anterior ProblemaGenetico\n",
    "\n",
    "sugerencia: usar random.choice\n",
    "\n",
    "   - Definir una función de cruce que recibe una instancia de Problema_Genetico y una población de padres (supondremos que hay un número par de padres), obtiene la población resultante de cruzarlos de dos en dos (en el orden en que aparecen)\n",
    "\n",
    "cruza_padres(problema_genetico,padres)\n",
    "\n",
    "   - Definir la función de mutación que recibe una instancia de Problema_Genetico, una población y una probabilidad de mutación, obtiene la población resultante de aplicar operaciones de mutación a cada individuo llamando a la función muta definida para el problema genético.\n",
    "muta_individuos(problema_genetico, poblacion, prob)"
   ]
  },
  {
   "cell_type": "code",
   "execution_count": 441,
   "metadata": {
    "id": "63xrNWZb_cNf"
   },
   "outputs": [],
   "source": [
    "def decimal_to_binary(decimal, tam):\n",
    "    l = list()\n",
    "    for i in range(tam):\n",
    "        if decimal % 2 == 0:\n",
    "            l =[0] + l\n",
    "        else:\n",
    "            l= [1] +l \n",
    "        decimal //=2\n",
    "    return l"
   ]
  },
  {
   "cell_type": "code",
   "execution_count": 442,
   "metadata": {
    "id": "KaPoVXOT_cNf",
    "outputId": "106783ce-870e-4436-98c1-e45ef3ed7de8"
   },
   "outputs": [
    {
     "data": {
      "text/plain": [
       "[0, 0, 0, 0, 0, 0, 0, 1, 1, 1]"
      ]
     },
     "execution_count": 442,
     "metadata": {},
     "output_type": "execute_result"
    }
   ],
   "source": [
    "decimal_to_binary(7,10)"
   ]
  },
  {
   "cell_type": "code",
   "execution_count": 443,
   "metadata": {
    "id": "CxBFLBOM_cNg"
   },
   "outputs": [],
   "source": [
    "#Definimos la función población_inicial. Usamos la función decimal_to_binary y vamos añadiendo a la lista números aleatorios\n",
    "#para inicializar la población inicial.\n",
    "\n",
    "def poblacion_inicial(problema_genetico, size):\n",
    "    nums = list(range(2**10))\n",
    "    l=list()\n",
    "    for j in range(size):\n",
    "        l = l + [decimal_to_binary(random.choice(nums), problema_genetico.longitud_individuos)]\n",
    "\n",
    "    return l"
   ]
  },
  {
   "cell_type": "code",
   "execution_count": 444,
   "metadata": {
    "id": "w6eX3L-w_cNh",
    "outputId": "19040233-e105-4d1b-a7cf-d017e0a000d2"
   },
   "outputs": [
    {
     "data": {
      "text/plain": [
       "[[0, 1, 0, 1, 0, 0, 0, 0, 0, 0],\n",
       " [0, 0, 1, 1, 0, 0, 1, 0, 1, 0],\n",
       " [0, 0, 1, 1, 0, 0, 1, 1, 1, 0],\n",
       " [0, 0, 1, 0, 0, 0, 0, 0, 1, 0],\n",
       " [0, 0, 0, 1, 0, 1, 0, 0, 0, 0],\n",
       " [0, 1, 1, 1, 0, 0, 0, 1, 1, 1],\n",
       " [1, 0, 0, 1, 1, 1, 1, 1, 1, 0],\n",
       " [0, 0, 1, 1, 1, 0, 0, 1, 0, 1],\n",
       " [1, 1, 1, 1, 1, 0, 0, 0, 0, 1],\n",
       " [0, 1, 0, 0, 1, 0, 0, 1, 0, 0]]"
      ]
     },
     "execution_count": 444,
     "metadata": {},
     "output_type": "execute_result"
    }
   ],
   "source": [
    "poblacion_inicial(cuadrados,10)"
   ]
  },
  {
   "cell_type": "code",
   "execution_count": 445,
   "metadata": {
    "id": "OGVlI74e_cNi"
   },
   "outputs": [],
   "source": [
    "def cruza_padres(problema_genetico,padres):\n",
    "    l = []\n",
    "    for i in range(len(padres)//2):\n",
    "        l  = l + problema_genetico.cruza(padres[2*i], padres[(2*i)+1])\n",
    "    return l"
   ]
  },
  {
   "cell_type": "code",
   "execution_count": 446,
   "metadata": {
    "id": "O6Twpb5b_cNk",
    "outputId": "aed9b25f-6862-4028-80b1-31959a4f2566"
   },
   "outputs": [
    {
     "data": {
      "text/plain": [
       "[[1, 1, 0, 1, 0, 0, 1, 0, 1, 1],\n",
       " [0, 1, 0, 1, 0, 1, 0, 0, 0, 1],\n",
       " [0, 0, 1, 0, 0, 1, 1, 1, 1, 0],\n",
       " [0, 0, 1, 1, 1, 0, 1, 1, 1, 0],\n",
       " [0, 1, 1, 0, 0, 0, 1, 1, 0, 1],\n",
       " [1, 0, 1, 1, 1, 0, 0, 0, 0, 0]]"
      ]
     },
     "execution_count": 446,
     "metadata": {},
     "output_type": "execute_result"
    }
   ],
   "source": [
    "p1 = [[1, 1, 0, 1, 0, 1, 0, 0, 0, 1],\n",
    "      [0, 1, 0, 1, 0, 0, 1, 0, 1, 1],\n",
    "      [0, 0, 1, 0, 0, 0, 1, 1, 1, 0],\n",
    "      [0, 0, 1, 1, 1, 1, 1, 1, 1, 0],\n",
    "      [0, 1, 1, 0, 0, 0, 0, 0, 0, 0],\n",
    "      [1, 0, 1, 1, 1, 0, 1, 1, 0, 1]]\n",
    "\n",
    "cruza_padres(cuadrados,p1)\n",
    "# Posible salida\n",
    "# [[1, 1, 0, 1, 0, 0, 1, 0, 1, 1],\n",
    "#  [0, 1, 0, 1, 0, 1, 0, 0, 0, 1],\n",
    "#  [0, 0, 1, 1, 1, 1, 1, 1, 1, 0],\n",
    "#  [0, 0, 1, 0, 0, 0, 1, 1, 1, 0],\n",
    "#  [0, 1, 1, 1, 1, 0, 1, 1, 0, 1],\n",
    "#  [1, 0, 1, 0, 0, 0, 0, 0, 0, 0]]"
   ]
  },
  {
   "cell_type": "code",
   "execution_count": 447,
   "metadata": {
    "id": "k2-N0t3E_cNm"
   },
   "outputs": [],
   "source": [
    "def muta_individuos(problema_genetico, poblacion, prob):\n",
    "    # hay que llamar a  problema_genetico.muta(x,prob) para todos los individuos de la poblacion.\n",
    "    for i in range(len(poblacion)): \n",
    "        poblacion[i] = problema_genetico.muta(poblacion[i],prob)\n",
    "    return poblacion"
   ]
  },
  {
   "cell_type": "code",
   "execution_count": 448,
   "metadata": {
    "id": "7dZV4lZl_cNm",
    "outputId": "25a0908d-574a-4510-eced-5d7c000153fe",
    "scrolled": true
   },
   "outputs": [
    {
     "data": {
      "text/plain": [
       "[[1, 1, 0, 1, 0, 1, 0, 0, 0, 0],\n",
       " [0, 1, 0, 1, 0, 0, 1, 0, 1, 1],\n",
       " [0, 0, 1, 0, 0, 0, 1, 1, 1, 0],\n",
       " [0, 0, 1, 1, 1, 1, 1, 1, 1, 0],\n",
       " [0, 1, 1, 0, 0, 0, 1, 0, 0, 0],\n",
       " [1, 1, 1, 1, 1, 0, 1, 1, 0, 1]]"
      ]
     },
     "execution_count": 448,
     "metadata": {},
     "output_type": "execute_result"
    }
   ],
   "source": [
    "muta_individuos(cuadrados,p1,0.5)\n",
    "# Posible salida:\n",
    "#  [[1, 1, 0, 1, 0, 1, 0, 0, 0, 1],\n",
    "#   [0, 1, 0, 1, 0, 0, 1, 0, 0, 1],\n",
    "#   [0, 0, 1, 0, 0, 0, 1, 0, 1, 0],\n",
    "#   [0, 0, 1, 1, 1, 1, 1, 1, 1, 0],\n",
    "#   [0, 1, 0, 0, 0, 0, 0, 0, 0, 0],\n",
    "#   [1, 0, 1, 1, 1, 0, 1, 1, 0, 1]]"
   ]
  },
  {
   "cell_type": "code",
   "execution_count": 449,
   "metadata": {
    "id": "cK0ruSaW_cNn"
   },
   "outputs": [],
   "source": [
    "p1 = [[1, 1, 0, 1, 0, 1, 0, 0, 0, 1],\n",
    "      [0, 1, 0, 1, 0, 0, 1, 0, 1, 1],\n",
    "      [0, 0, 1, 0, 0, 0, 1, 1, 1, 0],\n",
    "      [0, 0, 1, 1, 1, 1, 1, 1, 1, 0],\n",
    "      [0, 1, 1, 0, 0, 0, 0, 0, 0, 0],\n",
    "      [1, 0, 1, 1, 1, 0, 1, 1, 0, 1]]"
   ]
  },
  {
   "cell_type": "code",
   "execution_count": 450,
   "metadata": {
    "id": "lsN9OJd4_cNo",
    "outputId": "68ddfaed-81fe-4ff6-acf7-771d80afe0ef"
   },
   "outputs": [
    {
     "data": {
      "text/plain": [
       "[[1, 1, 0, 0, 0, 1, 0, 0, 0, 1],\n",
       " [0, 1, 0, 1, 0, 0, 1, 0, 1, 1],\n",
       " [0, 0, 1, 1, 0, 0, 1, 1, 1, 0],\n",
       " [0, 0, 1, 1, 1, 1, 1, 1, 1, 0],\n",
       " [1, 1, 1, 0, 0, 0, 0, 0, 0, 0],\n",
       " [1, 0, 1, 1, 1, 0, 1, 1, 1, 1]]"
      ]
     },
     "execution_count": 450,
     "metadata": {},
     "output_type": "execute_result"
    }
   ],
   "source": [
    "muta_individuos(cuadrados,p1,0.5)"
   ]
  },
  {
   "cell_type": "markdown",
   "metadata": {
    "id": "Sp-fJ4WW_cNp"
   },
   "source": [
    "Vamos a definir una función de selección mediante torneo de n individuos de una población.  \n",
    "La función recibe como entrada:\n",
    " - una instancia de la clase ProblemaGenetico\n",
    " - una población\n",
    " - el número n de individuos que vamos a seleccionar\n",
    " - el número k de participantes en el torneo\n",
    " - un valor opt que puede ser o la función max o la función min (dependiendo de si el problema es de maximización o de minimización, resp.).\n",
    "\n",
    "seleccion\\_por\\_torneo(problema_genetico,poblacion,n,k,opt) \n",
    "\n",
    "Usar random.sample para seleccionar k elementos de una secuencia. \n",
    "Por ejemplo, random.sample(population=[2,5,7,8,9], k=3) devuelve [7,5,8]. "
   ]
  },
  {
   "cell_type": "code",
   "execution_count": 451,
   "metadata": {
    "id": "buLlPkOY_cNp"
   },
   "outputs": [],
   "source": [
    "def seleccion_por_torneo(problema_genetico, poblacion, n, k, opt):\n",
    "    \"\"\"Selección por torneo de n individuos de una población. Siendo k el nº de participantes\n",
    "        y opt la función max o min.\"\"\"\n",
    "    seleccionados = []\n",
    "    for i in range(n):\n",
    "        participantes = random.sample(poblacion,k)\n",
    "        seleccionado = opt(participantes, key=problema_genetico.fitness)\n",
    "        opt(poblacion, key=problema_genetico.fitness)\n",
    "        seleccionados.append(seleccionado)\n",
    "        # poblacion.remove(seleccionado)\n",
    "    return seleccionados  "
   ]
  },
  {
   "cell_type": "code",
   "execution_count": 452,
   "metadata": {
    "id": "uanpbOWC_cNq",
    "outputId": "90f9ce16-29f2-479d-f9a5-44509510824a"
   },
   "outputs": [
    {
     "data": {
      "text/plain": [
       "[[1, 1, 1, 1, 1, 1, 1, 1, 1, 1],\n",
       " [1, 1, 1, 1, 1, 1, 1, 1, 1, 1],\n",
       " [1, 1, 1, 1, 1, 1, 1, 1, 1, 1]]"
      ]
     },
     "execution_count": 452,
     "metadata": {},
     "output_type": "execute_result"
    }
   ],
   "source": [
    "#Ejemplo\n",
    "seleccion_por_torneo(cuadrados, poblacion_inicial(cuadrados,8),3,6,max)\n",
    "# Posible salida: [[1, 1, 1, 1, 1, 0, 0, 0, 1, 1], [1, 0, 0, 1, 1, 1, 0, 1, 0, 1], [1, 1, 1, 1, 0, 1, 1, 1, 0, 1]]\n"
   ]
  },
  {
   "cell_type": "code",
   "execution_count": 453,
   "metadata": {
    "id": "W1W2cGQp_cNr",
    "outputId": "cb5f342f-bfed-4f5b-deb4-4a616b794d1b"
   },
   "outputs": [
    {
     "data": {
      "text/plain": [
       "[[0, 0, 1, 0, 0, 0, 1, 1, 1, 0],\n",
       " [0, 0, 1, 0, 1, 1, 1, 0, 1, 1],\n",
       " [0, 0, 1, 0, 0, 0, 1, 1, 1, 0]]"
      ]
     },
     "execution_count": 453,
     "metadata": {},
     "output_type": "execute_result"
    }
   ],
   "source": [
    "seleccion_por_torneo(cuadrados, poblacion_inicial(cuadrados,8),3,6,min)\n",
    "# [[0, 0, 1, 1, 0, 1, 1, 0, 0, 0], [1, 0, 1, 0, 1, 1, 1, 0, 0, 0], [1, 1, 0, 1, 0, 0, 1, 0, 1, 0]]"
   ]
  },
  {
   "cell_type": "code",
   "execution_count": 454,
   "metadata": {
    "id": "vkTMn5vY_cNs"
   },
   "outputs": [],
   "source": [
    "# La siguiente función implementa una posibilidad para el algoritmo genético completo: \n",
    "# inicializa t = 0 \n",
    "# Generar y evaluar la Población P(t)\n",
    "# Mientras no hemos llegado al número de generaciones fijado:  t < nGen\n",
    "#    P1 = Selección por torneo de (1-size)·p individuos de P(t)\n",
    "#    P2 = Selección por torneo de (size·p) individuos de P(t)\n",
    "#    Aplicar cruce en la población P2\n",
    "#    P4 = Union de P1 y P3\n",
    "#    P(t+1) := Aplicar mutación P4 \n",
    "#    Evalua la población P(t+1) \n",
    "#    t:= t+1\n",
    "        \n",
    "# Sus argumentos son:\n",
    "# problema_genetico: una instancia de la clase ProblemaGenetico con la representación adecuada del problema de optimización \n",
    "# que se quiere resolver.\n",
    "# k: número de participantes en los torneos de selección.\n",
    "# opt: max ó min, dependiendo si el problema es de maximización o de minimización. \n",
    "# nGen: número de generaciones (que se usa como condición de terminación)\n",
    "# size: número de individuos en cada generación\n",
    "# prop_cruce: proporción del total de la población que serán padres. \n",
    "# prob_mutación: probabilidad de realizar una mutación de un gen.\n",
    "### fun_poblacion_inicial: funcion que genera la poblacion inicial\n",
    "\n",
    "def algoritmo_genetico(problema_genetico,k,opt,ngen,size,prop_cruces,prob_mutar,fun_poblacion_inicial):\n",
    "    poblacion= fun_poblacion_inicial(problema_genetico,size)\n",
    "    n_padres=round(size*prop_cruces)\n",
    "    n_padres= int (n_padres if n_padres%2==0 else n_padres-1)\n",
    "    n_directos = size-n_padres\n",
    "    for i in range(ngen):\n",
    "        clear_output()\n",
    "        print(\"Generacion \" + str(i))\n",
    "        poblacion= nueva_generacion(problema_genetico,k,opt,poblacion,n_padres, n_directos,prob_mutar)\n",
    "        \n",
    "\n",
    "    mejor_cr= opt(poblacion, key=problema_genetico.fitness)\n",
    "    mejor=problema_genetico.decodifica(mejor_cr)\n",
    "    return (mejor,problema_genetico.fitness(mejor_cr)) \n"
   ]
  },
  {
   "cell_type": "markdown",
   "metadata": {
    "id": "NtGJ78b8_cNt"
   },
   "source": [
    "Necesitarás definir la función auxiliar nueva_generacion(problema_genetico,poblacion,n_padres,n_directos,prob_mutar) que dada una población calcula la siguiente generación."
   ]
  },
  {
   "cell_type": "code",
   "execution_count": 455,
   "metadata": {
    "id": "i1BCzdNm_cNu"
   },
   "outputs": [],
   "source": [
    "#Definir la función nueva_generacion\n",
    "\n",
    "def nueva_generacion(problema_genetico, k,opt, poblacion, n_padres, n_directos, prob_mutar):\n",
    "    padres2 = seleccion_por_torneo(problema_genetico, poblacion, n_directos, k,opt) \n",
    "    padres1 = seleccion_por_torneo(problema_genetico, poblacion, n_padres , k, opt)\n",
    "    \n",
    "    cruces =  cruza_padres(problema_genetico,padres1)\n",
    "    \n",
    "    generacion = padres2+cruces\n",
    "    \n",
    "    resultado_mutaciones = muta_individuos(problema_genetico, generacion, prob_mutar)\n",
    "    \n",
    "    return resultado_mutaciones\n",
    "\n"
   ]
  },
  {
   "cell_type": "markdown",
   "metadata": {
    "id": "2T58C8tu_cNu"
   },
   "source": [
    "### Ejercicio 4.  Ejecutar el algoritmo genético anterior, para resolver el problema anterior (tanto en minimización como en maximización).  \n",
    "Hacer una valoración de resultados y comentarios sobre el comportamiento del algoritmmo. \n",
    "En la resolución del problema hay que tener en cuenta que el algoritmo genético devuelve un par con el mejor fenotipo encontrado y su valoración."
   ]
  },
  {
   "cell_type": "code",
   "execution_count": 456,
   "metadata": {
    "id": "IxwAEerf_cNv",
    "outputId": "62bcefca-7e68-4c46-aeb5-454fb5672d1e"
   },
   "outputs": [
    {
     "name": "stdout",
     "output_type": "stream",
     "text": [
      "Generacion 19\n"
     ]
    },
    {
     "data": {
      "text/plain": [
       "(34, 1156)"
      ]
     },
     "execution_count": 456,
     "metadata": {},
     "output_type": "execute_result"
    }
   ],
   "source": [
    "algoritmo_genetico(cuadrados,3,min,20,10,0.7,0.1, poblacion_inicial)\n",
    "# Salida esperada: (0, 0)"
   ]
  },
  {
   "cell_type": "code",
   "execution_count": 457,
   "metadata": {
    "id": "QRV7zwb9_cNw",
    "outputId": "20f66276-402c-44fd-dbbe-60b92da50566"
   },
   "outputs": [
    {
     "name": "stdout",
     "output_type": "stream",
     "text": [
      "Generacion 19\n"
     ]
    },
    {
     "data": {
      "text/plain": [
       "(1017, 1034289)"
      ]
     },
     "execution_count": 457,
     "metadata": {},
     "output_type": "execute_result"
    }
   ],
   "source": [
    "algoritmo_genetico(cuadrados,3,max,20,10,0.7,0.1, poblacion_inicial)\n",
    "# Salida esperada: (1023, 1046529)"
   ]
  },
  {
   "cell_type": "markdown",
   "metadata": {
    "id": "j2tPjBrS_cNy"
   },
   "source": [
    "##  El problema de la mochila "
   ]
  },
  {
   "cell_type": "markdown",
   "metadata": {
    "id": "PBiuKmN8_cNz"
   },
   "source": [
    "Se plantea el típico problema de la mochila en el que dados n objetos de pesos conocidos pi y valor vi (i=1,...,n) hay que elegir cuáles se meten en una mochila que soporta un peso P máximo. La selección debe hacerse de forma que se máximice el valor de los objetos introducidos sin superar el peso máximo."
   ]
  },
  {
   "cell_type": "markdown",
   "metadata": {
    "id": "IHjBd8nV_cN0"
   },
   "source": [
    "### Ejercicio 5\n",
    "\n",
    "Se pide definir la representación del problema de la mochila usando genes [0,1] y longitud de los individuos n.\n",
    "Los valores 1 ó 0 representan, respectivamente, si el objeto se introduce o no en la mochila Tomados de izquerda a derecha, a partir del primero que no cabe, se consideran  todos fuera de la mochila,independientemente del gen en su posición. De esta manera, todos los individuos representan candidatos válidos.\n",
    "\n",
    "El numero de objetos n determina la longitud de los individuos de la población.\n",
    "En primer lugar es necesario definir una función de decodificación de la mochila que recibe como entrada:\n",
    "* un cromosoma (en este caso, una lista de 0s y 1s, de longitud igual a n_objetos) \n",
    "* n: número total de objetos de la mochila\n",
    "* pesos: una lista con los pesos de los objetos\n",
    "* capacidad: peso máximo de la mochila.\n",
    "La función decodifica recibe (cromosoma, n, pesos, capacidad) y devuelve una lista de 0s y 1s que indique qué objetos están en la mochila y cuáles no (el objeto i está en la mochila si y sólo si en la posición i-ésima de la lista hay un 1). Esta lista se obtendrá a partir del cromosoma, pero teniendo en cuenta que a partir del primer objeto que no quepa, éste y los siguientes se consideran fuera de la mochila, independientemente del valor que haya en su correspondiente posición de cromosoma. "
   ]
  },
  {
   "cell_type": "code",
   "execution_count": 458,
   "metadata": {
    "id": "zufUYo_9_cN2"
   },
   "outputs": [],
   "source": [
    "def decodifica_mochila(cromosoma, n, pesos, capacidad):\n",
    "    peso_en_mochila = 0\n",
    "    l = []\n",
    "    for i in range(n):\n",
    "        if cromosoma[i] == 1 and peso_en_mochila + pesos[i] <= capacidad:\n",
    "            l.append(1)\n",
    "            peso_en_mochila += pesos[i]\n",
    "        elif cromosoma[i]== 0 or peso_en_mochila + pesos[i] > capacidad:\n",
    "            l.append(0)\n",
    "    return l "
   ]
  },
  {
   "cell_type": "code",
   "execution_count": 459,
   "metadata": {
    "id": "JD2PIXzt_cN3",
    "outputId": "935afad9-15a8-453f-ac99-b93797cd8bbb"
   },
   "outputs": [
    {
     "data": {
      "text/plain": [
       "[1, 1, 0, 0, 0]"
      ]
     },
     "execution_count": 459,
     "metadata": {},
     "output_type": "execute_result"
    }
   ],
   "source": [
    "decodifica_mochila([1,1,1,1,1], 5, [2,3,4,5,1], 5)"
   ]
  },
  {
   "cell_type": "markdown",
   "metadata": {
    "id": "1xXZ3zQn_cN4"
   },
   "source": [
    "Para definir la función de evaluación (fitness) necesitamos calcular el valor total de los objetos que están dentro de la mochila que representa el cromosoma según la codificación utilizada en la función anterior. \n",
    "\n",
    "Se pide la función fitness (cromosoma, n_objetos, pesos, capacidad, valores) donde los parámetros son los mismos que en la función anterior, y valores es la lista de los valores de cada objeto\n",
    "\n",
    "fitness(cromosoma, n_objetos, pesos, capacidad, valores)\n",
    "\n",
    "Ejemplo de uso:\n",
    "   fitness([1,1,1,1], 4, [2,3,4,5], 4, [7,1,4,5])\n",
    "   7"
   ]
  },
  {
   "cell_type": "code",
   "execution_count": 460,
   "metadata": {
    "id": "bKUV1Ydp_cN5",
    "outputId": "23ec2dbc-90a8-4182-a231-4ea968606831"
   },
   "outputs": [],
   "source": [
    "def fitness_mochila(cromosoma, n_objetos, pesos, capacidad, valores):\n",
    "    return valor"
   ]
  },
  {
   "cell_type": "code",
   "execution_count": 461,
   "metadata": {
    "id": "C3bIQPO__cN8"
   },
   "outputs": [
    {
     "data": {
      "text/plain": [
       "8.5"
      ]
     },
     "execution_count": 461,
     "metadata": {},
     "output_type": "execute_result"
    }
   ],
   "source": [
    "fitness_mochila([1,1,1,1], 4, [2,3,4,5], 4, [7,1,4,5])"
   ]
  },
  {
   "cell_type": "markdown",
   "metadata": {
    "id": "e-SEzdZo_cN8"
   },
   "source": [
    "Damos tres instancias concretas del problema de la mochila. Damos también sus soluciones optimas, para que se puedan comparar con los resultados obtenidos por el algoritmo genético:"
   ]
  },
  {
   "cell_type": "code",
   "execution_count": 462,
   "metadata": {
    "id": "0hsfZhsU_cN9"
   },
   "outputs": [],
   "source": [
    "# Problema de la mochila 1:\n",
    "# 10 objetos, peso máximo 165\n",
    "pesos1 = [23,31,29,44,53,38,63,85,89,82]\n",
    "valores1 = [92,57,49,68,60,43,67,84,87,72]\n",
    "\n",
    "# Solución óptima= [1,1,1,1,0,1,0,0,0,0], con valor 309"
   ]
  },
  {
   "cell_type": "code",
   "execution_count": 463,
   "metadata": {
    "id": "-Xb9TA1T_cN-"
   },
   "outputs": [],
   "source": [
    "# Problema de la mochila 2:\n",
    "# 15 objetos, peso máximo 750\n",
    "\n",
    "pesos2 = [70,73,77,80,82,87,90,94,98,106,110,113,115,118,120]\n",
    "valores2 = [135,139,149,150,156,163,173,184,192,201,210,214,221,229,240]\n",
    "\n",
    "# Solución óptima= [1,0,1,0,1,0,1,1,1,0,0,0,0,1,1] con valor 1458"
   ]
  },
  {
   "cell_type": "code",
   "execution_count": 464,
   "metadata": {
    "id": "bJ0vqY85_cN-"
   },
   "outputs": [],
   "source": [
    "# Problema de la mochila 3:\n",
    "# 24 objetos, peso máximo 6404180\n",
    "pesos3 = [382745,799601,909247,729069,467902, 44328,\n",
    "       34610,698150,823460,903959,853665,551830,610856,\n",
    "       670702,488960,951111,323046,446298,931161, 31385,496951,264724,224916,169684]\n",
    "valores3 = [825594,1677009,1676628,1523970, 943972,  97426,\n",
    "       69666,1296457,1679693,1902996,\n",
    "       1844992,1049289,1252836,1319836, 953277,2067538, 675367,\n",
    "       853655,1826027, 65731, 901489, 577243, 466257, 369261]\n",
    "\n",
    "# Solución óptima= [1,1,0,1,1,1,0,0,0,1,1,0,1,0,0,1,0,0,0,0,0,1,1,1] con valoración 13549094"
   ]
  },
  {
   "cell_type": "markdown",
   "metadata": {
    "id": "CacB4zhkvnNS"
   },
   "source": [
    "### Ejercicio 5\n",
    "\n",
    "Se pide definir la representación del problema de la mochila usando genes [0,1] y longitud de los individuos n.\n",
    "Los valores 1 ó 0 representan, respectivamente, si el objeto se introduce o no en la mochila Tomados de izquerda a derecha, a partir del primero que no cabe, se consideran  todos fuera de la mochila,independientemente del gen en su posición. De esta manera, todos los individuos representan candidatos válidos.\n",
    "\n",
    "El numero de objetos n determina la longitud de los individuos de la población.\n",
    "En primer lugar es necesario definir una función de decodificación de la mochila que recibe como entrada:\n",
    "* un cromosoma (en este caso, una lista de 0s y 1s, de longitud igual a n_objetos) \n",
    "* n: número total de objetos de la mochila\n",
    "* pesos: una lista con los pesos de los objetos\n",
    "* capacidad: peso máximo de la mochila.\n",
    "La función decodifica recibe (cromosoma, n, pesos, capacidad) y devuelve una lista de 0s y 1s que indique qué objetos están en la mochila y cuáles no (el objeto i está en la mochila si y sólo si en la posición i-ésima de la lista hay un 1). Esta lista se obtendrá a partir del cromosoma, pero teniendo en cuenta que a partir del primer objeto que no quepa, éste y los siguientes se consideran fuera de la mochila, independientemente del valor que haya en su correspondiente posición de cromosoma. "
   ]
  },
  {
   "cell_type": "code",
   "execution_count": 465,
   "metadata": {
    "id": "2reBi9OMvnNS"
   },
   "outputs": [],
   "source": [
    "def decodifica_mochila(cromosoma, n, pesos, capacidad):\n",
    "    peso_en_mochila = 0\n",
    "    l = []\n",
    "    for i in range(n):\n",
    "        if cromosoma[i] == 1 and peso_en_mochila + pesos[i] <= capacidad:\n",
    "            l.append(1)\n",
    "            peso_en_mochila += pesos[i]\n",
    "        elif cromosoma[i]== 0 or peso_en_mochila + pesos[i] > capacidad:\n",
    "            l.append(0)\n",
    "    return l "
   ]
  },
  {
   "cell_type": "code",
   "execution_count": 466,
   "metadata": {
    "colab": {
     "base_uri": "https://localhost:8080/"
    },
    "id": "KDAnLgNmvnNS",
    "outputId": "7150fa3f-d1fb-4411-96ff-4740b6418fbb"
   },
   "outputs": [
    {
     "data": {
      "text/plain": [
       "[1, 1, 0, 0, 0]"
      ]
     },
     "execution_count": 466,
     "metadata": {},
     "output_type": "execute_result"
    }
   ],
   "source": [
    "decodifica_mochila([1,1,1,1,1], 5, [2,3,4,5,1], 5)"
   ]
  },
  {
   "cell_type": "markdown",
   "metadata": {
    "id": "CzgrLRn3vnNS"
   },
   "source": [
    "Para definir la función de evaluación (fitness) necesitamos calcular el valor total de los objetos que están dentro de la mochila que representa el cromosoma según la codificación utilizada en la función anterior. \n",
    "\n",
    "Se pide la función fitness (cromosoma, n_objetos, pesos, capacidad, valores) donde los parámetros son los mismos que en la función anterior, y valores es la lista de los valores de cada objeto\n",
    "\n",
    "fitness(cromosoma, n_objetos, pesos, capacidad, valores)\n",
    "\n",
    "Ejemplo de uso:\n",
    "   fitness([1,1,1,1], 4, [2,3,4,5], 4, [7,1,4,5])\n",
    "   7"
   ]
  },
  {
   "cell_type": "code",
   "execution_count": 467,
   "metadata": {
    "id": "YOPgVdEKvnNT"
   },
   "outputs": [],
   "source": [
    "def fitness_mochila(cromosoma, n_objetos, pesos, capacidad, valores):\n",
    "    mochila = decodifica_mochila(cromosoma, n_objetos, pesos, capacidad)\n",
    "    valor = 0\n",
    "    for i in range(n_objetos):\n",
    "        if mochila[i] == 1:\n",
    "            valor += valores[i] \n",
    "    return valor"
   ]
  },
  {
   "cell_type": "code",
   "execution_count": 468,
   "metadata": {
    "colab": {
     "base_uri": "https://localhost:8080/"
    },
    "id": "Z7LOdH0OvnNT",
    "outputId": "8b110541-7383-4bb9-fd8d-276ff755cfd8"
   },
   "outputs": [
    {
     "data": {
      "text/plain": [
       "7"
      ]
     },
     "execution_count": 468,
     "metadata": {},
     "output_type": "execute_result"
    }
   ],
   "source": [
    "fitness_mochila([1,1,1,1], 4, [2,3,4,5], 4, [7,1,4,5])"
   ]
  },
  {
   "cell_type": "markdown",
   "metadata": {
    "id": "JWsPGWoOvnNT"
   },
   "source": [
    "Damos tres instancias concretas del problema de la mochila. Damos también sus soluciones optimas, para que se puedan comparar con los resultados obtenidos por el algoritmo genético:"
   ]
  },
  {
   "cell_type": "code",
   "execution_count": 469,
   "metadata": {
    "id": "0_10sblOvnNT"
   },
   "outputs": [],
   "source": [
    "# Problema de la mochila 1:\n",
    "# 10 objetos, peso máximo 165\n",
    "pesos1 = [23,31,29,44,53,38,63,85,89,82]\n",
    "valores1 = [92,57,49,68,60,43,67,84,87,72]\n",
    "\n",
    "\n",
    "\n",
    "# Solución óptima= [1,1,1,1,0,1,0,0,0,0], con valor 309"
   ]
  },
  {
   "cell_type": "code",
   "execution_count": 470,
   "metadata": {
    "id": "Jzy94TBGwd6u"
   },
   "outputs": [],
   "source": [
    "def fitness_mochila_1(cromosoma):\n",
    "    v = fitness_mochila(cromosoma, 10, pesos1, 165, valores1)\n",
    "    return v\n",
    "def decodifica_mochila_1(cromosoma):\n",
    "    v = decodifica_mochila(cromosoma, 10, pesos1, 165)\n",
    "    return v\n",
    "m1g = ProblemaGenetico([0,1], decodifica_mochila_1, fun_mutar, fun_cruzar, fitness_mochila_1,10)"
   ]
  },
  {
   "cell_type": "code",
   "execution_count": 471,
   "metadata": {
    "colab": {
     "base_uri": "https://localhost:8080/"
    },
    "id": "fciIENouxFST",
    "outputId": "c72ce60e-9468-4019-f9ed-192fc1113d24"
   },
   "outputs": [
    {
     "name": "stdout",
     "output_type": "stream",
     "text": [
      "Generacion 19\n"
     ]
    },
    {
     "data": {
      "text/plain": [
       "([1, 1, 1, 1, 0, 1, 0, 0, 0, 0], 309)"
      ]
     },
     "execution_count": 471,
     "metadata": {},
     "output_type": "execute_result"
    }
   ],
   "source": [
    "algoritmo_genetico(m1g,3,max,20,10,0.7,0.1, poblacion_inicial)"
   ]
  },
  {
   "cell_type": "code",
   "execution_count": 472,
   "metadata": {
    "id": "DvCOvTG8vnNT"
   },
   "outputs": [],
   "source": [
    "# Problema de la mochila 2:\n",
    "# 15 objetos, peso máximo 750\n",
    "\n",
    "pesos2 = [70,73,77,80,82,87,90,94,98,106,110,113,115,118,120]\n",
    "valores2 = [135,139,149,150,156,163,173,184,192,201,210,214,221,229,240]\n",
    "\n",
    "# Solución óptima= [1,0,1,0,1,0,1,1,1,0,0,0,0,1,1] con valor 1458"
   ]
  },
  {
   "cell_type": "code",
   "execution_count": 473,
   "metadata": {
    "id": "Sg_fzwYVzgrJ"
   },
   "outputs": [],
   "source": [
    "def fitness_mochila_2(cromosoma):\n",
    "    v = fitness_mochila(cromosoma, 15, pesos2, 750, valores2)\n",
    "    return v\n",
    "def decodifica_mochila_2(cromosoma):\n",
    "    v = decodifica_mochila(cromosoma, 14, pesos2, 750)\n",
    "    return v\n",
    "m2g = ProblemaGenetico([0,1], decodifica_mochila_2, fun_mutar, fun_cruzar, fitness_mochila_2,15)"
   ]
  },
  {
   "cell_type": "code",
   "execution_count": 474,
   "metadata": {
    "colab": {
     "base_uri": "https://localhost:8080/"
    },
    "id": "gDUyILEkzwzT",
    "outputId": "7123070a-13aa-4592-bd2e-b893d2759efe"
   },
   "outputs": [
    {
     "name": "stdout",
     "output_type": "stream",
     "text": [
      "Generacion 29\n"
     ]
    },
    {
     "data": {
      "text/plain": [
       "([0, 0, 0, 0, 0, 0, 1, 1, 1, 0, 0, 1, 1, 1], 1453)"
      ]
     },
     "execution_count": 474,
     "metadata": {},
     "output_type": "execute_result"
    }
   ],
   "source": [
    "algoritmo_genetico(m2g,5,max,30,200,0.7,0.2, poblacion_inicial)"
   ]
  },
  {
   "cell_type": "code",
   "execution_count": null,
   "metadata": {},
   "outputs": [],
   "source": [
    "Observamos que el valor de la solución obtenida con el algoritmo es muy parecido a la solución óptima"
   ]
  },
  {
   "cell_type": "code",
   "execution_count": 475,
   "metadata": {
    "id": "EdRfhapmvnNU"
   },
   "outputs": [],
   "source": [
    "# Problema de la mochila 3:\n",
    "# 24 objetos, peso máximo 6404180\n",
    "pesos3 = [382745,799601,909247,729069,467902, 44328,\n",
    "       34610,698150,823460,903959,853665,551830,610856,\n",
    "       670702,488960,951111,323046,446298,931161, 31385,496951,264724,224916,169684]\n",
    "valores3 = [825594,1677009,1676628,1523970, 943972,  97426,\n",
    "       69666,1296457,1679693,1902996,\n",
    "       1844992,1049289,1252836,1319836, 953277,2067538, 675367,\n",
    "       853655,1826027, 65731, 901489, 577243, 466257, 369261]\n",
    "\n",
    "# Solución óptima= [1,1,0,1,1,1,0,0,0,1,1,0,1,0,0,1,0,0,0,0,0,1,1,1] con valoración 13549094"
   ]
  },
  {
   "cell_type": "code",
   "execution_count": 476,
   "metadata": {
    "id": "cYkUCD8F6z0U"
   },
   "outputs": [],
   "source": [
    "\n",
    "def fitness_mochila_3(cromosoma):\n",
    "    v = fitness_mochila(cromosoma, 24, pesos3,6404180 , valores3)\n",
    "    return v\n",
    "def decodifica_mochila_3(cromosoma):\n",
    "    v = decodifica_mochila(cromosoma, 24, pesos3, 6404180)\n",
    "    return v\n",
    "m3g = ProblemaGenetico([0,1], decodifica_mochila_3, fun_mutar, fun_cruzar, fitness_mochila_3,24)\n"
   ]
  },
  {
   "cell_type": "code",
   "execution_count": 477,
   "metadata": {
    "colab": {
     "base_uri": "https://localhost:8080/"
    },
    "id": "pd9iMAPE7Dhx",
    "outputId": "7080555c-e996-41f9-84ff-c7e6aa2fc78d"
   },
   "outputs": [
    {
     "name": "stdout",
     "output_type": "stream",
     "text": [
      "Generacion 39\n"
     ]
    },
    {
     "data": {
      "text/plain": [
       "([0, 1, 0, 1, 1, 0, 0, 0, 0, 1, 1, 0, 1, 0, 1, 1, 1, 0, 0, 0, 0, 1, 0, 0],\n",
       " 13419200)"
      ]
     },
     "execution_count": 477,
     "metadata": {},
     "output_type": "execute_result"
    }
   ],
   "source": [
    "algoritmo_genetico(m3g,5,max,40,300,0.7,0.2, poblacion_inicial)"
   ]
  },
  {
   "cell_type": "code",
   "execution_count": null,
   "metadata": {},
   "outputs": [],
   "source": [
    "En este caso, seguimos observando que la solución obtenida con el algoritmo es muy parecida a la solución óptima"
   ]
  },
  {
   "cell_type": "markdown",
   "metadata": {
    "id": "KlwBUc_9_cN_"
   },
   "source": [
    "### Ejercicio 6\n",
    "\n",
    "Definir variables m1g, m2g y m3g, referenciando a instancias de Problema_Genetico que correspondan, respectivamente, a los problemas de la mochila anteriores. Resuelve los problemas y comentar los resultados obtenidos en cuanto a eficiencia y calidad de los resultados obtenidos."
   ]
  },
  {
   "cell_type": "markdown",
   "metadata": {
    "id": "p8oCsro9_cN_"
   },
   "source": [
    "Algunas de las salidas posibles variando los parámetros."
   ]
  },
  {
   "cell_type": "code",
   "execution_count": 478,
   "metadata": {
    "id": "8e6cLaze_cOA"
   },
   "outputs": [
    {
     "name": "stdout",
     "output_type": "stream",
     "text": [
      "Generacion 99\n"
     ]
    },
    {
     "data": {
      "text/plain": [
       "([1, 1, 1, 1, 0, 1, 0, 0, 0, 0], 309)"
      ]
     },
     "execution_count": 478,
     "metadata": {},
     "output_type": "execute_result"
    }
   ],
   "source": [
    "def algoritmo_genetico_t(x,y,z,w,s,t,p):\n",
    "    return algoritmo_genetico(x,y,z,w,s,t,p,poblacion_inicial)\n",
    "\n",
    "algoritmo_genetico_t(m1g,3,max,100,50,0.8,0.05)\n",
    "# ([1, 1, 1, 1, 0, 1, 0, 0, 0, 0], 309)"
   ]
  },
  {
   "cell_type": "code",
   "execution_count": 479,
   "metadata": {
    "id": "8e6cLaze_cOA"
   },
   "outputs": [
    {
     "name": "stdout",
     "output_type": "stream",
     "text": [
      "Generacion 99\n"
     ]
    },
    {
     "data": {
      "text/plain": [
       "([0, 0, 0, 0, 0, 0, 1, 1, 1, 0, 1, 0, 1, 1], 1449)"
      ]
     },
     "execution_count": 479,
     "metadata": {},
     "output_type": "execute_result"
    }
   ],
   "source": [
    "algoritmo_genetico_t(m2g,3,max,100,50,0.8,0.05)\n",
    "# ([1, 1, 1, 0, 0, 0, 0, 1, 1, 0, 1, 1, 1, 0, 0], 1444)"
   ]
  },
  {
   "cell_type": "code",
   "execution_count": 480,
   "metadata": {
    "id": "8e6cLaze_cOA"
   },
   "outputs": [
    {
     "name": "stdout",
     "output_type": "stream",
     "text": [
      "Generacion 199\n"
     ]
    },
    {
     "data": {
      "text/plain": [
       "([0, 0, 0, 0, 0, 1, 1, 0, 1, 0, 0, 1, 1, 1], 1432)"
      ]
     },
     "execution_count": 480,
     "metadata": {},
     "output_type": "execute_result"
    }
   ],
   "source": [
    "\n",
    "algoritmo_genetico_t(m2g,3,max,200,100,0.8,0.05)\n",
    "# ([0, 0, 1, 0, 1, 1, 1, 1, 1, 1, 0, 0, 1, 0, 0], 1439)"
   ]
  },
  {
   "cell_type": "code",
   "execution_count": 481,
   "metadata": {
    "id": "8e6cLaze_cOA"
   },
   "outputs": [
    {
     "name": "stdout",
     "output_type": "stream",
     "text": [
      "Generacion 199\n"
     ]
    },
    {
     "data": {
      "text/plain": [
       "([0, 0, 0, 0, 0, 0, 1, 1, 1, 0, 1, 0, 1, 1], 1449)"
      ]
     },
     "execution_count": 481,
     "metadata": {},
     "output_type": "execute_result"
    }
   ],
   "source": [
    "\n",
    "algoritmo_genetico_t(m2g,3,max,200,100,0.8,0.05)\n",
    "# ([1, 0, 1, 0, 1, 0, 1, 1, 1, 0, 0, 0, 0, 1, 1], 1458)"
   ]
  },
  {
   "cell_type": "code",
   "execution_count": 482,
   "metadata": {
    "id": "8e6cLaze_cOA",
    "scrolled": true
   },
   "outputs": [
    {
     "name": "stdout",
     "output_type": "stream",
     "text": [
      "Generacion 399\n"
     ]
    },
    {
     "data": {
      "text/plain": [
       "([0, 1, 0, 0, 0, 0, 0, 0, 1, 1, 1, 0, 1, 1, 0, 1, 1, 0, 0, 1, 0, 1, 0, 1],\n",
       " 13432502)"
      ]
     },
     "execution_count": 482,
     "metadata": {},
     "output_type": "execute_result"
    }
   ],
   "source": [
    "\n",
    "algoritmo_genetico_t(m3g,5,max,400,200,0.75,0.1)\n",
    "# ([1, 1, 0, 1, 0, 1, 1, 0, 1, 1, 1, 0, 1, 0, 0, 1, 0, 0, 0, 0, 0, 1, 0, 0], 13518963)"
   ]
  },
  {
   "cell_type": "markdown",
   "metadata": {},
   "source": [
    "observamos que los resultados obtenidos son muy parecidos y cercanos a los esperados, por tanto , las conclusiones son que el algoritmo funciona bien"
   ]
  },
  {
   "cell_type": "code",
   "execution_count": 484,
   "metadata": {
    "id": "8e6cLaze_cOA"
   },
   "outputs": [],
   "source": [
    "#Estos tardaban mucho, comentalos como si saliera un resultado cercano pero no exacto el suyo. \n",
    "#Según la teoría este y el siguiente deberían de dar casi lo mismo porque llega un punto\n",
    "#que aumentar las iteraciones no cambia casi, y los otros incluso peores por eso mismo, porque no\n",
    "#cambia demasiado hacer más iteraciones, sino un nùmero decente y una población inicial decente.\n",
    "\n",
    "\n",
    "algoritmo_genetico_t(m3g,4,max,600,200,0.75,0.1)\n",
    "# ([1, 1, 0, 1, 1, 1, 1, 0, 0, 1, 1, 0, 1, 0, 0, 1, 1, 0, 0, 1, 0, 1, 0, 0], 13524340)"
   ]
  },
  {
   "cell_type": "code",
   "execution_count": null,
   "metadata": {
    "id": "lbMa1kKa_cOB"
   },
   "outputs": [],
   "source": [
    "algoritmo_genetico_t(m3g,4,max,1000,200,0.75,0.1)\n",
    "# ([1, 1, 0, 1, 0, 0, 0, 0, 1, 1, 1, 0, 1, 0, 0, 1, 1, 0, 0, 0, 0, 0, 0, 0], 13449995)"
   ]
  },
  {
   "cell_type": "code",
   "execution_count": 485,
   "metadata": {},
   "outputs": [
    {
     "name": "stdout",
     "output_type": "stream",
     "text": [
      "Generacion 999\n"
     ]
    },
    {
     "data": {
      "text/plain": [
       "([1, 1, 0, 0, 0, 0, 0, 0, 1, 1, 1, 0, 1, 0, 1, 1, 1, 0, 0, 0, 0, 1, 0, 0],\n",
       " 13456545)"
      ]
     },
     "execution_count": 485,
     "metadata": {},
     "output_type": "execute_result"
    }
   ],
   "source": [
    "algoritmo_genetico_t(m3g,3,max,1000,100,0.75,0.1)\n",
    "# ([1, 1, 0, 0, 0, 1, 1, 0, 1, 1, 1, 0, 1, 1, 0, 1, 1, 0, 0, 0, 0, 0, 0, 0], 13412953)"
   ]
  },
  {
   "cell_type": "code",
   "execution_count": null,
   "metadata": {},
   "outputs": [],
   "source": [
    "algoritmo_genetico_t(m3g,3,max,2000,100,0.75,0.1)\n",
    "# ([0, 1, 0, 1, 0, 1, 0, 0, 1, 1, 1, 0, 1, 1, 0, 1, 0, 0, 0, 0, 0, 0, 0, 0], 13366296)"
   ]
  },
  {
   "cell_type": "code",
   "execution_count": null,
   "metadata": {
    "id": "_Xjy2PVE_cOC"
   },
   "outputs": [],
   "source": [
    "algoritmo_genetico_t(m3g,6,max,2000,100,0.75,0.1)\n",
    "# ([1, 1, 0, 1, 1, 1, 0, 0, 0, 1, 1, 0, 1, 0, 0, 1, 0, 0, 0, 0, 0, 1, 1, 1], 13549094)"
   ]
  },
  {
   "cell_type": "markdown",
   "metadata": {
    "id": "n5mMULz__cOD"
   },
   "source": [
    "### Ejercicio 7\n",
    "Resolver mediante una configuración de un algoritmo genético el problema del cuadrado mágico que consiste en colocar en un cuadrado n × n los números naturales de 1 a n^2, \n",
    "de tal manera que las filas, las columnas y las diagonales principales sumen los mismo. \n",
    "Ejemplo: una solucion para n= 3\n",
    "    \n",
    "    4 3 8\n",
    "    9 5 1\n",
    "    2 7 6\n",
    "    \n",
    "- Dimensionn del cuadrado: N\n",
    "- Suma común: SUMA=(N·(N^2 + 1))/2\n",
    "    \n",
    "    Comenta el resultado y el rendimiento del algoritmo para distintos parámetros.\n",
    "    \n",
    "\n",
    "    \n",
    "    "
   ]
  },
  {
   "cell_type": "code",
   "execution_count": 489,
   "metadata": {
    "id": "rG1-oTNw_cOE",
    "outputId": "a4e3649d-c785-42cd-d296-c2f89ef66b0a"
   },
   "outputs": [
    {
     "name": "stdout",
     "output_type": "stream",
     "text": [
      "Generacion 29\n"
     ]
    },
    {
     "data": {
      "text/plain": [
       "([8, 3, 4, 1, 5, 9, 6, 7, 2], 0)"
      ]
     },
     "execution_count": 489,
     "metadata": {},
     "output_type": "execute_result"
    }
   ],
   "source": [
    "\"\"\"\n",
    "El cuadrado lo representamos como un array lineal de tamaño n*n\n",
    "\"\"\"\n",
    "\n",
    "\n",
    "from math import sqrt, floor\n",
    "\n",
    "\"\"\"\n",
    "La función fitness del cuadrado simplemente suma las diferencias de cada fila, columna\n",
    "y diagonal con respecto del valor esperado e intentamos minimizar esa diferencia.\n",
    "\"\"\"\n",
    "\n",
    "def fitnessMagic(cromosoma):\n",
    "    n  = floor(sqrt(len(cromosoma)))\n",
    "    magico_obj = (n*(n**2+1))//2\n",
    "    diferencias = 0\n",
    "    \n",
    "    magico_fila = 0\n",
    "    magico_columna = 0 \n",
    "    magico_diag_arriba = 0\n",
    "    magico_diag_abajo = 0\n",
    "    \n",
    "    for i in range(n):\n",
    "        magico_fila = 0\n",
    "        magico_columna = 0\n",
    "        for j in range(n):\n",
    "            if i==j:magico_diag_arriba += cromosoma[n*i+j]\n",
    "            if i== (n-j-1): magico_diag_abajo += cromosoma [n*i+j]\n",
    "            \n",
    "            magico_fila += cromosoma[n*i+j]\n",
    "            magico_columna += cromosoma[n*j+i]\n",
    "            \n",
    "        diferencias += abs (magico_fila - magico_obj) + abs(magico_columna - magico_obj)\n",
    "        \n",
    "    diferencias +=  abs(magico_diag_arriba - magico_obj) + abs(magico_diag_abajo - magico_obj)\n",
    "    return diferencias\n",
    "\n",
    "\n",
    "\n",
    "\"\"\"\n",
    "Esta es una implementación del cruce PMX estudiado en clase,\n",
    "para ello elegimos dos puntos y vamos haciendo el procedimiento ayudándonos\n",
    "de un array de indices. Si no estás en la solución entonces te coloco y si no voy cogiendo los siguientes que\n",
    "aún no estén elegidos.\n",
    "\n",
    "\"\"\"\n",
    "\n",
    "def PMX(cromosoma1, cromosoma2):  \n",
    "\n",
    "    \n",
    "    tamano =  len(cromosoma1)\n",
    "    \n",
    "    \n",
    "    cruce1= random.randint(0, size)\n",
    "    cruce2 = random.randint(0, size - 1)\n",
    "    if cruce2 >= cruce1:\n",
    "        cruce2 += 1\n",
    "    else:  \n",
    "        cruce2, cruce1 = cruce1, cruce2\n",
    "    \n",
    "    \n",
    "    crom1_m = cromosoma1[cruce1:cruce2]\n",
    "    crom2_m = cromosoma2[cruce1:cruce2]\n",
    "    \n",
    "    cromosoma1 = cromosoma1[:cruce1] + crom2_m + cromosoma1[cruce2:]\n",
    "    cromosoma2 = cromosoma2[:cruce1] + crom1_m + cromosoma2[cruce2:] \n",
    "    \n",
    "    mapeo1 = cromosoma1[cruce1:cruce2]\n",
    "    mapeo2 = cromosoma2[cruce1:cruce2]\n",
    "    for i in (list(range(0,cruce1)) + list(range(cruce2,tamano))):\n",
    "                while cromosoma1.count(cromosoma1[i])>1:\n",
    "                    indice_mapa = mapeo1.index(cromosoma1[i])\n",
    "                    cromosoma1[i] = mapeo2[indice_mapa]\n",
    "                \n",
    "                while cromosoma2.count(cromosoma2[i])>1:\n",
    "                    indice_mapa = mapeo2.index(cromosoma2[i])\n",
    "                    cromosoma2[i] = mapeo1[indice_mapa]\n",
    "    \n",
    "    return [cromosoma1, cromosoma2]\n",
    "\n",
    "def mutarMagic(cromosoma,prob):\n",
    "    \"\"\"Elige dos elemento al azar del cromosoma y los intercambia con una probabilidad igual a prob\"\"\"\n",
    "    l = len(cromosoma)\n",
    "    p1 = random.randint(0,l-1)\n",
    "    p2 = random.randint(0, l-1)\n",
    "    if prob > random.uniform(0,1):\n",
    "        cromosoma[p1] , cromosoma[p2] = cromosoma[p2], cromosoma[p1]\n",
    "    return cromosoma\n",
    "\n",
    "\"\"\"\n",
    "Otra posibilidad de mutar, cogiendo una fila y le hacemos un shuffle\n",
    "pero da peores resultados\n",
    "\n",
    "def mutarMagic(cromosoma,prob):\n",
    "    \n",
    "    l = len(cromosoma)\n",
    "    p1 = random.randint(0,floor(sqrt(l)))\n",
    "    if prob > random.uniform(0,1):\n",
    "        cromosoma_medio = cromosoma[p1:(p1+floor(sqrt(l)))]\n",
    "        random.shuffle(cromosoma_medio)\n",
    "        cromosoma = cromosoma[:p1]+cromosoma_medio + cromosoma[(p1+floor(sqrt(l))):]\n",
    "    return cromosoma\n",
    "\"\"\"\n",
    "\n",
    "#Simplemente hacer un shuffle del array [1,2,3,4,5,6,7,8,9,10...]\n",
    "\n",
    "def poblacion_inicial(problema_genetico, size):\n",
    "    l = list()\n",
    "    tam_cromosoma = problema_genetico.longitud_individuos\n",
    "    for i in range(size):\n",
    "            elementos = list(range(1, tam_cromosoma+1))\n",
    "            random.shuffle(elementos)\n",
    "            l = l + [elementos]\n",
    "\n",
    "    return l\n",
    "\n",
    "\n",
    "\n",
    "\n",
    "        \n",
    "k=4        \n",
    "ngen= 30\n",
    "size = 3**2\n",
    "prop_cruces = 0.7\n",
    "prob_mutar = 0.1\n",
    "        \n",
    "problemaMagic = ProblemaGenetico(list(range(1,size+1)),lambda x:x,mutarMagic, PMX, fitnessMagic,size)\n",
    "        \n",
    "    \n",
    "tam_poblacion = 150\n",
    "algoritmo_genetico(problemaMagic,k,min,ngen,tam_poblacion,prop_cruces,prob_mutar,poblacion_inicial)"
   ]
  },
  {
   "cell_type": "code",
   "execution_count": 491,
   "metadata": {},
   "outputs": [
    {
     "name": "stdout",
     "output_type": "stream",
     "text": [
      "Generacion 29\n"
     ]
    },
    {
     "data": {
      "text/plain": [
       "([2, 7, 6, 9, 5, 1, 4, 3, 8], 0)"
      ]
     },
     "execution_count": 491,
     "metadata": {},
     "output_type": "execute_result"
    }
   ],
   "source": [
    "k=5        \n",
    "ngen= 30\n",
    "size = 3**2\n",
    "prop_cruces = 0.7\n",
    "prob_mutar = 0.1\n",
    "\n",
    "        \n",
    "problemaMagic = ProblemaGenetico(list(range(1,size+1)),lambda x:x,mutarMagic, PMX, fitnessMagic,size)\n",
    "        \n",
    "    \n",
    "tam_poblacion = 150\n",
    "algoritmo_genetico(problemaMagic,k,min,ngen,tam_poblacion,prop_cruces,prob_mutar,poblacion_inicial)"
   ]
  },
  {
   "cell_type": "code",
   "execution_count": 497,
   "metadata": {},
   "outputs": [
    {
     "name": "stdout",
     "output_type": "stream",
     "text": [
      "Generacion 99\n"
     ]
    },
    {
     "data": {
      "text/plain": [
       "([21,\n",
       "  23,\n",
       "  9,\n",
       "  2,\n",
       "  10,\n",
       "  16,\n",
       "  5,\n",
       "  6,\n",
       "  20,\n",
       "  17,\n",
       "  7,\n",
       "  19,\n",
       "  13,\n",
       "  11,\n",
       "  15,\n",
       "  3,\n",
       "  4,\n",
       "  12,\n",
       "  25,\n",
       "  22,\n",
       "  18,\n",
       "  14,\n",
       "  24,\n",
       "  8,\n",
       "  1],\n",
       " 4)"
      ]
     },
     "execution_count": 497,
     "metadata": {},
     "output_type": "execute_result"
    }
   ],
   "source": [
    "k=7        \n",
    "ngen= 100\n",
    "size = 5**2\n",
    "prop_cruces = 0.7\n",
    "prob_mutar = 0.1\n",
    "\n",
    "        \n",
    "problemaMagic = ProblemaGenetico(list(range(1,size+1)),lambda x:x,mutarMagic, PMX, fitnessMagic,size)\n",
    "        \n",
    "    \n",
    "tam_poblacion = 100\n",
    "algoritmo_genetico(problemaMagic,k,min,ngen,tam_poblacion,prop_cruces,prob_mutar,poblacion_inicial)"
   ]
  },
  {
   "cell_type": "markdown",
   "metadata": {},
   "source": [
    "El algoritmo, gracias principalmente al cruce PMX, obtiene unos resultados buenos y converge a un valor prácticamente 0, o incluso llegando al óptimo, incluso para cuadrados de tamaño 5x5 o 6x6. (En 3x3 prácticamente\n",
    "siempre alcanza la solución)\n",
    "\n",
    "Esta función de cruce consigue mantener información de cromosomas buenos al no perder el orden en que se encontraban, que es\n",
    "realmente importante en el caso del cuadrado mágico. Un cruce en orden también habría sido positivo en este problema.\n",
    "\n",
    "La mutación es sencilla y tampoco influye demasiado. Simplemente cambiamos dos valores del cuadrado. \n",
    "\n",
    "Vemos que el torneo de entre 4 y 7 dan un buen resultado pues si fuera más alto obtendríamos un resultado demasiado\n",
    "codicioso y un cambio en el caso del cuadrado puede alterar radicalmente la solución (enfoque greedy es malo)."
   ]
  },
  {
   "cell_type": "markdown",
   "metadata": {
    "id": "Ipv1D-n4_cOF"
   },
   "source": [
    "### Ejercicio 8. Formación de equipos de trabajo para los TFG en la Facultad de Informática.\n",
    "Se os da el enunciado de forma separada. "
   ]
  },
  {
   "cell_type": "code",
   "execution_count": null,
   "metadata": {
    "id": "pFfcnxdr_cOG"
   },
   "outputs": [],
   "source": [
    "from math import floor,ceil,sqrt\n",
    "import random\n",
    "\n",
    "\"\"\"\n",
    "Función fitness del problema\n",
    "\n",
    "El fitness estaba dividido en tres partes\n",
    "1º Calculamos el fitness de los grupos formados y los grupos esperados con la formula del boletín\n",
    "    Si la división no es exacta tomamos un valor flotante para los grupos esperados\n",
    "    \n",
    "2º Calculamos con una forma similar el fitness de la relación entre alumnos por grupo y alumnos esperados por grupo.\n",
    "    1-abs(n_alumnos_en_el_grupo - n_esperados_por_grupo)/(n_alumnos - n_por_grupo) para cada grupo\n",
    "    y lo dividimos entre el numero de grupos\n",
    "\n",
    "3º Calculamos la desviación tipica en el array de cantidad de roles por grupo y sumamos 1/(1+stdev) al fitness por\n",
    "cada grupo, haciendo después la media. Esto penaliza que haya variaciones grandes en el número de roles por grupo \n",
    "\n",
    "Pero teníamos dos problemas: La función stdev solo reflejaba la variación de un grupo concreto (podía tener muchos\n",
    "alumnos pero estar bien repartido, pero eso no es información tan relevante) y además era bastante costosa\n",
    "\n",
    "El otro estaba relacionado con el fitness de cantidad de grupos formados, que complicaba el problema pues ir cambiando\n",
    "la cantidad de grupos dificultaba que las otras dos medidas fueran representativas y el problema no convergía decentemente.\n",
    "\n",
    "Por tanto lo hemos cambiado de esta forma:\n",
    "\n",
    "Los cromosomas tienen siempre el número de grupos adecuado aunque no distribuidos uniformemente por alumnos.\n",
    "\n",
    "La parte de función de fitness asociada a los roles simplemente calcula para cada equipo cuanto de lejos están sus roles\n",
    "del valor estimado de rol por grupo (n_por_grupo / n_roles, puede ser no entero sin ningún problema) y hace\n",
    "un cálculo similar al del n_alumnos_grupo\n",
    "\n",
    "\"\"\"\n",
    "\n",
    "def fitnessRoles(n_por_grupo, roles_alumno, n_roles, cromosoma):\n",
    "    n_alumnos = len(cromosoma)\n",
    "    n_grupos= (ceil(n_alumnos/n_por_grupo)) \n",
    "    \n",
    "    '''\n",
    "    Intentamos hacer un código que funcionara para un valor variable de grupos, pero no obteníamos resultados\n",
    "    aceptables para el resto de la configuración.\n",
    "    \n",
    "    n_grupos_esperado = n_alumnos/n_por_grupo\n",
    "    fitness_n_grupos = 1-abs(n_grupos - n_grupos_esperado)/(n_alumnos- n_grupos_esperado)\n",
    "    \n",
    "    '''\n",
    "\n",
    "    \n",
    "    fitness_n_alumnos=0\n",
    "    fitness_roles=0\n",
    "    \n",
    "    conjuntos_grupo = [dict() for _  in range(n_grupos)]\n",
    "    contador = dict()\n",
    "   \n",
    "    \n",
    "    for i, grupo in enumerate(cromosoma):\n",
    "        contador[grupo] = contador.get(grupo,0)+1\n",
    "        valor = conjuntos_grupo[grupo].get(roles_alumno[i], 0)\n",
    "        conjuntos_grupo[grupo][roles_alumno[i]]= valor+1\n",
    "    \n",
    "\n",
    "    alumnos_por_rol = n_por_grupo / n_roles\n",
    "    \n",
    "    \n",
    "    for i,grupo in enumerate(conjuntos_grupo):\n",
    "            n_alumnos_grupo = contador.get(i,0)\n",
    "            fitness_n_alumnos+= 1-abs(n_alumnos_grupo - n_por_grupo)/(n_alumnos - n_por_grupo)\n",
    "            valores = list(grupo.values())\n",
    "            long_roles = len(valores)\n",
    "            \n",
    "            for j in valores:\n",
    "                fitness_roles += 1-abs(j - alumnos_por_rol)/(n_por_grupo - alumnos_por_rol)\n",
    "                \n",
    "            if(long_roles < n_roles):\n",
    "                fitness_roles += (1-abs(alumnos_por_rol)/(n_por_grupo - alumnos_por_rol))*(n_roles - long_roles)\n",
    "    \n",
    "    fitness_n_alumnos = fitness_n_alumnos / n_grupos \n",
    "    fitness_roles = fitness_roles / (n_grupos*n_roles)\n",
    "    return fitness_n_alumnos + fitness_roles\n",
    "\n",
    "\n",
    "\n",
    "\n",
    "\"\"\"\n",
    "\n",
    "\n",
    "Generamos un vector con valores aleatorios de 1 a n donde n es el número de grupo esperado\n",
    "esto lo hacemos tantas veces como tamaño de la población\n",
    "\n",
    "Originalmente generábamos un valor aleatorio de grupos también pero como explicamos anteriormente\n",
    "la convergencia del algoritmo era muy mala si variábamos esto.\n",
    "\n",
    "\"\"\"\n",
    "def poblacionInicial(problema_genetico, size, n_por_grupo):\n",
    "    n_cromosoma = problema_genetico.longitud_individuos\n",
    "    n_grupos = ceil(n_cromosoma / n_por_grupo)\n",
    "    poblacion = list()\n",
    "    for k in range(size):\n",
    "        x = [random.randint(0, n_grupos-1) for i in range(n_cromosoma)] \n",
    "        poblacion.append(x)\n",
    "    return poblacion\n",
    "\n",
    "\n",
    "\n",
    "\n",
    "\n",
    "\n",
    "def fun_cruzar_dos_puntos(cromosoma1, cromosoma2):\n",
    "    \"\"\"Cruce de dos puntos estudiado en clase\"\"\"\n",
    "    l1 = len(cromosoma1)\n",
    "    p1= random.randint(0, l1)\n",
    "    p2 = random.randint(0, l1 - 1)\n",
    "    if p2 >= p1:\n",
    "        p2 += 1\n",
    "    else:  \n",
    "        p2, p1 = p1, p2\n",
    "    \n",
    "    cruce1 = cromosoma1[0:p1]+cromosoma2[p1:p2]+ cromosoma1[p2:l1]\n",
    "    cruce2 = cromosoma2[0:p1]+cromosoma1[p1:p2]+ cromosoma2[p2:l1]\n",
    "    return [cruce1,cruce2]\n",
    "\n",
    "\n",
    "\n",
    "\n",
    "def fun_cruzar_uniforme(cromosoma1, cromosoma2):\n",
    "    \"\"\"Cruce de varios puntos en función de una probabilidad\"\"\"\n",
    "    l1 = len(cromosoma1)\n",
    "    for i in range(l1):\n",
    "        p = random.uniform(0,1)\n",
    "        if p >= 0.5:\n",
    "            cromosoma1[i],cromosoma2[i]= cromosoma2[i],cromosoma1[i]\n",
    "    return [cromosoma1, cromosoma2]\n",
    "\n",
    "\n",
    "\n",
    "def mutarRoles(cromosoma,prob, n_grupos):\n",
    "    \"\"\"Elige elementos al azar del cromosoma y los cambia de grupo. Favorece el número de grupos\"\"\"\n",
    "    l = len(cromosoma)\n",
    "    while prob > random.uniform(0,1):\n",
    "        p1 = random.randint(0,l-1)\n",
    "        cromosoma[p1] = random.randint(0, n_grupos-1)\n",
    "    return cromosoma\n",
    "\n",
    "\n",
    "\n",
    "\n",
    "        \n",
    "k=10   \n",
    "ngen= 20\n",
    "size = 2000\n",
    "prop_cruces = 0.7\n",
    "prob_mutar = 0.1\n",
    "n_por_grupo=4\n",
    "n_roles = 4\n",
    "\n",
    "roles = [0,1,2,3]*500\n",
    "random.shuffle(roles)\n",
    "        \n",
    "problemaRoles = ProblemaGenetico(list(range(0,ceil(size/n_por_grupo))),lambda x:x,lambda crom, prob:mutarRoles(crom, prob, ceil(size/n_por_grupo)), fun_cruzar_dos_puntos, lambda x:fitnessRoles(n_por_grupo,roles, n_roles, x),size)\n",
    "tam_poblacion = 100\n",
    "algoritmo_genetico(problemaRoles,k,max,ngen,tam_poblacion,prop_cruces,prob_mutar,lambda x,y:poblacionInicial(x,y,n_por_grupo))\n",
    "    "
   ]
  },
  {
   "cell_type": "code",
   "execution_count": null,
   "metadata": {
    "scrolled": true
   },
   "outputs": [],
   "source": [
    "k=10   \n",
    "ngen= 20\n",
    "size = 2000\n",
    "prop_cruces = 0.7\n",
    "prob_mutar = 0.1\n",
    "n_por_grupo=4\n",
    "n_roles = 4\n",
    "\n",
    "roles = [0,1,2,3]*500\n",
    "random.shuffle(roles)\n",
    "        \n",
    "problemaRoles = ProblemaGenetico(list(range(0,ceil(size/n_por_grupo))),lambda x:x,lambda crom, prob:mutarRoles(crom, prob, ceil(size/n_por_grupo)), fun_cruzar_uniforme, lambda x:fitnessRoles(n_por_grupo,roles, n_roles, x),size)\n",
    "tam_poblacion = 100\n",
    "algoritmo_genetico(problemaRoles,k,max,ngen,tam_poblacion,prop_cruces,prob_mutar,lambda x,y:poblacionInicial(x,y,n_por_grupo))\n",
    "    "
   ]
  },
  {
   "cell_type": "code",
   "execution_count": null,
   "metadata": {},
   "outputs": [],
   "source": [
    "def mutarRoles_cambio(cromosoma,prob):\n",
    "    \"\"\"Elige dos elementos del cromosoma y los cambia de grupo. Favorece los roles equilibrados\"\"\"\n",
    "    l = len(cromosoma)\n",
    "    p1 = random.randint(0,l-1)\n",
    "    p2 = random.randint(0,l-1)\n",
    "    cromosoma[p1], cromosoma[p2] =  cromosoma[p2], cromosoma[p1]\n",
    "    return cromosoma\n",
    "\n",
    "k=10   \n",
    "ngen= 20\n",
    "size = 2000\n",
    "prop_cruces = 0.7\n",
    "prob_mutar = 0.1\n",
    "n_por_grupo=4\n",
    "n_roles = 4\n",
    "\n",
    "roles = [0,1,2,3]*500\n",
    "random.shuffle(roles)\n",
    "        \n",
    "problemaRoles = ProblemaGenetico(list(range(0,ceil(size/n_por_grupo))),lambda x:x,mutarRoles_cambio, fun_cruzar_dos_puntos, lambda x:fitnessRoles(n_por_grupo,roles, n_roles, x),size)\n",
    "print(fun_cruzar_uniforme([0,1,2,3,4,5],[11,12,13,14,15,16]))\n",
    "tam_poblacion = 100\n",
    "algoritmo_genetico(problemaRoles,k,max,ngen,tam_poblacion,prop_cruces,prob_mutar,lambda x,y:poblacionInicial(x,y,n_por_grupo))\n",
    "    "
   ]
  },
  {
   "cell_type": "markdown",
   "metadata": {},
   "source": [
    "Hemos intentado aplicar varias funciones de cruce y varios parámetros. Por ejemplo, el cruce de dos puntos nos da una solución mejor que el cruce uniforme basa en probabilidad en término medio. Y aumentar demasiado el k de los torneos, pese a ser una muestra grande, no parece favorecer la variedad en los cromosomas. La mutación de intercambio ofrece una solución mejor para obtener una buena tasa de roles equilibrados mientras que la mutación de asignar a un alumno otro grupo directamente favorece más bien la tasa de cantidad de alumnos equilibrada entre los grupos.\n",
    "\n",
    "Las probabilidades de mutar no pueden ser demasiado altas pues se pierde información de los cromosomas originales, y 0.1 ha sido un valor decente que ha fomentado la mejora de manera regular.\n",
    "\n",
    "Nuestra función de fitness alcanza como mucho el valor 2 (hasta 1 en los alumnos bien repartidos y hasta 1 buen número de roles extra) aunque en caso de divisiones no enteras, este valor 2 será imposible de alcanzar, pero intentará llegar a lo máximo posible.\n",
    "\n",
    "También planteamos ponderar uno u otro de los valores del fitness (darle más importancia a que los alumnos estuvieran bien repartidos o a que haya un número apropiado de alumnos por grupo) pero no aportaba mucho. Al final se enfocaba demasiado en uno o en otro o si la ponderación era baja, apenas afectaba a la solución.\n",
    "\n",
    "Para casos pequeños (y no el de 2000) sí que conseguimos resultados buenos, incluso óptimos, aquí sin embargo pese a una población alta, el problema se estanca, obteniendo un reparto de alumnos decente pero no tan cercano al 2 de fitness que andamos buscando.\n",
    "\n",
    "Tal vez con otro planteamiento se podría haber mantenido mejor la información entre genes, como usando conjuntos que hagan referencia a los alumnos de un grupo y olvidarnos del orden en el array. \n",
    "\n",
    "Sin embargo, con todo esto, obtenemos una mejora en las sucesivas iteraciones lo que nos dice que el algoritmo al menos funciona."
   ]
  },
  {
   "cell_type": "code",
   "execution_count": null,
   "metadata": {},
   "outputs": [],
   "source": []
  }
 ],
 "metadata": {
  "colab": {
   "name": "busquedaLocal (1).ipynb",
   "provenance": []
  },
  "kernelspec": {
   "display_name": "Python 3",
   "language": "python",
   "name": "python3"
  },
  "language_info": {
   "codemirror_mode": {
    "name": "ipython",
    "version": 3
   },
   "file_extension": ".py",
   "mimetype": "text/x-python",
   "name": "python",
   "nbconvert_exporter": "python",
   "pygments_lexer": "ipython3",
   "version": "3.8.8"
  }
 },
 "nbformat": 4,
 "nbformat_minor": 1
}
