{
  "cells": [
    {
      "cell_type": "markdown",
      "metadata": {
        "id": "jpd0gkGnpzXT"
      },
      "source": [
        "# Práctica 2: Procesamiento del Lenguaje Natural\n",
        "\n",
        "__Fecha de entrega: 17 de abril de 2022__\n",
        "\n",
        "El objetivo de esta práctica es aplicar los conceptos teóricos vistos en clase en el módulo de PLN. La práctica consta de 2 notebooks que se entregarán simultáneamente en la tarea de entrega habilitada en el Campus  Virtual.\n",
        "\n",
        "Lo más importante en esta práctica no es el código Python, sino el análisis de los datos y modelos que construyas y las explicaciones razonadas de cada una de las decisiones que tomes. __No se valorarán trozos de código o gráficas sin ningún tipo de contexto o explicación__.\n",
        "\n",
        "Finalmente, recuerda establecer el parámetro `random_state` en todas las funciones que tomen decisiones aleatorias para que los resultados sean reproducibles (los resultados no varíen entre ejecuciones)."
      ]
    },
    {
      "cell_type": "code",
      "execution_count": 1,
      "metadata": {
        "id": "IBx1oG6bpzXY"
      },
      "outputs": [],
      "source": [
        "RANDOM_STATE = 42"
      ]
    },
    {
      "cell_type": "markdown",
      "metadata": {
        "id": "TkJPtLPRpzXa"
      },
      "source": [
        "# Apartado 2: Recuperación de información"
      ]
    },
    {
      "cell_type": "markdown",
      "metadata": {
        "id": "RWQ9sB-ApzXc"
      },
      "source": [
        "__Número de grupo: 4__\n",
        "\n",
        "__Nombres de los estudiantes: Fernando de la Gándara Fernández, Jaime Martínez Gamero, Laura Marta Marco Simal__"
      ]
    },
    {
      "cell_type": "markdown",
      "metadata": {
        "id": "W1iFIS_EpzXc"
      },
      "source": [
        "## 1) Carga del conjunto de datos\n",
        "\n",
        "El fichero `BBC News.csv` contiene noticias clasificadas en 5 categorías diferentes. \n",
        "\n",
        "Carga los datos en un dataframe teniendo en cuenta que la columna `ArticleId` es un identificador de la noticia y por lo tanto no lo vamos a usar. \n",
        "\n",
        "Estudia el tamaño del conjunto de datos y la proporción de noticias que pertenecen a cada una de las categorías.\n",
        "\n",
        "Crea una partición estratificada de los datos dejando el 80% para entrenamiento y el 20% restante para test usando la función `train_test_split` de sklearn. "
      ]
    },
    {
      "cell_type": "code",
      "source": [
        ""
      ],
      "metadata": {
        "id": "kto_52C7ouOg"
      },
      "execution_count": null,
      "outputs": []
    },
    {
      "cell_type": "code",
      "execution_count": 2,
      "metadata": {
        "id": "ufbBvGcnpzXe"
      },
      "outputs": [],
      "source": [
        "import numpy as np\n",
        "import pandas as pd\n",
        "from sklearn.model_selection import train_test_split"
      ]
    },
    {
      "cell_type": "code",
      "execution_count": 3,
      "metadata": {
        "colab": {
          "base_uri": "https://localhost:8080/",
          "height": 73,
          "resources": {
            "http://localhost:8080/nbextensions/google.colab/files.js": {
              "data": "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",
              "headers": [
                [
                  "content-type",
                  "application/javascript"
                ]
              ],
              "ok": true,
              "status": 200,
              "status_text": ""
            }
          }
        },
        "id": "Ee9L8jUMsQL4",
        "outputId": "244300e6-a1ea-4d52-9bff-317da994bdc2"
      },
      "outputs": [
        {
          "output_type": "display_data",
          "data": {
            "text/plain": [
              "<IPython.core.display.HTML object>"
            ],
            "text/html": [
              "\n",
              "     <input type=\"file\" id=\"files-0a2d1b8e-c51f-455a-b444-898576ac7154\" name=\"files[]\" multiple disabled\n",
              "        style=\"border:none\" />\n",
              "     <output id=\"result-0a2d1b8e-c51f-455a-b444-898576ac7154\">\n",
              "      Upload widget is only available when the cell has been executed in the\n",
              "      current browser session. Please rerun this cell to enable.\n",
              "      </output>\n",
              "      <script src=\"/nbextensions/google.colab/files.js\"></script> "
            ]
          },
          "metadata": {}
        },
        {
          "output_type": "stream",
          "name": "stdout",
          "text": [
            "Saving BBC News.csv to BBC News.csv\n"
          ]
        }
      ],
      "source": [
        "#from google.colab import files\n",
        "#uploaded = files.upload()\n",
        "\n",
        "#import io\n",
        "#df_bbc = pd.read_csv(io.BytesIO(uploaded['BBC News.csv']))\n",
        "# Dataset is now stored in a Pandas Dataframe"
      ]
    },
    {
      "cell_type": "code",
      "execution_count": 4,
      "metadata": {
        "id": "ePCrsSHfDaNN"
      },
      "outputs": [],
      "source": [
        "df_bbc = pd.read_csv('BBC News.csv', index_col = 0)"
      ]
    },
    {
      "cell_type": "code",
      "execution_count": 5,
      "metadata": {
        "scrolled": true,
        "id": "Z_CN0C2NDaNO",
        "outputId": "f3b629b8-70eb-43dc-bdab-2f71972a257a",
        "colab": {
          "base_uri": "https://localhost:8080/",
          "height": 455
        }
      },
      "outputs": [
        {
          "output_type": "execute_result",
          "data": {
            "text/plain": [
              "                                                        Text       Category\n",
              "ArticleId                                                                  \n",
              "1833       worldcom ex-boss launches defence lawyers defe...       business\n",
              "154        german business confidence slides german busin...       business\n",
              "1101       bbc poll indicates economic gloom citizens in ...       business\n",
              "1976       lifestyle  governs mobile choice  faster  bett...           tech\n",
              "917        enron bosses in $168m payout eighteen former e...       business\n",
              "...                                                      ...            ...\n",
              "857        double eviction from big brother model caprice...  entertainment\n",
              "325        dj double act revamp chart show dj duo jk and ...  entertainment\n",
              "1590       weak dollar hits reuters revenues at media gro...       business\n",
              "1587       apple ipod family expands market apple has exp...           tech\n",
              "538        santy worm makes unwelcome visit thousands of ...           tech\n",
              "\n",
              "[1490 rows x 2 columns]"
            ],
            "text/html": [
              "\n",
              "  <div id=\"df-8ba2f853-2527-4671-95b0-3af5e852c948\">\n",
              "    <div class=\"colab-df-container\">\n",
              "      <div>\n",
              "<style scoped>\n",
              "    .dataframe tbody tr th:only-of-type {\n",
              "        vertical-align: middle;\n",
              "    }\n",
              "\n",
              "    .dataframe tbody tr th {\n",
              "        vertical-align: top;\n",
              "    }\n",
              "\n",
              "    .dataframe thead th {\n",
              "        text-align: right;\n",
              "    }\n",
              "</style>\n",
              "<table border=\"1\" class=\"dataframe\">\n",
              "  <thead>\n",
              "    <tr style=\"text-align: right;\">\n",
              "      <th></th>\n",
              "      <th>Text</th>\n",
              "      <th>Category</th>\n",
              "    </tr>\n",
              "    <tr>\n",
              "      <th>ArticleId</th>\n",
              "      <th></th>\n",
              "      <th></th>\n",
              "    </tr>\n",
              "  </thead>\n",
              "  <tbody>\n",
              "    <tr>\n",
              "      <th>1833</th>\n",
              "      <td>worldcom ex-boss launches defence lawyers defe...</td>\n",
              "      <td>business</td>\n",
              "    </tr>\n",
              "    <tr>\n",
              "      <th>154</th>\n",
              "      <td>german business confidence slides german busin...</td>\n",
              "      <td>business</td>\n",
              "    </tr>\n",
              "    <tr>\n",
              "      <th>1101</th>\n",
              "      <td>bbc poll indicates economic gloom citizens in ...</td>\n",
              "      <td>business</td>\n",
              "    </tr>\n",
              "    <tr>\n",
              "      <th>1976</th>\n",
              "      <td>lifestyle  governs mobile choice  faster  bett...</td>\n",
              "      <td>tech</td>\n",
              "    </tr>\n",
              "    <tr>\n",
              "      <th>917</th>\n",
              "      <td>enron bosses in $168m payout eighteen former e...</td>\n",
              "      <td>business</td>\n",
              "    </tr>\n",
              "    <tr>\n",
              "      <th>...</th>\n",
              "      <td>...</td>\n",
              "      <td>...</td>\n",
              "    </tr>\n",
              "    <tr>\n",
              "      <th>857</th>\n",
              "      <td>double eviction from big brother model caprice...</td>\n",
              "      <td>entertainment</td>\n",
              "    </tr>\n",
              "    <tr>\n",
              "      <th>325</th>\n",
              "      <td>dj double act revamp chart show dj duo jk and ...</td>\n",
              "      <td>entertainment</td>\n",
              "    </tr>\n",
              "    <tr>\n",
              "      <th>1590</th>\n",
              "      <td>weak dollar hits reuters revenues at media gro...</td>\n",
              "      <td>business</td>\n",
              "    </tr>\n",
              "    <tr>\n",
              "      <th>1587</th>\n",
              "      <td>apple ipod family expands market apple has exp...</td>\n",
              "      <td>tech</td>\n",
              "    </tr>\n",
              "    <tr>\n",
              "      <th>538</th>\n",
              "      <td>santy worm makes unwelcome visit thousands of ...</td>\n",
              "      <td>tech</td>\n",
              "    </tr>\n",
              "  </tbody>\n",
              "</table>\n",
              "<p>1490 rows × 2 columns</p>\n",
              "</div>\n",
              "      <button class=\"colab-df-convert\" onclick=\"convertToInteractive('df-8ba2f853-2527-4671-95b0-3af5e852c948')\"\n",
              "              title=\"Convert this dataframe to an interactive table.\"\n",
              "              style=\"display:none;\">\n",
              "        \n",
              "  <svg xmlns=\"http://www.w3.org/2000/svg\" height=\"24px\"viewBox=\"0 0 24 24\"\n",
              "       width=\"24px\">\n",
              "    <path d=\"M0 0h24v24H0V0z\" fill=\"none\"/>\n",
              "    <path d=\"M18.56 5.44l.94 2.06.94-2.06 2.06-.94-2.06-.94-.94-2.06-.94 2.06-2.06.94zm-11 1L8.5 8.5l.94-2.06 2.06-.94-2.06-.94L8.5 2.5l-.94 2.06-2.06.94zm10 10l.94 2.06.94-2.06 2.06-.94-2.06-.94-.94-2.06-.94 2.06-2.06.94z\"/><path d=\"M17.41 7.96l-1.37-1.37c-.4-.4-.92-.59-1.43-.59-.52 0-1.04.2-1.43.59L10.3 9.45l-7.72 7.72c-.78.78-.78 2.05 0 2.83L4 21.41c.39.39.9.59 1.41.59.51 0 1.02-.2 1.41-.59l7.78-7.78 2.81-2.81c.8-.78.8-2.07 0-2.86zM5.41 20L4 18.59l7.72-7.72 1.47 1.35L5.41 20z\"/>\n",
              "  </svg>\n",
              "      </button>\n",
              "      \n",
              "  <style>\n",
              "    .colab-df-container {\n",
              "      display:flex;\n",
              "      flex-wrap:wrap;\n",
              "      gap: 12px;\n",
              "    }\n",
              "\n",
              "    .colab-df-convert {\n",
              "      background-color: #E8F0FE;\n",
              "      border: none;\n",
              "      border-radius: 50%;\n",
              "      cursor: pointer;\n",
              "      display: none;\n",
              "      fill: #1967D2;\n",
              "      height: 32px;\n",
              "      padding: 0 0 0 0;\n",
              "      width: 32px;\n",
              "    }\n",
              "\n",
              "    .colab-df-convert:hover {\n",
              "      background-color: #E2EBFA;\n",
              "      box-shadow: 0px 1px 2px rgba(60, 64, 67, 0.3), 0px 1px 3px 1px rgba(60, 64, 67, 0.15);\n",
              "      fill: #174EA6;\n",
              "    }\n",
              "\n",
              "    [theme=dark] .colab-df-convert {\n",
              "      background-color: #3B4455;\n",
              "      fill: #D2E3FC;\n",
              "    }\n",
              "\n",
              "    [theme=dark] .colab-df-convert:hover {\n",
              "      background-color: #434B5C;\n",
              "      box-shadow: 0px 1px 3px 1px rgba(0, 0, 0, 0.15);\n",
              "      filter: drop-shadow(0px 1px 2px rgba(0, 0, 0, 0.3));\n",
              "      fill: #FFFFFF;\n",
              "    }\n",
              "  </style>\n",
              "\n",
              "      <script>\n",
              "        const buttonEl =\n",
              "          document.querySelector('#df-8ba2f853-2527-4671-95b0-3af5e852c948 button.colab-df-convert');\n",
              "        buttonEl.style.display =\n",
              "          google.colab.kernel.accessAllowed ? 'block' : 'none';\n",
              "\n",
              "        async function convertToInteractive(key) {\n",
              "          const element = document.querySelector('#df-8ba2f853-2527-4671-95b0-3af5e852c948');\n",
              "          const dataTable =\n",
              "            await google.colab.kernel.invokeFunction('convertToInteractive',\n",
              "                                                     [key], {});\n",
              "          if (!dataTable) return;\n",
              "\n",
              "          const docLinkHtml = 'Like what you see? Visit the ' +\n",
              "            '<a target=\"_blank\" href=https://colab.research.google.com/notebooks/data_table.ipynb>data table notebook</a>'\n",
              "            + ' to learn more about interactive tables.';\n",
              "          element.innerHTML = '';\n",
              "          dataTable['output_type'] = 'display_data';\n",
              "          await google.colab.output.renderOutput(dataTable, element);\n",
              "          const docLink = document.createElement('div');\n",
              "          docLink.innerHTML = docLinkHtml;\n",
              "          element.appendChild(docLink);\n",
              "        }\n",
              "      </script>\n",
              "    </div>\n",
              "  </div>\n",
              "  "
            ]
          },
          "metadata": {},
          "execution_count": 5
        }
      ],
      "source": [
        "df_bbc"
      ]
    },
    {
      "cell_type": "code",
      "execution_count": 6,
      "metadata": {
        "id": "PZuD8jNXDaNQ",
        "outputId": "b8977835-d3a2-4fa6-8260-86716029a7ef",
        "colab": {
          "base_uri": "https://localhost:8080/"
        }
      },
      "outputs": [
        {
          "output_type": "execute_result",
          "data": {
            "text/plain": [
              "sport            0.232215\n",
              "business         0.225503\n",
              "politics         0.183893\n",
              "entertainment    0.183221\n",
              "tech             0.175168\n",
              "Name: Category, dtype: float64"
            ]
          },
          "metadata": {},
          "execution_count": 6
        }
      ],
      "source": [
        "df_percentage = df_bbc['Category'].value_counts()/df_bbc.count()[0]\n",
        "df_percentage\n"
      ]
    },
    {
      "cell_type": "markdown",
      "metadata": {
        "id": "DhwamvesowW4"
      },
      "source": [
        "Podemos ver que es un dataset decentemente equilibrado, pues la diferencia de cantidad de elementos entre categorías es aceptable. Cabe destacar una mayor carga de textos \"business\" o categoría de empresa frente a una menor de tecnológicas.\n",
        "\n",
        "\n",
        "\n",
        "Esta información deberemos de tenerla en cuenta a la hora de analizar los resultados ya que al haber un ligero desequilibrio entre algunas clases es probable que los modelos tiendan a inclinarse hacia las clases mayoritarias.\n",
        "\n",
        "Veamos que esta proporción es aceptable de forma más gráfica usando un diagrama de tarta:"
      ]
    },
    {
      "cell_type": "code",
      "execution_count": 7,
      "metadata": {
        "scrolled": false,
        "id": "ZBfCrEf8DaNR",
        "outputId": "6b57e2f2-1711-4a26-b704-d83a617a47f8",
        "colab": {
          "base_uri": "https://localhost:8080/",
          "height": 265
        }
      },
      "outputs": [
        {
          "output_type": "execute_result",
          "data": {
            "text/plain": [
              "<matplotlib.axes._subplots.AxesSubplot at 0x7f6765925450>"
            ]
          },
          "metadata": {},
          "execution_count": 7
        },
        {
          "output_type": "display_data",
          "data": {
            "text/plain": [
              "<Figure size 432x288 with 1 Axes>"
            ],
            "image/png": "[encoded data removed]"
          },
          "metadata": {}
        }
      ],
      "source": [
        "df_bbc['Category'].value_counts().plot.pie()"
      ]
    },
    {
      "cell_type": "code",
      "execution_count": 8,
      "metadata": {
        "id": "d3YiYEL-DaNS",
        "outputId": "02de168c-2296-428f-cd8b-3f9b027ca0a8",
        "colab": {
          "base_uri": "https://localhost:8080/",
          "height": 192
        }
      },
      "outputs": [
        {
          "output_type": "execute_result",
          "data": {
            "text/plain": [
              "'housewives lift channel 4 ratings the debut of us television hit desperate housewives has helped lift channel 4 s january audience share by 12% compared to last year.  other successes such as celebrity big brother and the simpsons have enabled the broadcaster to surpass bbc two for the first month since last july. bbc two s share of the audience fell from 11.2% to 9.6% last month in comparison with january 2004. celebrity big brother attracted fewer viewers than its 2002 series.  comedy drama desperate housewives managed to pull in five million viewers at one point during its run to date  attracting a quarter of the television audience. the two main television channels  bbc1 and itv1  have both seen their monthly audience share decline in a year on year comparison for january  while five s proportion remained the same at a slender 6.3%. digital multi-channel tv is continuing to be the strongest area of growth  with the bbc reporting freeview box ownership of five million  including one million sales in the last portion of 2004. its share of the audience soared by 20% in january 2005 compared with last year  and currently stands at an average of 28.6%.'"
            ],
            "application/vnd.google.colaboratory.intrinsic+json": {
              "type": "string"
            }
          },
          "metadata": {},
          "execution_count": 8
        }
      ],
      "source": [
        "df_bbc['Text'][101]"
      ]
    },
    {
      "cell_type": "code",
      "execution_count": 9,
      "metadata": {
        "id": "FUwxZXVFDaNT"
      },
      "outputs": [],
      "source": [
        "np_bbc_target = df_bbc['Category'].to_numpy()\n",
        "categories = set(np_bbc_target)\n",
        "np_bbc_input = df_bbc['Text'].to_numpy()\n",
        "X_train, X_test, y_train, y_test = train_test_split(np_bbc_input, np_bbc_target , \n",
        "                                                    test_size=0.20, stratify=np_bbc_target,\n",
        "                                                    random_state= RANDOM_STATE)"
      ]
    },
    {
      "cell_type": "markdown",
      "metadata": {
        "id": "3Fx5hJC7pzXf"
      },
      "source": [
        "## 2) Representación basada en bolsa de palabras y tf-idf\n",
        "\n",
        "La primera vectorización que vamos a usar representará los mensajes usando el modelo de bolsa de palabras, monogramas y el valor tf-idf de cada palabra. Usa como _stop words_ las que vienen configuradas por defecto para el inglés.\n",
        "\n",
        "Aplica la vectorización a los conjuntos de mensajes de entrenamiento y test. Muestra algún mensaje tanto en su formato de texto original como en la versión vectorizada. ¿Qué palabras se han eliminado y por qué?\n",
        "\n"
      ]
    },
    {
      "cell_type": "markdown",
      "metadata": {
        "id": "RbaFv54NDaNU"
      },
      "source": [
        "### Vectorización de datos de entrenamiento"
      ]
    },
    {
      "cell_type": "code",
      "execution_count": 10,
      "metadata": {
        "id": "wKdL2-VSpzXg"
      },
      "outputs": [],
      "source": [
        "from sklearn.feature_extraction.text import CountVectorizer\n",
        "\n",
        "vectorizer = CountVectorizer(stop_words='english', binary=False, ngram_range=(1,1))    "
      ]
    },
    {
      "cell_type": "code",
      "execution_count": 11,
      "metadata": {
        "id": "RMBgje9TDaNV",
        "outputId": "9ab8c823-6a33-4e07-b845-fbb00f2a4216",
        "colab": {
          "base_uri": "https://localhost:8080/"
        }
      },
      "outputs": [
        {
          "output_type": "stream",
          "name": "stdout",
          "text": [
            "22260\n"
          ]
        },
        {
          "output_type": "stream",
          "name": "stderr",
          "text": [
            "/usr/local/lib/python3.7/dist-packages/sklearn/utils/deprecation.py:87: FutureWarning: Function get_feature_names is deprecated; get_feature_names is deprecated in 1.0 and will be removed in 1.2. Please use get_feature_names_out instead.\n",
            "  warnings.warn(msg, category=FutureWarning)\n"
          ]
        }
      ],
      "source": [
        "vectorizer.fit_transform(X_train)\n",
        "\n",
        "\n",
        "#Extraemos las palabras de nuestro vector de palabras\n",
        "feature_names = vectorizer.get_feature_names()\n",
        "print(len(feature_names))"
      ]
    },
    {
      "cell_type": "code",
      "execution_count": 12,
      "metadata": {
        "id": "BD1LIzxlDaNW",
        "outputId": "c3b650cd-fdcf-417f-f8cd-9989e11ca796",
        "colab": {
          "base_uri": "https://localhost:8080/"
        }
      },
      "outputs": [
        {
          "output_type": "stream",
          "name": "stdout",
          "text": [
            "['00', '000', '0001', '000m', '000th', '001', '001and', '001st', '0051', '007', '01', '0100', '0130', '028', '03', '033', '04', '0400', '041', '04bn', '04secs', '05', '050', '050505', '0530gmt', '056', '05bn', '05m', '06', '060']\n",
            "['delighted', 'delightful', 'delights', 'delirious', 'delist', 'delisted', 'delisting', 'deliver', 'deliverable', 'delivered', 'deliveries', 'delivering', 'delivery', 'dell', 'della', 'dellape', 'deloitte', 'delport', 'delta', 'delude', 'deluge', 'deluges', 'delusion', 'deluxe', 'dem', 'demand', 'demanded', 'demanding', 'demands', 'demean']\n",
            "['zenden', 'zenith', 'zens', 'zeppelin', 'zero', 'zeta', 'zhang', 'zhaoxing', 'zidane', 'ziers', 'zimbabwe', 'zinc', 'zinedine', 'zip', 'ziyi', 'zodiac', 'zoe', 'zoellick', 'zombie', 'zombies', 'zone', 'zonealarm', 'zones', 'zoom', 'zooms', 'zooropa', 'zuluaga', 'zurich', 'zutons', 'zvonareva']\n"
          ]
        }
      ],
      "source": [
        "print(feature_names[:30])\n",
        "print(feature_names[6000:6030])\n",
        "print(feature_names[-30:])"
      ]
    },
    {
      "cell_type": "code",
      "execution_count": 12,
      "metadata": {
        "id": "Xm7fl9o6DaNW"
      },
      "outputs": [],
      "source": [
        ""
      ]
    },
    {
      "cell_type": "markdown",
      "metadata": {
        "id": "Q1alfVXxDaNX"
      },
      "source": [
        "Eliminamos alfanuméricos raros"
      ]
    },
    {
      "cell_type": "code",
      "execution_count": 13,
      "metadata": {
        "id": "jw-dupCcDaNX",
        "outputId": "e2d6daaa-02c5-4bfd-afa0-a09e25d20935",
        "colab": {
          "base_uri": "https://localhost:8080/"
        }
      },
      "outputs": [
        {
          "output_type": "stream",
          "name": "stdout",
          "text": [
            "21166\n"
          ]
        },
        {
          "output_type": "stream",
          "name": "stderr",
          "text": [
            "/usr/local/lib/python3.7/dist-packages/sklearn/utils/deprecation.py:87: FutureWarning: Function get_feature_names is deprecated; get_feature_names is deprecated in 1.0 and will be removed in 1.2. Please use get_feature_names_out instead.\n",
            "  warnings.warn(msg, category=FutureWarning)\n"
          ]
        }
      ],
      "source": [
        "vectorizer = CountVectorizer(stop_words='english', binary=False, ngram_range=(1,1), token_pattern=r'(?u)\\b[A-Za-z]+\\b') \n",
        "\n",
        "train_vector_data=vectorizer.fit_transform(X_train)\n",
        "\n",
        "feature_names = vectorizer.get_feature_names()\n",
        "print(len(feature_names))\n"
      ]
    },
    {
      "cell_type": "code",
      "execution_count": 14,
      "metadata": {
        "scrolled": true,
        "id": "KRKyJTYIDaNY",
        "outputId": "9e9036d1-f479-4aac-ccac-a241058e74e9",
        "colab": {
          "base_uri": "https://localhost:8080/"
        }
      },
      "outputs": [
        {
          "output_type": "stream",
          "name": "stdout",
          "text": [
            "['aa', 'aaa', 'aaas', 'aac', 'aadc', 'aaliyah', 'aamir', 'aaron', 'abacus', 'abandon', 'abandoned', 'abandoning', 'abandonment', 'abating', 'abba', 'abbas', 'abbasi', 'abbott', 'abc', 'abd', 'abdellatif', 'abdication', 'abdomen', 'abdominal', 'abducted', 'abduction', 'abdullah', 'abdullatif', 'aberdeen', 'aberration']\n",
            "['edits', 'edmondson', 'edu', 'eduardo', 'educate', 'educated', 'educates', 'educating', 'education', 'educational', 'educations', 'edward', 'edwards', 'eef', 'eeoc', 'eerdekens', 'eerie', 'eff', 'effect', 'effective', 'effectively', 'effectiveness', 'effects', 'efficacy', 'efficiencies', 'efficiency', 'efficient', 'efficiently', 'effort', 'effortlessly']\n",
            "['zenden', 'zenith', 'zens', 'zeppelin', 'zero', 'zeta', 'zhang', 'zhaoxing', 'zidane', 'ziers', 'zimbabwe', 'zinc', 'zinedine', 'zip', 'ziyi', 'zodiac', 'zoe', 'zoellick', 'zombie', 'zombies', 'zone', 'zonealarm', 'zones', 'zoom', 'zooms', 'zooropa', 'zuluaga', 'zurich', 'zutons', 'zvonareva']\n"
          ]
        }
      ],
      "source": [
        "print(feature_names[:30])\n",
        "print(feature_names[6000:6030])\n",
        "print(feature_names[-30:])"
      ]
    },
    {
      "cell_type": "code",
      "execution_count": 15,
      "metadata": {
        "id": "gDocDkGuDaNY"
      },
      "outputs": [],
      "source": [
        "from sklearn.feature_extraction.text import TfidfTransformer \n",
        "\n",
        "tfidftrans = TfidfTransformer()\n",
        "train_preprocessed = tfidftrans.fit_transform(train_vector_data)"
      ]
    },
    {
      "cell_type": "markdown",
      "metadata": {
        "id": "ee7ZkS08DaNZ"
      },
      "source": [
        "###  Muestra de mensajes vectorizados"
      ]
    },
    {
      "cell_type": "code",
      "execution_count": 16,
      "metadata": {
        "id": "4MxkctkpDaNZ"
      },
      "outputs": [],
      "source": [
        "import numpy as np\n",
        "import numpy.ma as ma\n",
        "\n",
        "def write_terms (feature_names, data, vector_data, index):\n",
        "    '''\n",
        "    Escribe los términos presentes en un mensaje representado como bolsa de palabras.\n",
        "    \n",
        "    - feature_names: terminos usados para vectorizar\n",
        "    - data: lista de mensajes original (si data==None no se muestra el mensaje original)\n",
        "    - vector_data: matriz (dispersa) de mensaje vectorizados\n",
        "    - index: posición del mensaje a mostrar\n",
        "    '''\n",
        "    # máscara para seleccionar sólo el mensaje en posición index\n",
        "    mask=vector_data[index,:]>0\n",
        "    \n",
        "    # términos que aparecen en ese mensaje vectorizado\n",
        "    terminos = ma.array(feature_names, mask = ~(mask[0].toarray()))\n",
        "    \n",
        "    # mostrar mensaje original\n",
        "    if data is not None:\n",
        "        print('Mensaje', index, ':', data[index])\n",
        "    \n",
        "    # mostrar términos que aparecen en el mensaje vectorizado\n",
        "    print('Mensaje', index, 'vectorizado:', terminos.compressed(),'\\n')"
      ]
    },
    {
      "cell_type": "code",
      "execution_count": 17,
      "metadata": {
        "scrolled": true,
        "id": "1E07uJFmDaNa",
        "outputId": "3cff2059-aef3-41fc-a85f-0d6a48119b82",
        "colab": {
          "base_uri": "https://localhost:8080/"
        }
      },
      "outputs": [
        {
          "output_type": "stream",
          "name": "stdout",
          "text": [
            "Mensaje 100 : blair says uk tsunami aid to soar tony blair has predicted the british government will eventually give  hundreds of millions  of pounds in aid to countries hit by the tsunami.  the prime minister was speaking publicly for the first time since returning from his holiday in egypt. mr blair insisted he had been  intimately involved  in  all decisions at all times  despite being abroad. he was speaking before the uk joins a three-minute silence at noon across the eu for the estimated 150 000 dead.  the foreign office says 41 britons are now confirmed to have died in the tsunami which struck south asia on boxing day  with 158 others missing. asked about criticism that he did not cut short his holiday  mr blair told bbc radio 4 s today programme:  i don t think this is a situation in which the british people need me to articulate what they feel.   i think they feel - as we all do - shock  horror  and absolute solidarity with those people who have lost their lives.  the important thing was action and not words  he said  adding that of the £50m given by the government so far only  six or seven million  had been spent. it would become easier in the coming weeks to assess just how much money would have to be put in.  my estimate is we will need to spend from government several hundred million pounds. so we will far and away more than match the generosity of the british people   he said. asked whether he had not returned to work immediately because he was under doctors orders to rest  mr blair said there was also a story he had been away for plastic surgery.  as you can see unfortunately i am still looking the same as i always did   he joked.  the prime minister took personal charge of the uk s response on tuesday  chairing a meeting of the emergency committee of ministers that has convened daily since boxing day. he also spoke on the telephone to us president george bush  and the presidents of sri lanka and indonesia. chancellor gordon brown earlier backed a plan to freeze the foreign debts of all the affected nations.  mr brown  who was not at the downing street meeting  says he has been in  intensive talks  with other g8 finance ministers. germany proposed a freeze last week and canada has begun its own moratorium. the chancellor said the plan would initially save the most affected countries about $3bn (£1.58bn) in repayments. tory leader michael howard also backed the proposals but said ministers had been  playing catch-up  with public donations.  foreign secretary jack straw is to visit thailand and indonesia this week. during his trip  mr straw will represent the g8 at the international conference called in jakarta  indonesia on thursday. on friday  he will visit the thai beach resort of phuket  where british families are still searching for relatives.  international development secretary hilary benn will also visit aceh in indonesia  as well as sri lanka. the british public has now pledged £76m in aid with emergency supplies from the british government starting to arrive in the region on three raf flights in a joint operation with scandinavian countries. two ships - the royal fleet auxiliary ship diligence and frigate hms chatham - have arrived in the disaster area. a second royal fleet auxiliary vessel  the bayleaf  is also being sent. uk charities have also begun chartering planes to deliver aid.    - a bbc news special: asia remembered  including the three-minutes silence  will be shown on bbc one and bbc news 24 from 1130 to 1215 gmt on wednesday.\n",
            "Mensaje 100 vectorizado: ['abroad' 'absolute' 'aceh' 'action' 'adding' 'affected' 'aid' 'area'\n",
            " 'arrive' 'arrived' 'articulate' 'asia' 'asked' 'assess' 'auxiliary'\n",
            " 'away' 'backed' 'bayleaf' 'bbc' 'beach' 'begun' 'benn' 'blair' 'boxing'\n",
            " 'british' 'britons' 'brown' 'bush' 'called' 'canada' 'catch' 'chairing'\n",
            " 'chancellor' 'charge' 'charities' 'chartering' 'chatham' 'coming'\n",
            " 'committee' 'conference' 'confirmed' 'convened' 'countries' 'criticism'\n",
            " 'cut' 'daily' 'day' 'dead' 'debts' 'decisions' 'deliver' 'despite'\n",
            " 'development' 'did' 'died' 'diligence' 'disaster' 'doctors' 'don'\n",
            " 'donations' 'downing' 'earlier' 'easier' 'egypt' 'emergency' 'estimate'\n",
            " 'estimated' 'eu' 'eventually' 'families' 'far' 'feel' 'finance' 'fleet'\n",
            " 'flights' 'foreign' 'freeze' 'friday' 'frigate' 'generosity' 'george'\n",
            " 'germany' 'given' 'gmt' 'gordon' 'government' 'hilary' 'hit' 'hms'\n",
            " 'holiday' 'horror' 'howard' 'hundreds' 'immediately' 'important'\n",
            " 'including' 'indonesia' 'initially' 'insisted' 'intensive'\n",
            " 'international' 'intimately' 'involved' 'jack' 'jakarta' 'joins' 'joint'\n",
            " 'joked' 'just' 'lanka' 'leader' 'lives' 'looking' 'lost' 'match'\n",
            " 'meeting' 'michael' 'million' 'millions' 'minister' 'ministers' 'minute'\n",
            " 'minutes' 'missing' 'money' 'moratorium' 'mr' 'nations' 'need' 'news'\n",
            " 'noon' 'office' 'operation' 'orders' 'people' 'personal' 'phuket' 'plan'\n",
            " 'planes' 'plastic' 'playing' 'pledged' 'pounds' 'predicted' 'president'\n",
            " 'presidents' 'prime' 'programme' 'proposals' 'proposed' 'public'\n",
            " 'publicly' 'radio' 'raf' 'region' 'relatives' 'remembered' 'repayments'\n",
            " 'represent' 'resort' 'response' 'rest' 'returned' 'returning' 'royal' 's'\n",
            " 'said' 'save' 'says' 'scandinavian' 'searching' 'second' 'secretary'\n",
            " 'sent' 'seven' 'ship' 'ships' 'shock' 'short' 'shown' 'silence'\n",
            " 'situation' 'soar' 'solidarity' 'south' 'speaking' 'special' 'spend'\n",
            " 'spent' 'spoke' 'sri' 'starting' 'story' 'straw' 'street' 'struck'\n",
            " 'supplies' 'surgery' 't' 'talks' 'telephone' 'thai' 'thailand' 'thing'\n",
            " 'think' 'thursday' 'time' 'times' 'today' 'told' 'tony' 'took' 'tory'\n",
            " 'trip' 'tsunami' 'tuesday' 'uk' 'unfortunately' 'vessel' 'visit'\n",
            " 'wednesday' 'week' 'weeks' 'words' 'work'] \n",
            "\n"
          ]
        }
      ],
      "source": [
        "write_terms(feature_names, X_train, train_preprocessed,100)\n"
      ]
    },
    {
      "cell_type": "markdown",
      "metadata": {
        "id": "OhdkwqXjDaNa"
      },
      "source": [
        "Se han eliminado términos poco relevantes como los sujetos o las preposiciones así como términos alfanuméricos que hemos quitado con las expresiones regulares.\n",
        "\n",
        "La razón por la que han sido eliminadas es porque se tratan de términos que pueden producir ruido y que no aportan significado al texto ya que su única función es únicamente la de respetar las reglas de la gramática y ayudar a la comprensión lectora. En consecuencia a la hora de entrenar nuestro clasificador no tendrán utilidad en el aprendizaje."
      ]
    },
    {
      "cell_type": "markdown",
      "metadata": {
        "id": "3VvggXsDDaNb"
      },
      "source": [
        "### Vectorización del conjunto de test"
      ]
    },
    {
      "cell_type": "code",
      "execution_count": 18,
      "metadata": {
        "id": "RTh15X8VDaNb"
      },
      "outputs": [],
      "source": [
        "# Tomamos los textos del conjunto de test y los transformamos en una matriz\n",
        "# de palabras. Al usar \"transform\" toma como referencia únicamente las palabras\n",
        "# encontradas en el conjunto de entrenamiento\n",
        "test_vector_data = vectorizer.transform(X_test)\n",
        "\n",
        "# Si sobre la consulta también realizamos la ponderación TF/IDF estamos amplificando\n",
        "# el efecto de la misma a la hora de recuperar ejemplos relevantes\n",
        "test_preprocessed = tfidftrans.transform(test_vector_data)"
      ]
    },
    {
      "cell_type": "markdown",
      "metadata": {
        "id": "0t_Kka0xDaNc"
      },
      "source": [
        "### Recuperación de ejemplos relevantes y cálculo de precisión a nivel X"
      ]
    },
    {
      "cell_type": "markdown",
      "metadata": {
        "id": "CkViuupuDaNc"
      },
      "source": [
        "Calcula la precisión@5 de cada una de las clases usando como consultas los documentos de la partición de test y la similitud del coseno. Vamos a considerar que un documento recuperado es relevante cuando pertenezca a la misma clase que la consulta.\n",
        "\n",
        "Dibuja los resultados en un diagrama de barras y comenta las clases en las que se comporta mejor y peor. ¿Crees que los resultados son buenos?"
      ]
    },
    {
      "cell_type": "markdown",
      "metadata": {
        "id": "UZ0urMZ4DaNd"
      },
      "source": [
        "Utilizamos las funciones del notebook de ejemplo para realizar los cálculos pertinentes."
      ]
    },
    {
      "cell_type": "code",
      "execution_count": 19,
      "metadata": {
        "id": "YXGf9uNEDaNd"
      },
      "outputs": [],
      "source": [
        "from sklearn.metrics.pairwise import cosine_similarity\n",
        "\n",
        "def knn(query, X_train, k):\n",
        "    '''Devuelve los índices de los k documentos de entrenamiento más similares a la consulta usando \n",
        "    la similitud del coseno.\n",
        "    \n",
        "    Parámetros:\n",
        "    - query: documento consulta vectorizado\n",
        "    - X_train: documentos de entrenamiento vectorizados\n",
        "    - k: número de documentos a recuperar\n",
        "    \n",
        "    Devuelve:\n",
        "    - índices de los k documentos más similares a la consulta.\n",
        "    '''\n",
        "    \n",
        "    # Necesitamos un vector de dimensión (1, X). Si se pasa un vector de dimensión X, transformarlo\n",
        "    if len(query.shape) == 1:\n",
        "        query = query.reshape(1, -1)\n",
        "\n",
        "    simil = cosine_similarity(query, X_train)\n",
        "    simil_idx = np.argsort(simil.flatten())\n",
        "    simil_idx = simil_idx[::-1]\n",
        "    return simil_idx[:k]"
      ]
    },
    {
      "cell_type": "code",
      "execution_count": 20,
      "metadata": {
        "id": "Csfg2dXADaNe"
      },
      "outputs": [],
      "source": [
        "def precision_at_k(y_selected, y_real, k):\n",
        "    '''Devuelve la precisión @k de los documentos seleccionados.\n",
        "    \n",
        "    Parametros:\n",
        "    - y_selected: etiquetas de los documentos seleccionados (se usan los k primeros)\n",
        "    - y_real: etiqueta de la categoría correcta\n",
        "    - k: número de documentos que se tienen en cuenta\n",
        "    \n",
        "    Devuelve:\n",
        "    - Precisión@k\n",
        "    '''\n",
        "    \n",
        "    return np.sum(y_selected[:k] == y_real) / k * 100"
      ]
    },
    {
      "cell_type": "code",
      "execution_count": 21,
      "metadata": {
        "id": "XJg_WWwKDaNe"
      },
      "outputs": [],
      "source": [
        "def mean_precisions_per_class(X_train, y_train, X_test, y_test, k):\n",
        "    '''Devuelve las precision@k media para cada una de las classes.\n",
        "    \n",
        "    Parámetros:\n",
        "    - X_train: documentos de entrenamiento vectorizados.\n",
        "    - y_train: etiquetas de los documentos de entrenamiento.\n",
        "    - X_test: documentos vectorizados que se usan como consultas\n",
        "    - y_test: etiquetas de los documentos que se usan como consultas\n",
        "    - k: número de documentos considerados a recuperar por la consulta\n",
        "    \n",
        "    Devuelve:\n",
        "    - Diccionario clase -> precisión en tanto por ciento.\n",
        "    '''\n",
        "    \n",
        "    # diccionario categoría -> lista de precisiones\n",
        "    y_precisions = {y: [] for y in np.unique(y_test)}\n",
        "    \n",
        "    # Calcular precision@k para cada consulta\n",
        "    for x_query, y_query in zip(X_test, y_test):\n",
        "        idx = knn(x_query, X_train, k)\n",
        "        y_selected = np.take(y_train, idx)\n",
        "        precision = precision_at_k(y_selected, y_query, k)\n",
        "        y_precisions[y_query].append(precision)\n",
        "        \n",
        "    # Calcular medias\n",
        "    for y in y_precisions:\n",
        "        y_precisions[y] = np.mean(y_precisions[y])\n",
        "    \n",
        "    return y_precisions"
      ]
    },
    {
      "cell_type": "code",
      "execution_count": 22,
      "metadata": {
        "id": "mLzWLBC1DaNf",
        "outputId": "c3036b88-a5fe-419e-eb66-8993c89d2d7f",
        "colab": {
          "base_uri": "https://localhost:8080/"
        }
      },
      "outputs": [
        {
          "output_type": "execute_result",
          "data": {
            "text/plain": [
              "{'business': 86.26865671641791,\n",
              " 'entertainment': 86.54545454545455,\n",
              " 'politics': 84.36363636363636,\n",
              " 'sport': 98.26086956521739,\n",
              " 'tech': 86.15384615384616}"
            ]
          },
          "metadata": {},
          "execution_count": 22
        }
      ],
      "source": [
        "p5= mean_precisions_per_class(train_preprocessed, y_train, test_preprocessed[:], y_test[:], 5)\n",
        "    \n",
        "p5"
      ]
    },
    {
      "cell_type": "code",
      "execution_count": 23,
      "metadata": {
        "id": "Cq7SRy3IDaNg",
        "outputId": "c5a5992d-c59a-4a64-93ee-d1b34bb4286d",
        "colab": {
          "base_uri": "https://localhost:8080/",
          "height": 358
        }
      },
      "outputs": [
        {
          "output_type": "execute_result",
          "data": {
            "text/plain": [
              "<matplotlib.axes._subplots.AxesSubplot at 0x7f67651cf810>"
            ]
          },
          "metadata": {},
          "execution_count": 23
        },
        {
          "output_type": "display_data",
          "data": {
            "text/plain": [
              "<Figure size 432x288 with 1 Axes>"
            ],
            "image/png": "[encoded data removed]"
          },
          "metadata": {
            "needs_background": "light"
          }
        }
      ],
      "source": [
        "import pandas as pd\n",
        "\n",
        "df_p5 = pd.DataFrame.from_dict(p5, orient='index', columns=['precision@5'])\n",
        "\n",
        "df_p5[\"target\"] =  list(set(y_train))\n",
        "d = df_p5.set_index(\"target\")\n",
        "\n",
        "d.plot.bar()"
      ]
    },
    {
      "cell_type": "markdown",
      "source": [
        "De los valores de precición mostrados en la gráfica anterior para las distintas clases del conjunto de datos podemos extraer las siguientes conclusiones:\n",
        "\n",
        "- Todos los valores de precisión se encuentran en un rango de valores muy similar a excepción de la categoría de noticias de política que destaca notablemente.\n",
        "\n",
        "- Todas las clases tienen una precisión muy elevada y superior al 80%\n",
        "\n",
        "- La clase para la que menor precisión se obtiene es la clase de las noticias de negocios. Pensamos que esto puede ser así ya que es un tema con términos y conceptos que pueden aparecer en otras noticias con bastante frecuencia. Por ejemplo en la parte anterior de la prática comentamos como sería probable que en el caso de una noticia de deportes se hablase sobre el fichaje de un nuevo jugador y su proceso de compra o por ejemplo en una noticia de politica un descubrimiento de un nuevo caso de corrupción  en el que esten implicados, por ejemplo, sociedades pantalla que son términos referentes a negocios. \n",
        "\n",
        "En consecuencia pensamos que los resultados son bastante satisfactorios.\n"
      ],
      "metadata": {
        "id": "BUNBg-Nsj5Sw"
      }
    },
    {
      "cell_type": "markdown",
      "metadata": {
        "id": "lH7sldldpzXi"
      },
      "source": [
        "## 3) Representación basada en word-embeddings y tf-idf\n",
        "\n",
        "La segunda vectorización que vamos a usar representará los mensajes usando usando word-embeddings usando como pesos la frecuencia de aparición de cada palabra. Al igual que en el apartado anterior, usaremos monogramas y las _stop words_ que vienen configuradas por defecto para el inglés. Recuerda usar como vocabulario para vectorizar el vocabulario del fichero con las word-embeddings.\n",
        "\n",
        "Aplica la vectorización a los conjuntos de mensajes de entrenamiento y test.\n",
        "\n",
        "Calcula la precisión@5 de cada una de las clases usando como consultas los documentos de la partición de test y la similitud del coseno. Vamos a considerar que un documento recuperado es relevante cuando pertenezca a la misma clase que la consulta.\n",
        "\n",
        "Dibuja los resultados en un diagrama de barras y compara los resultados con los del apartado anterior."
      ]
    },
    {
      "cell_type": "code",
      "execution_count": 24,
      "metadata": {
        "scrolled": true,
        "id": "YX54ZwohDaNh"
      },
      "outputs": [],
      "source": [
        "from gensim.scripts.glove2word2vec import glove2word2vec\n",
        "from gensim.models import KeyedVectors"
      ]
    },
    {
      "cell_type": "code",
      "execution_count": 25,
      "metadata": {
        "id": "As1I8xLWDaNh",
        "colab": {
          "base_uri": "https://localhost:8080/",
          "height": 184
        },
        "outputId": "6097be9d-0b71-4aaa-991f-a840c99b7b17"
      },
      "outputs": [
        {
          "output_type": "error",
          "ename": "TypeError",
          "evalue": "ignored",
          "traceback": [
            "\u001b[0;31m---------------------------------------------------------------------------\u001b[0m",
            "\u001b[0;31mTypeError\u001b[0m                                 Traceback (most recent call last)",
            "\u001b[0;32m<ipython-input-25-0fc717341f32>\u001b[0m in \u001b[0;36m<module>\u001b[0;34m()\u001b[0m\n\u001b[1;32m      1\u001b[0m \u001b[0mglove_file\u001b[0m \u001b[0;34m=\u001b[0m \u001b[0;34m'glove.6B.50d.txt'\u001b[0m\u001b[0;34m\u001b[0m\u001b[0;34m\u001b[0m\u001b[0m\n\u001b[0;32m----> 2\u001b[0;31m \u001b[0mmodel\u001b[0m \u001b[0;34m=\u001b[0m \u001b[0mKeyedVectors\u001b[0m\u001b[0;34m.\u001b[0m\u001b[0mload_word2vec_format\u001b[0m\u001b[0;34m(\u001b[0m\u001b[0mglove_file\u001b[0m\u001b[0;34m,\u001b[0m \u001b[0mbinary\u001b[0m\u001b[0;34m=\u001b[0m\u001b[0;32mFalse\u001b[0m\u001b[0;34m,\u001b[0m \u001b[0mno_header\u001b[0m\u001b[0;34m=\u001b[0m\u001b[0;32mTrue\u001b[0m\u001b[0;34m)\u001b[0m\u001b[0;34m\u001b[0m\u001b[0;34m\u001b[0m\u001b[0m\n\u001b[0m",
            "\u001b[0;31mTypeError\u001b[0m: load_word2vec_format() got an unexpected keyword argument 'no_header'"
          ]
        }
      ],
      "source": [
        "glove_file = 'glove.6B.50d.txt'\n",
        "model = KeyedVectors.load_word2vec_format(glove_file, binary=False, no_header=True)"
      ]
    },
    {
      "cell_type": "code",
      "execution_count": 26,
      "metadata": {
        "id": "aauYUlfMDaNh",
        "outputId": "10dfe70c-3ec2-4661-fc14-0090962ea010",
        "colab": {
          "base_uri": "https://localhost:8080/",
          "height": 201
        }
      },
      "outputs": [
        {
          "output_type": "error",
          "ename": "NameError",
          "evalue": "ignored",
          "traceback": [
            "\u001b[0;31m---------------------------------------------------------------------------\u001b[0m",
            "\u001b[0;31mNameError\u001b[0m                                 Traceback (most recent call last)",
            "\u001b[0;32m<ipython-input-26-278ce5409859>\u001b[0m in \u001b[0;36m<module>\u001b[0;34m()\u001b[0m\n\u001b[0;32m----> 1\u001b[0;31m \u001b[0mwe_vocabulary\u001b[0m \u001b[0;34m=\u001b[0m \u001b[0mlist\u001b[0m\u001b[0;34m(\u001b[0m\u001b[0mmodel\u001b[0m\u001b[0;34m.\u001b[0m\u001b[0mkey_to_index\u001b[0m\u001b[0;34m.\u001b[0m\u001b[0mkeys\u001b[0m\u001b[0;34m(\u001b[0m\u001b[0;34m)\u001b[0m\u001b[0;34m)\u001b[0m\u001b[0;34m\u001b[0m\u001b[0;34m\u001b[0m\u001b[0m\n\u001b[0m\u001b[1;32m      2\u001b[0m \u001b[0;34m\u001b[0m\u001b[0m\n\u001b[1;32m      3\u001b[0m \u001b[0mprint\u001b[0m\u001b[0;34m(\u001b[0m\u001b[0mwe_vocabulary\u001b[0m\u001b[0;34m[\u001b[0m\u001b[0;36m0\u001b[0m\u001b[0;34m:\u001b[0m\u001b[0;36m10\u001b[0m\u001b[0;34m]\u001b[0m\u001b[0;34m)\u001b[0m\u001b[0;34m\u001b[0m\u001b[0;34m\u001b[0m\u001b[0m\n",
            "\u001b[0;31mNameError\u001b[0m: name 'model' is not defined"
          ]
        }
      ],
      "source": [
        "we_vocabulary = list(model.key_to_index.keys())\n",
        "\n",
        "print(we_vocabulary[0:10])"
      ]
    },
    {
      "cell_type": "code",
      "execution_count": null,
      "metadata": {
        "id": "SjWg-6EKDaNi"
      },
      "outputs": [],
      "source": [
        "\n",
        "# Ponemos nuestro corpus de palabras y lo vectorizamos, tanto la parte de entrenamiento como la de test.\n",
        "\n",
        "vectorizer = CountVectorizer(vocabulary = we_vocabulary, binary = False)\n",
        "X_train_preprocessed_embed = vectorizer.fit_transform(X_train)\n",
        "X_test_preprocessed_embed = vectorizer.fit_transform(X_test)\n"
      ]
    },
    {
      "cell_type": "code",
      "execution_count": null,
      "metadata": {
        "id": "YmloihwpDaNi"
      },
      "outputs": [],
      "source": [
        "from scipy.sparse import find\n",
        "\n",
        "\n",
        "def create_doc_embedding (doc_matrix_word_freq, keyedvectors):\n",
        "    \"\"\"\n",
        "    create_doc_embedding creates a doc-embedding matrix where rows are the \n",
        "    documents and columns are the dimensions of the word-embedding. Each row r\n",
        "    summarizes the vectors of the word-embeddings present in document r\n",
        "\n",
        "    :param doc_matrix_word_freq: frequency matrix of the terms in each document\n",
        "            It admits binary values, frequencies or weights.\n",
        "            It admits the output of vectorizer.fit_transform\n",
        "    :param keyedvectors: keyedvectors object from Gensim which has the \n",
        "            word-embedding information\n",
        "    :return: returns the doc-embedding matrix that summarizes the \n",
        "             vector-embeddings of the words present in each document\n",
        "    \"\"\" \n",
        "\n",
        "    \n",
        "    num_docs, num_words= doc_matrix_word_freq.get_shape()\n",
        "\n",
        "    # Creamos la matriz de documentos con tantas columnas como dimensiones tiene el we \n",
        "    doc_embed_matrix = np.zeros([num_docs,keyedvectors.vector_size])\n",
        "\n",
        "\n",
        "    # Obtenemos los documentos\n",
        "    docs, col, val = find(doc_matrix_word_freq)\n",
        "    docs = np.unique(docs)\n",
        "\n",
        "    # Para cada documento (esto se podrá hacer de forma más pythonica)\n",
        "    for doc in docs:\n",
        "      # Obtenemos las palabras presentes en el documento y su frecuencia\n",
        "      row, words, frecs = find(doc_matrix_word_freq[doc,:])\n",
        "\n",
        "      # Calculamos el vector medio para el documento\n",
        "      # Para ello recuperamos los vectores del we presentes en el documento y \n",
        "      # los promediamos teniendo en cuenta su frecuencia\n",
        "      count = 0\n",
        "      for w,f in zip(words,frecs):\n",
        "        doc_embed_matrix[doc,:] = doc_embed_matrix[doc,:] + (keyedvectors[w] * f)\n",
        "        count = count +1\n",
        "      doc_embed_matrix[doc,:] = doc_embed_matrix[doc,:]/count\n",
        "    \n",
        "      \n",
        "    return doc_embed_matrix"
      ]
    },
    {
      "cell_type": "code",
      "execution_count": null,
      "metadata": {
        "id": "gmMNHX20DaNj"
      },
      "outputs": [],
      "source": [
        "doc_train_matrix = create_doc_embedding(X_train_preprocessed_embed,model)\n",
        "doc_test_matrix = create_doc_embedding(X_test_preprocessed_embed,model)"
      ]
    },
    {
      "cell_type": "markdown",
      "metadata": {
        "id": "ijwgnnWADaNj"
      },
      "source": [
        "### Recuperación de ejemplos relevantes y cálculo de precisión a nivel 5\n"
      ]
    },
    {
      "cell_type": "code",
      "execution_count": null,
      "metadata": {
        "id": "GQ3mgsTfDaNj",
        "outputId": "e3b12c15-b916-4e59-b986-e72cbc2b9f23"
      },
      "outputs": [
        {
          "data": {
            "text/plain": [
              "{'business': 88.65671641791045,\n",
              " 'entertainment': 93.81818181818181,\n",
              " 'politics': 88.36363636363636,\n",
              " 'sport': 99.42028985507247,\n",
              " 'tech': 92.6923076923077}"
            ]
          },
          "execution_count": 52,
          "metadata": {},
          "output_type": "execute_result"
        }
      ],
      "source": [
        "p5= mean_precisions_per_class(doc_train_matrix, y_train, doc_test_matrix, y_test[:], 5)\n",
        "    \n",
        "p5"
      ]
    },
    {
      "cell_type": "code",
      "execution_count": null,
      "metadata": {
        "id": "af3-Oad9DaNj",
        "outputId": "d9eec13b-d094-4b86-8675-0afb0e1c9eb9"
      },
      "outputs": [
        {
          "data": {
            "text/plain": [
              "<AxesSubplot:xlabel='target'>"
            ]
          },
          "execution_count": 53,
          "metadata": {},
          "output_type": "execute_result"
        },
        {
          "data": {
            "image/png": "[encoded data removed]",
            "text/plain": [
              "<Figure size 432x288 with 1 Axes>"
            ]
          },
          "metadata": {
            "needs_background": "light"
          },
          "output_type": "display_data"
        }
      ],
      "source": [
        "\n",
        "df_p5 = pd.DataFrame.from_dict(p5, orient='index', columns=['precision@5'])\n",
        "\n",
        "df_p5[\"target\"] =  list(set(y_train))\n",
        "d = df_p5.set_index(\"target\")\n",
        "\n",
        "d.plot.bar()"
      ]
    },
    {
      "cell_type": "markdown",
      "source": [
        "En comparación con los valores de precisión del apartado anterior podemos observar que los resultados han mejorado significativamente:\n",
        "\n",
        "- Todos los valores de precisión siguen manteniéndose en un rango de valores muy similar y la categoría de noticias de política sigue destacando notablemente.\n",
        "\n",
        "- Todas las clases continuan teniendo una precisión muy elevada, esta vez en torno al 90% frente al 80% obtenido anteriormente \n",
        "\n",
        "- La clase para la que menor precisión se obtiene continúa siendo la clase de las noticias de negocios\n",
        "\n",
        "Puesto que los valores de precisión han mejorado de manera uniforme en todas las categoría podemos afirmar que los resultados han mejorado.\n"
      ],
      "metadata": {
        "id": "-Q-zM_DgnSlp"
      }
    },
    {
      "cell_type": "markdown",
      "metadata": {
        "id": "d-J6GYut4DGu"
      },
      "source": [
        "## 4) Análisis de errores\n",
        "\n",
        "Vamos a investigar los resultados para entender mejor dónde están fallando los procesos de recuperación. Sigue los siguientes pasos.\n",
        "\n",
        "\n",
        "1. Identifica la categoría de noticias donde la precisión media haya mejorado más al incorporar word-embeddings\n",
        "2. Para dicha categoría, identifica la consulta donde la precisión haya mejorado más al usar word-embeddings\n",
        "3. Muestra el texto original de la consulta y los términos que aparecen en las dos vectorizaciones tf-idf que usamos (recuerda que usamos diccionarios distintos para las vectorizaciones bolsa de palabras y word-embeddings).\n",
        "4. Identifica las noticias recuperadas para dicha consulta para las dos aproximaciones y sus categorías (TF-IDF puro y con word-embeddings)\n",
        "5. Muestra la intersección de términos entre la consulta y la primera noticia mal recuperada usando TF-IDF puro.\n",
        "6. Muestra la intersección de términos entre la consulta y la última noticia bien recuperada usando word-embeddings.\n",
        "7. A la luz de todo lo anterior, razona sobre por qué crees que el TF-IDF no fue capaz de clasificar bien la noticia y el word-embedding sí.\n",
        "\n",
        "\n",
        "Puedes usar el código que calcula la intersección de términos que ponemos a continuación"
      ]
    },
    {
      "cell_type": "code",
      "execution_count": null,
      "metadata": {
        "id": "RUat8DCRLYs1"
      },
      "outputs": [],
      "source": [
        "def terms_in_message(feature_names,vector_data,index):\n",
        "    '''\n",
        "    Devuelve un conjunto los términos presentes en un mensaje representado como bolsa de palabras.\n",
        "    \n",
        "    - feature_names: terminos usados para vectorizar\n",
        "    \n",
        "    - vector_data: matriz (dispersa) de mensaje vectorizados\n",
        "    - index: posición del mensaje a mostrar\n",
        "    '''\n",
        "    mensaje=vector_data[index,:]>0\n",
        "    terminos_presentes = ma.array(feature_names, mask = ~(mensaje[0].toarray()))\n",
        "\n",
        "    return set(terminos_presentes.compressed())"
      ]
    },
    {
      "cell_type": "code",
      "execution_count": null,
      "metadata": {
        "id": "z_2VuUeiDaNl",
        "outputId": "9ceb52db-5a72-4ce7-8eef-840330d70a5b"
      },
      "outputs": [
        {
          "data": {
            "text/plain": [
              "{'added',\n",
              " 'adding',\n",
              " 'agree',\n",
              " 'america',\n",
              " 'analyst',\n",
              " 'asia',\n",
              " 'asian',\n",
              " 'atlantic',\n",
              " 'average',\n",
              " 'barrel',\n",
              " 'based',\n",
              " 'bin',\n",
              " 'borne',\n",
              " 'brent',\n",
              " 'carried',\n",
              " 'cartel',\n",
              " 'citing',\n",
              " 'close',\n",
              " 'closed',\n",
              " 'cold',\n",
              " 'contributed',\n",
              " 'crude',\n",
              " 'cut',\n",
              " 'days',\n",
              " 'decline',\n",
              " 'declines',\n",
              " 'demand',\n",
              " 'dollar',\n",
              " 'east',\n",
              " 'electronic',\n",
              " 'euro',\n",
              " 'europe',\n",
              " 'expectations',\n",
              " 'factor',\n",
              " 'falling',\n",
              " 'fathi',\n",
              " 'freeze',\n",
              " 'freezing',\n",
              " 'gertz',\n",
              " 'given',\n",
              " 'gmt',\n",
              " 'halt',\n",
              " 'heavy',\n",
              " 'high',\n",
              " 'highs',\n",
              " 'immediately',\n",
              " 'inflate',\n",
              " 'keeps',\n",
              " 'libya',\n",
              " 'london',\n",
              " 'low',\n",
              " 'members',\n",
              " 'minister',\n",
              " 'month',\n",
              " 'morning',\n",
              " 'need',\n",
              " 'new',\n",
              " 'north',\n",
              " 'november',\n",
              " 'october',\n",
              " 'oil',\n",
              " 'opec',\n",
              " 'output',\n",
              " 'past',\n",
              " 'peak',\n",
              " 'pound',\n",
              " 'price',\n",
              " 'prices',\n",
              " 'primary',\n",
              " 'production',\n",
              " 'purvin',\n",
              " 'pushed',\n",
              " 'reached',\n",
              " 'reason',\n",
              " 'rebound',\n",
              " 'recent',\n",
              " 'reuters',\n",
              " 'rise',\n",
              " 'rising',\n",
              " 'rose',\n",
              " 's',\n",
              " 'said',\n",
              " 'saw',\n",
              " 'served',\n",
              " 'shatwan',\n",
              " 'shivering',\n",
              " 'shum',\n",
              " 'sides',\n",
              " 'singapore',\n",
              " 'snowfalls',\n",
              " 'strengthened',\n",
              " 'strong',\n",
              " 'supply',\n",
              " 'temperatures',\n",
              " 'think',\n",
              " 'time',\n",
              " 'told',\n",
              " 'took',\n",
              " 'trade',\n",
              " 'trading',\n",
              " 'tuesday',\n",
              " 'unless',\n",
              " 'unlikely',\n",
              " 'unseasonably',\n",
              " 'upwards',\n",
              " 'victor',\n",
              " 'weak',\n",
              " 'weather',\n",
              " 'wednesday',\n",
              " 'week',\n",
              " 'western',\n",
              " 'winter',\n",
              " 'year',\n",
              " 'yen',\n",
              " 'york'}"
            ]
          },
          "execution_count": 59,
          "metadata": {},
          "output_type": "execute_result"
        }
      ],
      "source": [
        "terms_in_message(feature_names,train_preprocessed,0)"
      ]
    }
  ],
  "metadata": {
    "colab": {
      "name": "IA_PRAC2_2.ipynb",
      "provenance": [],
      "collapsed_sections": []
    },
    "kernelspec": {
      "display_name": "Python 3",
      "language": "python",
      "name": "python3"
    },
    "language_info": {
      "codemirror_mode": {
        "name": "ipython",
        "version": 3
      },
      "file_extension": ".py",
      "mimetype": "text/x-python",
      "name": "python",
      "nbconvert_exporter": "python",
      "pygments_lexer": "ipython3",
      "version": "3.8.8"
    }
  },
  "nbformat": 4,
  "nbformat_minor": 0
}
