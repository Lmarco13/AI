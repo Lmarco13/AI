{
 "cells": [
  {
   "cell_type": "markdown",
   "metadata": {
    "id": "OUBRwgEu3yu1"
   },
   "source": [
    "# Práctica 2: Procesamiento del Lenguaje Natural\n",
    "\n",
    "__Fecha de entrega: 17 de abril de 2022__\n",
    "\n",
    "El objetivo de esta práctica es aplicar los conceptos teóricos vistos en clase en el módulo de PLN. La práctica consta de 2 notebooks que se entregarán simultáneamente en la tarea de entrega habilitada en el Campus  Virtual.\n",
    "\n",
    "Lo más importante en esta práctica no es el código Python, sino el análisis de los datos y modelos que construyas y las explicaciones razonadas de cada una de las decisiones que tomes. __No se valorarán trozos de código o gráficas sin ningún tipo de contexto o explicación__.\n",
    "\n",
    "Finalmente, recuerda establecer el parámetro `random_state` en todas las funciones que tomen decisiones aleatorias para que los resultados sean reproducibles (los resultados no varíen entre ejecuciones)."
   ]
  },
  {
   "cell_type": "code",
   "execution_count": 2,
   "metadata": {
    "id": "V3YxCTUW3yu9"
   },
   "outputs": [],
   "source": [
    "RANDOM_STATE = 42"
   ]
  },
  {
   "cell_type": "markdown",
   "metadata": {
    "id": "pn_YQLVL3yvA"
   },
   "source": [
    "# Apartado 1: Clasificador de noticias"
   ]
  },
  {
   "cell_type": "markdown",
   "metadata": {
    "id": "de-i8w0s3yvC"
   },
   "source": [
    "__Número de grupo: 4__\n",
    "\n",
    "__Nombres de los estudiantes: Fernando de la Gándara Fernández, Jaime Martínez Gamero, Laura Marta Marco Simal__"
   ]
  },
  {
   "cell_type": "markdown",
   "metadata": {
    "id": "yeVD_g2D3yvC"
   },
   "source": [
    "## 1) Carga del conjunto de datos\n",
    "\n",
    "El fichero `BBC News.csv` contiene noticias clasificadas en 5 categorías diferentes. \n",
    "\n",
    "Carga los datos en un dataframe teniendo en cuenta que la columna `ArticleId` es un identificador de la noticia y por lo tanto no debes usarlo para clasificar. \n",
    "\n",
    "Estudia el tamaño del conjunto de datos y la proporción de noticias que pertenecen a cada una de las categorías. Indica si debemos tenerlo en cuenta de alguna forma al analizar los modelos que construyamos.\n",
    "\n",
    "Muestra un mensaje cualquiera y explica si lo habrías clasificado en la clase correcta tras leerlo.\n",
    "\n",
    "Crea una partición de los datos dejando el 80% para entrenamiento y el 20% restante para test usando la función `train_test_split` de sklearn. "
   ]
  },
  {
   "cell_type": "code",
   "execution_count": 16,
   "metadata": {
    "id": "0csu2B8N3yvE"
   },
   "outputs": [],
   "source": [
    "import numpy as np\n",
    "import pandas as pd\n",
    "from sklearn.model_selection import train_test_split"
   ]
  },
  {
   "cell_type": "code",
   "execution_count": 61,
   "metadata": {},
   "outputs": [],
   "source": [
    "df_bbc = pd.read_csv('BBC News.csv', index_col = 0)"
   ]
  },
  {
   "cell_type": "code",
   "execution_count": 84,
   "metadata": {},
   "outputs": [
    {
     "data": {
      "text/html": [
       "<div>\n",
       "<style scoped>\n",
       "    .dataframe tbody tr th:only-of-type {\n",
       "        vertical-align: middle;\n",
       "    }\n",
       "\n",
       "    .dataframe tbody tr th {\n",
       "        vertical-align: top;\n",
       "    }\n",
       "\n",
       "    .dataframe thead th {\n",
       "        text-align: right;\n",
       "    }\n",
       "</style>\n",
       "<table border=\"1\" class=\"dataframe\">\n",
       "  <thead>\n",
       "    <tr style=\"text-align: right;\">\n",
       "      <th></th>\n",
       "      <th>Text</th>\n",
       "      <th>Category</th>\n",
       "    </tr>\n",
       "    <tr>\n",
       "      <th>ArticleId</th>\n",
       "      <th></th>\n",
       "      <th></th>\n",
       "    </tr>\n",
       "  </thead>\n",
       "  <tbody>\n",
       "    <tr>\n",
       "      <th>1833</th>\n",
       "      <td>worldcom ex-boss launches defence lawyers defe...</td>\n",
       "      <td>business</td>\n",
       "    </tr>\n",
       "    <tr>\n",
       "      <th>154</th>\n",
       "      <td>german business confidence slides german busin...</td>\n",
       "      <td>business</td>\n",
       "    </tr>\n",
       "    <tr>\n",
       "      <th>1101</th>\n",
       "      <td>bbc poll indicates economic gloom citizens in ...</td>\n",
       "      <td>business</td>\n",
       "    </tr>\n",
       "    <tr>\n",
       "      <th>1976</th>\n",
       "      <td>lifestyle  governs mobile choice  faster  bett...</td>\n",
       "      <td>tech</td>\n",
       "    </tr>\n",
       "    <tr>\n",
       "      <th>917</th>\n",
       "      <td>enron bosses in $168m payout eighteen former e...</td>\n",
       "      <td>business</td>\n",
       "    </tr>\n",
       "    <tr>\n",
       "      <th>...</th>\n",
       "      <td>...</td>\n",
       "      <td>...</td>\n",
       "    </tr>\n",
       "    <tr>\n",
       "      <th>857</th>\n",
       "      <td>double eviction from big brother model caprice...</td>\n",
       "      <td>entertainment</td>\n",
       "    </tr>\n",
       "    <tr>\n",
       "      <th>325</th>\n",
       "      <td>dj double act revamp chart show dj duo jk and ...</td>\n",
       "      <td>entertainment</td>\n",
       "    </tr>\n",
       "    <tr>\n",
       "      <th>1590</th>\n",
       "      <td>weak dollar hits reuters revenues at media gro...</td>\n",
       "      <td>business</td>\n",
       "    </tr>\n",
       "    <tr>\n",
       "      <th>1587</th>\n",
       "      <td>apple ipod family expands market apple has exp...</td>\n",
       "      <td>tech</td>\n",
       "    </tr>\n",
       "    <tr>\n",
       "      <th>538</th>\n",
       "      <td>santy worm makes unwelcome visit thousands of ...</td>\n",
       "      <td>tech</td>\n",
       "    </tr>\n",
       "  </tbody>\n",
       "</table>\n",
       "<p>1490 rows × 2 columns</p>\n",
       "</div>"
      ],
      "text/plain": [
       "                                                        Text       Category\n",
       "ArticleId                                                                  \n",
       "1833       worldcom ex-boss launches defence lawyers defe...       business\n",
       "154        german business confidence slides german busin...       business\n",
       "1101       bbc poll indicates economic gloom citizens in ...       business\n",
       "1976       lifestyle  governs mobile choice  faster  bett...           tech\n",
       "917        enron bosses in $168m payout eighteen former e...       business\n",
       "...                                                      ...            ...\n",
       "857        double eviction from big brother model caprice...  entertainment\n",
       "325        dj double act revamp chart show dj duo jk and ...  entertainment\n",
       "1590       weak dollar hits reuters revenues at media gro...       business\n",
       "1587       apple ipod family expands market apple has exp...           tech\n",
       "538        santy worm makes unwelcome visit thousands of ...           tech\n",
       "\n",
       "[1490 rows x 2 columns]"
      ]
     },
     "execution_count": 84,
     "metadata": {},
     "output_type": "execute_result"
    }
   ],
   "source": [
    "df_bbc"
   ]
  },
  {
   "cell_type": "code",
   "execution_count": 76,
   "metadata": {
    "scrolled": true
   },
   "outputs": [
    {
     "data": {
      "text/plain": [
       "sport            0.232215\n",
       "business         0.225503\n",
       "politics         0.183893\n",
       "entertainment    0.183221\n",
       "tech             0.175168\n",
       "Name: Category, dtype: float64"
      ]
     },
     "execution_count": 76,
     "metadata": {},
     "output_type": "execute_result"
    }
   ],
   "source": [
    "df_percentage = df_bbc['Category'].value_counts()/df_bbc.count()[0]\n",
    "df_percentage\n"
   ]
  },
  {
   "cell_type": "code",
   "execution_count": 77,
   "metadata": {},
   "outputs": [
    {
     "data": {
      "text/html": [
       "<div>\n",
       "<style scoped>\n",
       "    .dataframe tbody tr th:only-of-type {\n",
       "        vertical-align: middle;\n",
       "    }\n",
       "\n",
       "    .dataframe tbody tr th {\n",
       "        vertical-align: top;\n",
       "    }\n",
       "\n",
       "    .dataframe thead tr th {\n",
       "        text-align: left;\n",
       "    }\n",
       "\n",
       "    .dataframe thead tr:last-of-type th {\n",
       "        text-align: right;\n",
       "    }\n",
       "</style>\n",
       "<table border=\"1\" class=\"dataframe\">\n",
       "  <thead>\n",
       "    <tr>\n",
       "      <th></th>\n",
       "      <th colspan=\"4\" halign=\"left\">Text</th>\n",
       "    </tr>\n",
       "    <tr>\n",
       "      <th></th>\n",
       "      <th>count</th>\n",
       "      <th>unique</th>\n",
       "      <th>top</th>\n",
       "      <th>freq</th>\n",
       "    </tr>\n",
       "    <tr>\n",
       "      <th>Category</th>\n",
       "      <th></th>\n",
       "      <th></th>\n",
       "      <th></th>\n",
       "      <th></th>\n",
       "    </tr>\n",
       "  </thead>\n",
       "  <tbody>\n",
       "    <tr>\n",
       "      <th>business</th>\n",
       "      <td>336</td>\n",
       "      <td>335</td>\n",
       "      <td>economy  strong  in election year uk businesse...</td>\n",
       "      <td>2</td>\n",
       "    </tr>\n",
       "    <tr>\n",
       "      <th>entertainment</th>\n",
       "      <td>273</td>\n",
       "      <td>263</td>\n",
       "      <td>stars pay tribute to actor davis hollywood sta...</td>\n",
       "      <td>2</td>\n",
       "    </tr>\n",
       "    <tr>\n",
       "      <th>politics</th>\n",
       "      <td>274</td>\n",
       "      <td>266</td>\n",
       "      <td>mps issued with blackberry threat mps will be ...</td>\n",
       "      <td>2</td>\n",
       "    </tr>\n",
       "    <tr>\n",
       "      <th>sport</th>\n",
       "      <td>346</td>\n",
       "      <td>342</td>\n",
       "      <td>ferguson rues failure to cut gap boss sir alex...</td>\n",
       "      <td>2</td>\n",
       "    </tr>\n",
       "    <tr>\n",
       "      <th>tech</th>\n",
       "      <td>261</td>\n",
       "      <td>234</td>\n",
       "      <td>ask jeeves joins web log market ask jeeves has...</td>\n",
       "      <td>2</td>\n",
       "    </tr>\n",
       "  </tbody>\n",
       "</table>\n",
       "</div>"
      ],
      "text/plain": [
       "               Text                                                            \\\n",
       "              count unique                                                top   \n",
       "Category                                                                        \n",
       "business        336    335  economy  strong  in election year uk businesse...   \n",
       "entertainment   273    263  stars pay tribute to actor davis hollywood sta...   \n",
       "politics        274    266  mps issued with blackberry threat mps will be ...   \n",
       "sport           346    342  ferguson rues failure to cut gap boss sir alex...   \n",
       "tech            261    234  ask jeeves joins web log market ask jeeves has...   \n",
       "\n",
       "                    \n",
       "              freq  \n",
       "Category            \n",
       "business         2  \n",
       "entertainment    2  \n",
       "politics         2  \n",
       "sport            2  \n",
       "tech             2  "
      ]
     },
     "execution_count": 77,
     "metadata": {},
     "output_type": "execute_result"
    }
   ],
   "source": [
    "df_bbc.groupby('Category').describe()"
   ]
  },
  {
   "cell_type": "markdown",
   "metadata": {},
   "source": [
    "Podemos ver que es un dataset decentemente equilibrado, pues la diferencia de cantidad de elementos entre categorías es aceptable. Cabe destacar una mayor carga de textos \"business\" o categoría de empresa frente a una menor de tecnológicas.\n",
    "\n",
    "Veamos que esta proporción es aceptable de forma más gráfica usando un diagrama de tarta:"
   ]
  },
  {
   "cell_type": "code",
   "execution_count": 32,
   "metadata": {
    "scrolled": false
   },
   "outputs": [
    {
     "data": {
      "text/plain": [
       "<AxesSubplot:ylabel='Category'>"
      ]
     },
     "execution_count": 32,
     "metadata": {},
     "output_type": "execute_result"
    },
    {
     "data": {
      "image/png": "[encoded data removed]",
      "text/plain": [
       "<Figure size 432x288 with 1 Axes>"
      ]
     },
     "metadata": {},
     "output_type": "display_data"
    }
   ],
   "source": [
    "df_bbc['Category'].value_counts().plot.pie()"
   ]
  },
  {
   "cell_type": "code",
   "execution_count": 78,
   "metadata": {},
   "outputs": [],
   "source": [
    "#TODO Leer teoría y ver como afecta que haya más clases de un tipo que de otro"
   ]
  },
  {
   "cell_type": "code",
   "execution_count": 79,
   "metadata": {
    "scrolled": true
   },
   "outputs": [
    {
     "data": {
      "text/plain": [
       "'housewives lift channel 4 ratings the debut of us television hit desperate housewives has helped lift channel 4 s january audience share by 12% compared to last year.  other successes such as celebrity big brother and the simpsons have enabled the broadcaster to surpass bbc two for the first month since last july. bbc two s share of the audience fell from 11.2% to 9.6% last month in comparison with january 2004. celebrity big brother attracted fewer viewers than its 2002 series.  comedy drama desperate housewives managed to pull in five million viewers at one point during its run to date  attracting a quarter of the television audience. the two main television channels  bbc1 and itv1  have both seen their monthly audience share decline in a year on year comparison for january  while five s proportion remained the same at a slender 6.3%. digital multi-channel tv is continuing to be the strongest area of growth  with the bbc reporting freeview box ownership of five million  including one million sales in the last portion of 2004. its share of the audience soared by 20% in january 2005 compared with last year  and currently stands at an average of 28.6%.'"
      ]
     },
     "execution_count": 79,
     "metadata": {},
     "output_type": "execute_result"
    }
   ],
   "source": [
    "df_bbc['Text'][101]"
   ]
  },
  {
   "cell_type": "markdown",
   "metadata": {},
   "source": [
    "Hemos analizado el texto en profundidad y hemos descartado rápidamente que se tratara de un elemento de la categoría \"sports\" o \"tech\" ya que no usa términos de distintos deportes o especializados en tecnología (chips, sistemas operativos, etc). Al ver que habla de diversos programas de televisión, como comedias, gran hermano o los simpsons, llegamos a la conclusión de que debería de ser un texto de entretenimiento. Comprobemos si hemos acertado:"
   ]
  },
  {
   "cell_type": "code",
   "execution_count": 81,
   "metadata": {},
   "outputs": [
    {
     "data": {
      "text/plain": [
       "'entertainment'"
      ]
     },
     "execution_count": 81,
     "metadata": {},
     "output_type": "execute_result"
    }
   ],
   "source": [
    "df_bbc['Category'][101]"
   ]
  },
  {
   "cell_type": "markdown",
   "metadata": {},
   "source": [
    "Como se puede ver, hemos acertado y lo hemos hecho gracias a analizar palabras clave del texto y las relaciones semánticas que tenemos asociadas debido a nuestro aprendizaje diario. Esta idea será una de las que usaremos para establecer una correlación entre textos y categorías."
   ]
  },
  {
   "cell_type": "markdown",
   "metadata": {},
   "source": [
    "Ahora hagamos la partición entre conjunto de entrenamiento y de prueba en una proporción 80-20. Esta partición nos servirá más adelante para estudiar de mejor modo el error de cada modelo."
   ]
  },
  {
   "cell_type": "code",
   "execution_count": 85,
   "metadata": {},
   "outputs": [],
   "source": [
    "np_bbc_target = df_bbc['Category'].to_numpy()\n",
    "np_bbc_input = df_bbc['Text'].to_numpy()\n",
    "X_train, X_test, y_train, y_test = train_test_split(np_bbc_input, np_bbc_target , \n",
    "                                                    test_size=0.20, stratify=np_bbc_target,\n",
    "                                                    random_state= RANDOM_STATE)"
   ]
  },
  {
   "cell_type": "code",
   "execution_count": 88,
   "metadata": {},
   "outputs": [
    {
     "name": "stdout",
     "output_type": "stream",
     "text": [
      "Textos de entrenamiento: 1192\n",
      "Textos de prueba: 298\n",
      "Textos totales 1490\n"
     ]
    }
   ],
   "source": [
    "print(\"Textos de entrenamiento:\", len(X_train))\n",
    "print(\"Textos de prueba:\", len(X_test))\n",
    "print(\"Textos totales\",len(X_test) + len(X_train))"
   ]
  },
  {
   "cell_type": "markdown",
   "metadata": {
    "id": "r4rXv3xX3yvG"
   },
   "source": [
    "## 2) Representación basada en bolsa de palabras y frecuencia de aparición\n",
    "\n",
    "La primera vectorización que vamos a usar representará los mensajes usando el modelo de bolsa de palabras, monogramas y la frecuencia de aparición de cada palabra. Usa como _stop words_ las que vienen configuradas por defecto para el inglés.\n",
    "\n",
    "Aplica la vectorización a los conjuntos de mensajes de entrenamiento y test. Muestra algún mensaje tanto en su formato de texto original como en la versión vectorizada. ¿Qué palabras se han eliminado y por qué?\n",
    "\n",
    "Entrena un clasificador Naive Bayes Multinomial y calcula su tasa de aciertos sobre el conjunto de entrenamiento y el conjunto de test. A continuación calcula los valores de precisión, exhaustividad y puntuación F1 para cada una de las clases. Dibuja la matriz de confusión. Analiza los resultados obtenidos.\n",
    "\n",
    "A continuación, entrena un clasificador k-NN con la configuración por defecto y usando la misma vectorización. Analiza los resultados, ¿a qué crees que se deben?"
   ]
  },
  {
   "cell_type": "markdown",
   "metadata": {},
   "source": [
    "Primero de todo, realizaremos la vectorización que infiere la información del mismo conjunto de entrenamiento sin usar el diccionario externo."
   ]
  },
  {
   "cell_type": "code",
   "execution_count": 115,
   "metadata": {
    "id": "HsJsTVjL3yvH"
   },
   "outputs": [],
   "source": [
    "from sklearn.feature_extraction.text import CountVectorizer\n",
    "from sklearn.feature_extraction.text import TfidfTransformer"
   ]
  },
  {
   "cell_type": "code",
   "execution_count": 116,
   "metadata": {},
   "outputs": [],
   "source": [
    "vectorizer = CountVectorizer(stop_words='english', binary=False)\n",
    "# Tomamos los textos del conjunto de entrenamiento y los transformamos en \n",
    "# una matriz de datos (palabras) según el diccionario estándar\n",
    "train_vector_data=vectorizer.fit_transform(X_train)\n"
   ]
  },
  {
   "cell_type": "code",
   "execution_count": 117,
   "metadata": {},
   "outputs": [
    {
     "name": "stdout",
     "output_type": "stream",
     "text": [
      "22260\n",
      "['00', '000', '0001', '000m', '000th', '001', '001and', '001st', '0051', '007', '01', '0100', '0130', '028', '03', '033', '04', '0400', '041', '04bn', '04secs', '05', '050', '050505', '0530gmt', '056', '05bn', '05m', '06', '060', '07', '070', '0710', '072', '0730', '08', '080', '0800', '0845', '0870', '088', '09', '0900', '0950', '09bn', '09secs', '10', '100', '1000th', '100bn', '100m', '100ml', '101', '102', '103', '104', '105', '105bn', '106', '106m', '107', '108', '1080', '109', '109m', '10bn', '10ft', '10m', '10secs', '10th', '11', '110', '1100', '110m', '110th', '111', '111m', '112', '113', '1130', '1130p', '113bn', '115', '116', '116i', '117', '117m', '119', '119bn', '119m', '11bn', '11m', '11pm', '11th', '12', '120', '1200', '1200m', '120bn', '120gb', '120m', '121', '1215', '1230', '124bn', '125', '125m', '126', '127th', '128', '129', '12a', '12bn', '12cm', '12m', '12th', '13', '130', '1300', '130m', '132', '133', '1330', '1337', '133m', '134', '135', '137', '137m', '138m', '139', '13bn', '13m', '13s', '13secs', '13th', '14', '140', '140bn', '142bn', '1430', '143m', '144', '1441', '144m', '145', '145m', '146', '146m', '148', '1497', '14bn', '14m', '14th', '15', '150', '1500', '1500m', '150bn', '150m', '151', '152', '152m', '153', '154m', '155', '155bn', '155m', '156m', '157', '158', '159', '15bn', '15m', '15mbps', '15s', '15th', '16', '160', '1600', '1600s', '1606', '160gb', '160m', '161', '162', '162bn', '162m', '163', '163m', '164', '1642', '165', '1650', '165bn', '166', '166bn', '167', '1670', '168', '1689', '168m', '16bn', '16k', '16m', '16th', '17', '170', '1700', '1701', '170m', '1727', '173', '1731', '173m', '174', '175', '1761', '177', '1774', '1776', '178', '178m', '17m', '17th', '18', '180', '1800', '1800s', '1801', '180bn', '1812', '1815', '182', '1830', '1831', '1834', '184', '1848', '184m', '185', '1857', '186', '1865', '186m', '187', '1870', '1875', '187m', '187th', '188', '1888', '189', '1891', '1893', '18bn', '18m', '18s', '18th', '19', '190', '1900', '1903', '1905', '1908', '190m', '191', '1911', '1912', '1915', '1917', '191m', '1920', '1920s', '1921', '1922', '1924', '1925', '1927', '1928', '1929', '193', '1930', '1930s', '1934', '1935', '1936', '1937', '1938', '1939', '1940', '1940s', '1942', '1943', '1944', '1945', '1946', '1947', '1948', '1949', '194m', '195', '1950', '1950s', '1951', '1952', '1953', '1954', '1955', '1956', '1957', '1958', '1960', '1960s', '1961', '1962', '1963', '1964', '1965', '1966', '1967', '1968', '1969', '1970', '1970s', '1971', '1972', '1973', '1974', '1975', '1976', '1977', '1978', '1979', '197bn', '1980', '1980s', '1981', '1982', '1983', '1984', '1985', '1986', '1987', '1988', '1989', '1990', '1990s', '1991', '1992', '1993', '1994', '1995', '1996', '1997', '1998', '1999', '19bn', '19m', '19secs', '19th', '1bn', '1m', '1p', '1xtra', '20', '200', '2000', '2001', '2001alleging', '2001fetched', '2002', '2003', '2004', '2005', '2006', '2007', '2008', '2009', '200bn', '200lr', '200m', '2010', '2011', '2012', '2013', '2014', '2015', '2018', '2020', '2022', '204', '2048', '204m', '205', '206bn', '206m', '20bn', '20gb', '20m', '20mbps', '20p', '20s', '20th', '21', '2100', '2100gmt', '211', '216', '217', '219', '21bn', '21m', '21st', '22', '220', '2200', '220m', '2230gmt', '225', '226', '227', '229', '22bn', '22m', '22nd', '23', '230', '2300', '230bn', '230m', '231m', '233', '234', '239', '23bn', '23m', '23rd', '24', '240', '242', '245m', '246', '246bn', '24bn', '24m', '24th', '25', '250', '2500', '250m', '256mb', '258', '258bn', '25bn', '25gbps', '25lb', '25m', '25p', '25s', '25th', '26', '260', '261bn', '263', '264th', '265', '265m', '266m', '267', '268', '26bn', '26m', '26th', '27', '270', '271', '271st', '272', '273', '275', '276', '277', '277th', '27bn', '27m', '27th', '28', '280', '280bn', '280m', '281m', '282', '283', '284m', '2871', '28bn', '28p', '28th', '29', '290', '290m', '291', '291m', '292', '293', '294', '2940', '2944', '296', '2974', '29a', '29bn', '29m', '2am', '2bn', '2d', '2ft', '2g', '2gb', '2k', '2km', '2kw', '2m', '2mbps', '2nd', '30', '300', '3000', '3006', '300bn', '300m', '300p', '301', '3040', '305', '305m', '306', '308m', '30bn', '30ft', '30gb', '30m', '30mg', '30mph', '31', '311bn', '312', '313', '318', '3187', '31bn', '31m', '31p', '32', '320', '320kg', '3218', '322m', '3230', '324', '325', '325m', '327m', '3280', '328m', '329', '32m', '33', '331bn', '336m', '337', '339', '339m', '33bn', '33rd', '34', '340', '348bn', '349', '349m', '34bn', '34th', '35', '350', '3509', '350m', '3516', '354', '357', '35bn', '35m', '35mm', '36', '360', '364', '3652', '365m', '3667', '367', '368bn', '36bn', '36m', '36th', '37', '370', '371m', '372', '374m', '377bn', '378', '379m', '37bn', '38', '382m', '385', '386', '387m', '38mph', '39', '390', '392', '398m', '399', '39m', '3ami', '3bn', '3c', '3d', '3g', '3gp', '3gsm', '3km', '3m', '3rds', '3x', '40', '400', '40052308090', '400m', '400th', '401', '402', '404', '407th', '40gb', '40m', '40mbps', '40mph', '40s', '40th', '41', '412bn', '413', '415m', '41bn', '42', '420', '420bn', '424m', '425', '426m', '427bn', '428m', '42bn', '42m', '42nd', '43', '431m', '433', '434m', '436', '43m', '44', '440', '443m', '444', '449', '44th', '45', '450', '455', '456m', '458', '458m', '45bn', '45m', '45pm', '45secs', '45th', '46', '464', '466', '469', '46m', '46secs', '47', '472bn', '474', '475m', '47bn', '47m', '48', '480', '480m', '484bn', '486', '487', '488', '48bn', '48m', '48th', '49', '492m', '496', '499', '499m', '49m', '4bn', '4cast', '4cm', '4gb', '4in', '4km', '4m', '4p', '4pm', '4th', '4x100m', '50', '500', '5000', '5000m', '500m', '505', '506m', '508m', '50gb', '50m', '50mg', '50p', '50pc', '50th', '51', '512', '512kbps', '512mb', '514', '514m', '51bn', '51secs', '52', '520', '521', '525', '529', '52m', '52nd', '53', '530', '530m', '532m', '535', '537m', '538', '53bn', '53m', '53p', '54', '540bn', '542', '546', '546m', '548p', '54bn', '54m', '54th', '55', '550', '550m', '555', '556', '55m', '55s', '56', '560', '560m', '563', '568m', '569', '56bn', '56m', '57', '570', '572', '57bn', '58', '581m', '584m', '58bn', '59', '590', '593', '59th', '5bn', '5g', '5gb', '5ive', '5k', '5m', '5p', '60', '600', '600m', '601', '603', '605', '607', '60bn', '60gb', '60m', '60s', '60secs', '60th', '61', '611', '61km', '61st', '62', '625', '62secs', '63', '630', '630m', '635', '639m', '63m', '63rd', '63secs', '64', '642', '644m', '645', '648m', '64secs', '65', '650', '659', '65bn', '65s', '66', '660', '6600', '660m', '661', '6661', '667', '66bn', '66m', '66secs', '67', '6709', '671', '674', '67th', '68', '680', '684bn', '68m', '69', '690', '690m', '692', '6bn', '6ft', '6gb', '6km', '6m', '6pm', '70', '700', '701m', '705m', '70m', '70p', '70s', '70th', '71', '717', '717m', '719m', '72', '720', '725m', '72m', '73', '730', '732m', '733', '737', '738', '73m', '74', '740', '745', '74m', '74th', '75', '750', '750m', '75bn', '75m', '75p', '75s', '76', '761m', '767', '768m', '76m', '77', '7710', '775', '775m', '777', '77bn', '77m', '77th', '78', '780', '784m', '785m', '787', '79', '796', '797p', '798m', '799', '79m', '79p', '79th', '7bn', '7m', '7p', '80', '800', '800m', '803', '805', '808', '808m', '80bn', '80gb', '80m', '80mg', '80s', '80th', '81', '813', '814', '81st', '82', '820', '83', '830bn', '831', '833', '836m', '838th', '84', '840', '84th', '85', '850', '850bn', '850m', '855bn', '857m', '85m', '86', '865', '86m', '86th', '87', '870', '873p', '874m', '875', '87th', '88', '885', '88m', '89', '8923', '895', '89bn', '89m', '89secs', '8am', '8bn', '8m', '8mbps', '90', '900', '900m', '902', '906', '907', '9094', '90m', '90s', '90th', '91', '911', '912km', '915', '91m', '92', '920', '922', '9276', '93', '931m', '932', '939', '94', '940', '943', '94m', '95', '950m', '950p', '953', '957', '95bn', '95m', '96', '960m', '961', '966m', '96bn', '97', '971', '975', '97bn', '97m', '98', '981', '98bn', '98m', '98th', '99', '997', '999', '999th', '9bn', '9km', '9m', '9p', 'a300s', 'a320', 'a380', 'a380s', 'a4', 'aa', 'aaa', 'aaas', 'aac', 'aadc', 'aaliyah', 'aamir', 'aaron', 'abacus', 'abandon', 'abandoned', 'abandoning', 'abandonment', 'abating', 'abba', 'abbas', 'abbasi', 'abbott', 'abc', 'abd', 'abdellatif', 'abdication', 'abdomen', 'abdominal', 'abducted', 'abduction', 'abdullah', 'abdullatif', 'aberdeen', 'aberration', 'aberystwyth', 'abeyance', 'abeyie', 'abhorrent', 'abi', 'abide', 'abided', 'abiding', 'abigail', 'abilities', 'ability', 'abish', 'able', 'abn', 'abnormal', 'abnormality', 'abolish', 'abolishing', 'abolition', 'aborted', 'abortion', 'abortionist', 'abroad', 'abrupt', 'absa', 'absence', 'absent', 'absentee', 'absolute', 'absolutely', 'absolution', 'absorb', 'absorbed', 'absorbing', 'absorbs', 'abstain', 'abstentions', 'absurd', 'abtahi', 'abu', 'abundantly', 'aburizal', 'abuse', 'abused', 'abuses', 'abusing', 'abusive', 'abut', 'abuzz', 'abysmal', 'ac', 'academic', 'academics', 'academie', 'academies', 'academy', 'acapulco', 'accelerate', 'accelerated', 'accelerating', 'acceleration', 'accent', 'accept', 'acceptable', 'acceptance', 'acceptances', 'accepted', 'accepting', 'accepts', 'access', 'accessed', 'accessible', 'accessing', 'accession', 'accessories', 'accessory', 'accident', 'accidental', 'accidentally', 'accidents', 'acclaim', 'acclaimed', 'acclimate', 'acclimatise', 'accolade', 'accolades', 'accommodate', 'accommodated', 'accommodating', 'accommodation', 'accompanied', 'accompaniment', 'accompany', 'accompanying', 'accomplice', 'accomplices', 'accomplish', 'accomplished', 'accomplishment', 'accord', 'accordance', 'according', 'accordingly', 'account', 'accountability', 'accountable', 'accountancy', 'accountant', 'accountants', 'accounted', 'accounting', 'accounts', 'accredited', 'accumulate', 'accumulated', 'accumulates', 'accuracy', 'accurate', 'accurately', 'accusation', 'accusations', 'accuse', 'accused', 'accuses', 'accusing', 'accustomed', 'ace', 'aceh', 'achievable', 'achieve', 'achieved', 'achievement', 'achievements', 'achieving', 'achike', 'achilles', 'achtung', 'acid', 'acknowledge', 'acknowledged', 'acknowledges', 'acne', 'acoustic', 'acpo', 'acquainted', 'acquiescent', 'acquire', 'acquired', 'acquiring', 'acquisition', 'acquisitions', 'acquittal', 'acquitted', 'acre', 'acres', 'acrimonious', 'acrimony', 'acrobatic', 'act', 'acted', 'acting', 'action', 'actionaid', 'actions', 'activate', 'activated', 'active', 'actively', 'activision', 'activison', 'activist', 'activists', 'activities', 'activity', 'actor', 'actors', 'actress', 'actresses', 'acts', 'actual', 'actually', 'acute', 'ad', 'adage', 'adair', 'adam', 'adamant', 'adamind', 'adams', 'adapt', 'adaptation', 'adaptations', 'adapted', 'adapter', 'adapters', 'adapting', 'adaptor', 'adaptors', 'adarsh', 'adb', 'add', 'addaction', 'added', 'addicks', 'addiction', 'addictive', 'addicts', 'adding', 'addink', 'addison', 'addition', 'additional', 'additives', 'address', 'addressed', 'addresses', 'addressing', 'adds', 'adelaide', 'adept', 'adequate', 'adequately', 'adera', 'adere', 'ades', 'adhere', 'adheres', 'adhi', 'adjudged', 'adjudicator', 'adjust', 'adjusted', 'adjusting', 'adjustment', 'adjustments', 'adjusts', 'administer', 'administered', 'administering', 'administration', 'administrations', 'administrative', 'administrator', 'administrators', 'admirable', 'admiration', 'admire', 'admissibility', 'admission', 'admissions', 'admit', 'admits', 'admittance', 'admitted', 'admittedly', 'admitting', 'admonished', 'adnan', 'ado', 'adolf', 'adopt', 'adopted', 'adopters', 'adopting', 'adoption', 'adoptive', 'adornments', 'adrian', 'adriano', 'adriatic', 'adrien', 'adroit', 'ads', 'adsense', 'adsl', 'adulation', 'adult', 'adultery', 'adulthood', 'adults', 'advance', 'advanced', 'advancement', 'advances', 'advancing', 'advanta', 'advantage', 'advantages', 'advent', 'adventure', 'adventurous', 'adverse', 'adversely', 'advert', 'advertise', 'advertised', 'advertisements', 'advertiser', 'advertisers', 'advertising', 'adverts', 'advice', 'advise', 'advised', 'adviser', 'advisers', 'advises', 'advising', 'advisor', 'advisors', 'advisory', 'advocate', 'advocated', 'advocates', 'adware', 'ae', 'aer', 'aero', 'aeronautics', 'aeroplane', 'aerosmith', 'aerospace', 'aesthetically', 'aesthetics', 'affair', 'affairs', 'affect', 'affected', 'affecting', 'affection', 'affectionately', 'affects', 'affiliate', 'affiliates', 'afflicting', 'afford', 'affordable', 'afforded', 'afful', 'afghanistan', 'afi', 'afield', 'afloat', 'afp', 'afraid', 'africa', 'african', 'africans', 'afterlife', 'aftermath', 'afternoon', 'aftewards', 'afzal', 'ag', 'agassi', 'age', 'aged', 'ageing', 'ageism', 'agence', 'agencies', 'agency', 'agenda', 'agendas', 'agent', 'agents', 'ages', 'aggravated', 'aggravating', 'aggregator', 'aggregators', 'aggression', 'aggressive', 'aggressively', 'aggressors', 'aggrieved', 'agility', 'aging', 'agio', 'agitated', 'agm', 'agnelli', 'agnetha', 'agnostic', 'ago', 'agoa', 'agonising', 'agonisingly', 'agony', 'agree', 'agreeable', 'agreed', 'agreeing', 'agreement', 'agreements', 'agrees', 'agricultural', 'agriculture', 'agrochemical', 'agroflora', 'aguilera', 'agustin', 'ahead', 'ahern', 'ahmed', 'ahold', 'ai', 'aid', 'aidan', 'aide', 'aided', 'aiden', 'aides', 'aids', 'aig', 'ailing', 'aim', 'aimed', 'aiming', 'aimlessly', 'aims', 'aiport', 'air', 'airbrushes', 'airbus', 'aircraft', 'aired', 'aires', 'airing', 'airline', 'airliner', 'airliners', 'airlines', 'airplane', 'airplanes', 'airplay', 'airport', 'airports', 'airs', 'airtime', 'airways', 'aishwariya', 'aishwarya', 'aisle', 'aitken', 'aiyegbeni', 'aizlewood', 'aj', 'ajax', 'ak', 'aka', 'akaev', 'akamai', 'akhmetov', 'akin', 'akon', 'al', 'alabama', 'alain', 'alamos', 'alan', 'alarm', 'alarmed', 'alarming', 'alastair', 'albacete', 'albania', 'albanian', 'albany', 'albeit', 'albert', 'alberto', 'albion', 'album', 'albums', 'alcatel', 'alcobev', 'alcock', 'alcohol', 'alcoholism', 'alcorn', 'alda', 'aldershot', 'ale', 'alegre', 'alejandro', 'alencar', 'alert', 'alerted', 'alerts', 'alessandro', 'alex', 'alexander', 'alexandra', 'alexandria', 'alexei', 'alfa', 'alfie', 'alfonso', 'alfred', 'algemeen', 'algeria', 'algerian', 'algorithm', 'algorithms', 'ali', 'alias', 'aliases', 'alice', 'alicia', 'alien', 'alienated', 'aliens', 'alight', 'alike', 'alistair', 'alita', 'alive', 'allahgreen', 'allan', 'allander', 'allard', 'allardyce', 'allawi', 'allay', 'allaying', 'allegation', 'allegations', 'allege', 'alleged', 'allegedly', 'alleges', 'allegiance', 'allegiances', 'alleging', 'allen', 'allende', 'alleviate', 'alley', 'alleyne', 'alliance', 'alliances', 'allianz', 'allied', 'allies', 'allocated', 'allocating', 'allocation', 'allocations', 'allotting', 'allow', 'allowance', 'allowances', 'alloway', 'allowed', 'allowing', 'allows', 'allsop', 'alltel', 'alludes', 'alluding', 'allure', 'ally', 'almeria', 'almodovar', 'almunia', 'alois', 'alongside', 'alonso', 'aloud', 'alphabet', 'alphabetically', 'alphabets', 'alright', 'altavista', 'alter', 'altered', 'altering', 'alternative', 'alternatives', 'altogether', 'alton', 'altria', 'aluminium', 'alun', 'alva', 'alvin', 'alwaleed', 'alwi', 'alyn', 'alyona', 'alzheimer', 'am3d', 'amalgamated', 'amalric', 'amanda', 'amassed', 'amateur', 'amateurish', 'amateurs', 'amaya', 'amazed', 'amazes', 'amazing', 'amazingly', 'amazon', 'ambassador', 'ambassadors', 'amber', 'ambev', 'ambient', 'ambition', 'ambitions', 'ambitious', 'ambitous', 'ambo', 'ambushed', 'amelia', 'amelie', 'amenabar', 'amend', 'amended', 'amending', 'amendment', 'amendments', 'amends', 'amenity', 'ameobi', 'america', 'american', 'americans', 'ames', 'amey', 'amf', 'amicable', 'amicably', 'amicus', 'amid', 'amidst', 'amiga', 'amitabh', 'amma', 'amman', 'ammunition', 'amoeba', 'amor', 'amos', 'amounted', 'amounting', 'amounts', 'ampadu', 'ampas', 'amplification', 'amplified', 'amplifier', 'amplifies', 'amplify', 'amputated', 'amputators', 'amputee', 'amputees', 'amr', 'amritsar', 'amro', 'amstel', 'amsterdam', 'amuro', 'amusing', 'amy', 'ana', 'anabolic', 'anakin', 'analgesic', 'analogue', 'analogy', 'analyse', 'analysed', 'analysing', 'analysis', 'analyst', 'analysts', 'analyzing', 'anastacia', 'anastasia', 'anatoly', 'anatomical', 'ancelotti', 'ancestors', 'anchor', 'ancic', 'ancient', 'ancillary', 'ancram', 'anderlecht', 'anders', 'andersen', 'anderson', 'andersson', 'anderton', 'andhra', 'andi', 'andrade', 'andre', 'andrea', 'andreas', 'andrei', 'andrew', 'andrews', 'andriy', 'andy', 'anecdotal', 'anelka', 'anfield', 'angadias', 'angel', 'angeles', 'angelina', 'angels', 'anger', 'angered', 'angering', 'angie', 'angle', 'angled', 'anglers', 'anglesea', 'anglian', 'anglicans', 'angling', 'anglo', 'angola', 'angolan', 'angrily', 'angry', 'angst', 'anheuser', 'animal', 'animals', 'animate', 'animated', 'animation', 'animations', 'animators', 'animosity', 'anita', 'anjelica', 'ankara', 'ankle', 'ann', 'anna', 'annabelle', 'annadale', 'annals', 'annan', 'anne', 'annette', 'anni', 'annie', 'anniversaries', 'anniversary', 'annoucement', 'announce', 'announced', 'announcement', 'announcements', 'announces', 'announcing', 'annoyance', 'annoyingly', 'annoys', 'annual', 'annualised', 'annually', 'annuity', 'annul', 'annum', 'annus', 'anoeta', 'anomalies', 'anomaly', 'anonymity', 'anonymous', 'anonymously', 'anouncing', 'anselmo', 'ansheng', 'anshuman', 'anson', 'answer', 'answered', 'answers', 'ant', 'ante', 'antelope', 'antenna', 'anthem', 'anthemic', 'anthony', 'anti', 'antibacterial', 'anticipated', 'anticipating', 'anticipation', 'antics', 'antique', 'antiques', 'antiseptics', 'antitrust', 'antoine', 'antonia', 'antonio', 'antony', 'antrim', 'anxiety', 'anxious', 'anybody', 'anyhting', 'anymore', 'aol', 'ap', 'apace', 'apache', 'apacs', 'apalling', 'apart', 'apartheid', 'apathetic', 'apathy', 'apcom', 'apiece', 'apollo', 'apologies', 'apologise', 'apologised', 'apologising', 'apology', 'appalled', 'appalling', 'apparatus', 'apparel', 'apparent', 'apparently', 'appeal', 'appealed', 'appealing', 'appeals', 'appear', 'appearance', 'appearances', 'appeared', 'appearing', 'appears', 'appetite', 'applaud', 'applauded', 'applause', 'apple', 'appleford', 'applegate', 'apples', 'appleton', 'appliance', 'appliances', 'applicants', 'application', 'applications', 'applied', 'applies', 'apply', 'applying', 'appoint', 'appointed', 'appointment', 'appointments', 'appoints', 'appraisal', 'appreciably', 'appreciate', 'appreciated', 'appreciation', 'apprehended', 'apprehension', 'apprentices', 'apprenticeship', 'approach', 'approached', 'approaches', 'approaching', 'appropriate', 'appropriately', 'approval', 'approvals', 'approve', 'approved', 'approves', 'approximately', 'apps', 'april', 'apurva', 'aquatic', 'ar', 'arab', 'arabia', 'arabic', 'arabs', 'arafat', 'aragones', 'aramburu', 'arash', 'arbitrarily', 'arbitrary', 'arbitration', 'arbor', 'arbuckle', 'arc', 'arcade', 'arcades', 'arcelor', 'arch', 'archbishop', 'archer', 'archibald', 'architect', 'architecture', 'archive', 'archived', 'archives', 'archivists', 'archos', 'arcleor', 'arcy', 'ard', 'ardent', 'area', 'areas', 'areen', 'aren', 'arena', 'arenas', 'argentina', 'argentine', 'argonaut', 'arguably', 'argue', 'argued', 'argues', 'arguing', 'argument', 'argumentative', 'arguments', 'ariel', 'aries', 'arise', 'arisen', 'arizona', 'arjan', 'arjen', 'ark', 'arkansas', 'arling', 'arlington', 'arm', 'armagh', 'armand', 'armando', 'armed', 'armentieres', 'armes', 'armistead', 'armour', 'armoury', 'arms', 'armstrong', 'army', 'arnaud', 'arne', 'arnesen', 'arnold', 'arnoldo', 'aroused', 'arouses', 'arpey', 'arrange', 'arranged', 'arrangement', 'arrangements', 'array', 'arrese', 'arrest', 'arrested', 'arrests', 'arrival', 'arrivals', 'arrive', 'arrived', 'arrives', 'arriving', 'arrogance', 'arrogant', 'arrogantly', 'arsenal', 'arsene', 'arsenic', 'arsenide', 'arses', 'art', 'artell', 'artery', 'arteta', 'arthritis', 'arthur', 'artic', 'article', 'articles', 'articulate', 'articulated', 'artificial', 'artificially', 'artist', 'artistic', 'artistry', 'artists', 'artois', 'arts', 'artwork', 'artworks', 'aru', 'arvind', 'asagoe', 'asahi', 'asante', 'asbestos', 'asbestosis', 'asbos', 'ascend', 'ascending', 'ascii', 'asha', 'ashamed', 'ashanti', 'ashcroft', 'ashdown', 'asher', 'ashes', 'ashfield', 'ashford', 'ashley', 'ashvin', 'asi', 'asia', 'asian', 'asians', 'aside', 'asif', 'asimo', 'ask', 'askar', 'asked', 'asking', 'asks', 'aspect', 'aspects', 'aspersions', 'aspiration', 'aspiring', 'asplin', 'ass', 'assassin', 'assassinated', 'assassination', 'assault', 'assaulting', 'assaults', 'assembled', 'assemblies', 'assembly', 'assert', 'assertions', 'asserts', 'asses', 'assess', 'assessed', 'assesses', 'assessing', 'assessment', 'assessments', 'assessor', 'asset', 'assets', 'assigned', 'assignment', 'assigns', 'assist', 'assistance', 'assistant', 'assistants', 'assisted', 'assisting', 'associate', 'associated', 'associates', 'association', 'associations', 'assortment', 'assume', 'assumed', 'assumes', 'assuming', 'assumption', 'assumptions', 'assurance', 'assurances', 'assure', 'assured', 'asteroid', 'aston', 'astonished', 'astonishing', 'astonishingly', 'astonishment', 'astoria', 'astounded', 'astra', 'astrazeneca', 'astro', 'astronaut', 'astronauts', 'astronomical', 'asylum', 'asymmetric', 'asymmetry', 'atari', 'ate', 'athens', 'athlete', 'athletes', 'athletic', 'athleticism', 'athletico', 'athletics', 'atinc', 'atkinson', 'atlanta', 'atlantic', 'atlas', 'atletico', 'atmosphere', 'atmospheric', 'atms', 'atomic', 'atoms', 'atomstroieksport', 'aton', 'atp', 'atr', 'att', 'attached', 'attachment', 'attachments', 'attack', 'attacked', 'attacker', 'attackers', 'attacking', 'attacks', 'attain', 'attained', 'attainment', 'attallah', 'attempt', 'attempted', 'attempting', 'attempts', 'attend', 'attendance', 'attendant', 'attendants', 'attended', 'attendees', 'attending', 'attends', 'attention', 'attentions', 'attentive', 'atticus', 'attitude', 'attitudes', 'attorney', 'attract', 'attracted', 'attracting', 'attraction', 'attractions', 'attractive', 'attracts', 'attributable', 'attributed', 'attributes', 'atwood', 'au', 'auckland', 'auction', 'auctioned', 'auctioneer', 'auctions', 'audience', 'audiences', 'audio', 'audiophile', 'audit', 'audited', 'audition', 'auditions', 'auditor', 'auditorium', 'auditors', 'audrey', 'august', 'augusto', 'aunt', 'aura', 'aurelien', 'auric', 'aurora', 'auschwitz', 'aussie', 'aussies', 'austin', 'australasia', 'australia', 'australian', 'austria', 'austrian', 'auteuil', 'authenti', 'authentic', 'authentication', 'author', 'authorial', 'authorise', 'authorised', 'authoritarian', 'authoritative', 'authorities', 'authority', 'authors', 'autistic', 'auto', 'autobiographical', 'autobiography', 'autocycle', 'autographs', 'autolink', 'autolinks', 'automaker', 'automated', 'automatic', 'automatically', 'automobile', 'automobiles', 'automotive', 'automotives', 'autos', 'autosport', 'autumn', 'auxerre', 'auxiliary', 'av400', 'availability', 'available', 'avalon', 'avatar', 'avatars', 'avenue', 'avenues', 'average', 'averages', 'averaging', 'avert', 'averted', 'averting', 'avery', 'avg', 'avi', 'aviation', 'aviator', 'avid', 'avions', 'aviv', 'avoid', 'avoidance', 'avoided', 'avoiding', 'avoids', 'avril', 'await', 'awaited', 'awaiting', 'awaits', 'awakening', 'award', 'awarded', 'awarding', 'awards', 'aware', 'awareness', 'away', 'awe', 'awesome', 'awful', 'awfully', 'awkward', 'awol', 'axa', 'axe', 'axed', 'axing', 'ayaan', 'aycock', 'aymone', 'aynsley', 'azim', 'azkaban', 'azmat', 'aznavour', 'aztrazeneca', 'azzam', 'azzurri', 'baa', 'baas', 'baathist', 'babacan', 'babayaro', 'babinet', 'baby', 'babyshamblers', 'babyshambles', 'babysitter', 'bac', 'baccanello', 'bach', 'bachchan', 'backbench', 'backbencher', 'backbenchers', 'backbenches', 'backbone', 'backdated', 'backdoor', 'backdrop', 'backed', 'backer', 'backers', 'backfired', 'backfires', 'backfiring', 'background', 'backgrounds', 'backhand', 'backhands', 'backing', 'backlash', 'backley', 'backline', 'backroom', 'backs', 'backside', 'backsides', 'backsliding', 'backstage', 'backstreet', 'backtrack', 'backtracking', 'backup', 'backward', 'backwards', 'backyard', 'bacon', 'bad', 'baddeley', 'badge', 'badly', 'badminton', 'bae', 'bafana', 'baffled', 'bafta', 'baftas', 'bag', 'baggage', 'bagged', 'baggins', 'baghdad', 'bagle', 'baglihar', 'bagnato', 'bagpuss', 'bags', 'bahamas', 'baht', 'baikal', 'bail', 'bailed', 'bailey', 'bailin', 'bailout', 'bailouts', 'bainivalu', 'baker', 'bakersfield', 'bakley', 'bakrie', 'balado', 'balance', 'balanced', 'balances', 'balancing', 'balco', 'balde', 'balding', 'baldini', 'baldrick', 'balfour', 'balkan', 'balkans', 'balked', 'ball', 'ballad', 'ballantine', 'ballboy', 'ballet', 'balloon', 'ballooning', 'ballot', 'balloted', 'balloting', 'ballots', 'ballroom', 'balls', 'ballymena', 'balmer', 'balmy', 'baltacha', 'baltasar', 'bamboozled', 'ban', 'bana', 'banana', 'banca', 'band', 'bandaid', 'banded', 'bandmates', 'bands', 'bandwagon', 'bandwidth', 'bang', 'bangaldesh', 'bangalore', 'banging', 'bangkok', 'bangladesh', 'bangladeshi', 'bangor', 'bangs', 'banished', 'banjo', 'bank', 'bankable', 'bankash', 'banked', 'banker', 'bankers', 'banking', 'bankroll', 'bankrupt', 'bankruptcies', 'bankruptcy', 'banks', 'bannatyne', 'banned', 'banner', 'banning', 'banque', 'banques', 'banquet', 'bans', 'banter', 'banton', 'baoshan', 'bar', 'barbados', 'barbara', 'barbarians', 'barbary', 'barber', 'barbra', 'barca', 'barcelona', 'barclay', 'barclays', 'barcode', 'bardem', 'bare', 'barely', 'baretta', 'bargain', 'bargains', 'barged', 'baring', 'barings', 'barker', 'barking', 'barkley', 'barley', 'barlow', 'barn', 'barnard', 'barnes', 'barnet', 'barnett', 'barney', 'barnsley', 'barometer', 'baron', 'baroness', 'baros', 'barr', 'barras', 'barratie', 'barred', 'barrel', 'barrels', 'barrick', 'barrier', 'barriers', 'barring', 'barrioneuvo', 'barrionuevo', 'barrister', 'barroso', 'barrow', 'barry', 'barrymore', 'bars', 'barstow', 'bartlett', 'barton', 'bas', 'base', 'baseball', 'based', 'baseline', 'basement', 'bases', 'bash', 'basic', 'basically', 'basildon', 'basing', 'basingstoke', 'basis', 'basketball', 'baskin', 'basking', 'basque', 'basquiat', 'basra', 'bass', 'bassist', 'bastille', 'bat', 'batch', 'batches', 'bateman', 'bates', 'bath', 'bathroom', 'batman', 'baton', 'battalion', 'batter', 'battered', 'batteries', 'battering', 'battery', 'battle', 'battled', 'battlefield', 'battlefront', 'battleground', 'battles', 'battlestar', 'battling', 'bautista', 'baxter', 'bay', 'bayer', 'bayern', 'baying', 'bayleaf', 'bays', 'bb', 'bba', 'bbc', 'bbc1', 'bbc2', 'bbci', 'bcc', 'bdb', 'bdo', 'beach', 'beaches', 'beacon', 'beaded', 'beagles', 'beam', 'bean', 'bear', 'beard', 'bearded', 'bearer', 'bearing', 'bears', 'beast', 'beastie', 'beat', 'beaten', 'beating', 'beatings', 'beatle', 'beatles', 'beats', 'beattie', 'beatty', 'beaudoin', 'beaufort', 'beaumont', 'beautiful', 'beautifully', 'beauty', 'beauvillain', 'beauvillian', 'bechtel', 'beck', 'beckham', 'beckhams', 'beckinsale', 'beckon', 'beckons', 'bed', 'bedding', 'bedell', 'bedford', 'bedfordshire', 'bedingfield', 'bedroom', 'bedside', 'bedsits', 'bedwellty', 'bee', 'beef', 'beefing', 'beenie', 'beer', 'beermaker', 'beers', 'bees', 'beetle', 'began', 'begg', 'beggared', 'begging', 'begin', 'beginning', 'beginnings', 'begins', 'begrudge', 'begun', 'beh', 'behalf', 'behave', 'behaved', 'behaving', 'behaviour', 'beheaded', 'behemoth', 'beijing', 'beijingers', 'beileve', 'beings', 'beirut', 'beith', 'bejewelled', 'bekele', 'belafonte', 'belarus', 'beleaguered', 'belfast', 'belgian', 'belgium', 'belgrave', 'belief', 'beliefs', 'believable', 'believe', 'believed', 'believer', 'believes', 'believing', 'belisha', 'bell', 'bellamy', 'belle', 'bellicose', 'bellion', 'bells', 'belly', 'belmar', 'belmarsh', 'beloned', 'belong', 'belonged', 'belonging', 'belongings', 'belongs', 'beloved', 'belt', 'bemand', 'bemoaning', 'ben', 'benazir', 'bench', 'benches', 'benchmark', 'benchmarks', 'benckiser', 'bend', 'benefactors', 'beneficial', 'beneficiaries', 'benefit', 'benefited', 'benefiting', 'benefits', 'benesova', 'benign', 'bening', 'benita', 'benitez', 'benn', 'bennallack', 'bennett', 'bennington', 'benny', 'benoit', 'bent', 'benz', 'berated', 'berbatov', 'bereft', 'bergamasco', 'berger', 'bergh', 'bergkamp', 'bergman', 'berhane', 'berhanu', 'beringer', 'berkeley', 'berkovic', 'berlin', 'berlinale', 'berlusconi', 'bernabeu', 'bernal', 'bernard', 'bernardo', 'bernath', 'bernie', 'berry', 'bershawn', 'berson', 'bert', 'berta', 'bertelsmann', 'berthinussen', 'berti', 'bertie', 'bertolucci', 'bespoke', 'best', 'bests', 'bestseller', 'bestsellers', 'bestselling', 'bet', 'beta', 'betamax', 'beth', 'bethan', 'bethnal', 'betray', 'betrayal', 'betrayed', 'betraying', 'bets', 'betsen', 'better', 'bettered', 'betting', 'betts', 'bevan', 'beverley', 'beverly', 'bewildered', 'bewildering', 'bewilderment', 'bewlay', 'beyonce', 'bez', 'bhi', 'bhp', 'bhutto', 'bi', 'biarritz', 'bias', 'biased', 'bible', 'biblical', 'bibliographies', 'bicester', 'bickering', 'bicycles', 'bid', 'bidder', 'bidders', 'bidding', 'bide', 'bids', 'bifa', 'big', 'bigger', 'biggest', 'bigley', 'bigoted', 'bigotry', 'bigots', 'bike', 'bilateral', 'bilingual', 'biljon', 'billboard', 'billboards', 'billed', 'billing', 'billion', 'billionaire', 'billions', 'billiton', 'bills', 'billy', 'bin', 'binding', 'binge', 'bingley', 'bingo', 'binned', 'binoche', 'bins', 'bio', 'biocidal', 'biographer', 'biography', 'biological', 'biology', 'biometric', 'biometrics', 'biopic', 'biotech', 'bipedal', 'birch', 'birchfield', 'bird', 'birkenhead', 'birkett', 'birmingham', 'birth', 'birthday', 'birthdays', 'birthistle', 'biscan', 'biscuit', 'bisected', 'bisexual', 'bisexuality', 'bishop', 'bishops', 'bisnis', 'bisset', 'bit', 'bite', 'biting', 'bits', 'bitter', 'bitterly', 'bittorrent', 'biz', 'bizarre', 'bizet', 'bjorgo', 'bjorkman', 'bjorn', 'black', 'blackadder', 'blackberries', 'blackberry', 'blackboard', 'blackbuck', 'blackburn', 'blackground', 'blacklists', 'blackmail', 'blackmailed', 'blackman', 'blackpool', 'blacks', 'blackwatch', 'blade', 'blair', 'blairite', 'blairs', 'blaisdon', 'blake', 'blame', 'blamed', 'blames', 'blaming', 'blanchard', 'blanche', 'blanchett', 'bland', 'blank', 'blass', 'blast', 'blasted', 'blasters', 'blasting', 'blasts', 'blatant', 'blaze', 'blazed', 'blazers', 'blazin', 'blazing', 'blb', 'bleached', 'bleak', 'blears', 'bled', 'bleep', 'bleeps', 'blemish', 'blend', 'blending', 'blessed', 'blessing', 'blethyn', 'bleus', 'blew', 'blewitt', 'blige', 'blight', 'blighted', 'blighting', 'blind', 'blindingly', 'blinked', 'blinkx', 'blinx', 'blip', 'blips', 'blistering', 'blitz', 'blizzard', 'bloc', 'block', 'blockbuster', 'blockbusters', 'blocked', 'blocking', 'blocks', 'blog', 'blogged', 'blogger', 'bloggers', 'blogging', 'bloglines', 'blogosphere', 'blogs', 'blogsphere', 'blom', 'blomefontein', 'blood', 'bloodline', 'bloody', 'bloom', 'bloomberg', 'blooming', 'blossoming', 'blow', 'blowers', 'blowing', 'blown', 'blows', 'blu', 'blue', 'bluegrass', 'bluephone', 'blueprint', 'blueprints', 'blues', 'bluetooth', 'bluewater', 'blume', 'blunkett', 'blunt', 'blur', 'blurred', 'blurring', 'blushed', 'blushes', 'blushing', 'blustery', 'blythe', 'bmg', 'bmo', 'bmr', 'bmw', 'bn', 'bnp', 'bo', 'board', 'boarding', 'boardroom', 'boardrooms', 'boards', 'boast', 'boasted', 'boasts', 'boat', 'boateng', 'boats', 'bob', 'bobbitt', 'bobby', 'bobs', 'boca', 'bod', 'bode', 'bodes', 'bodied', 'bodies', 'bodleian', 'body', 'bodyguard', 'boe', 'boeing', 'boerse', 'bogart', 'bogdanovic', 'bogota', 'bogus', 'boi', 'boil', 'boiled', 'boiler', 'boils', 'boingboing', 'boix', 'boks', 'bold', 'bolder', 'bollan', 'bollywood', 'bolster', 'bolted', 'bolton', 'bolts', 'bomb', 'bombard', 'bombarded', 'bombardier', 'bombards', 'bombay', 'bombers', 'bombing', 'bombings', 'bombs', 'bon', 'bona', 'bonar', 'bond', 'bondarenko', 'bonderman', 'bondholders', 'bondi', 'bonds', 'bone', 'bones', 'bonfire', 'bonham', 'bonhams', 'bonn', 'bonnaire', 'bonnie', 'bonny', 'bono', 'bonus', 'bonuses', 'boo', 'boogeyman', 'book', 'booked', 'booker', 'bookies', 'booking', 'bookings', 'bookmaker', 'bookmakers', 'bookrunners', 'books', 'booksellers', 'bookshops', 'boom', 'boomed', 'booming', 'booms', 'boost', 'boosted', 'boosting', 'boosts', 'boot', 'booted', 'bootle', 'boots', 'booy', 'booze', 'boramae', 'border', 'borders', 'bordesley', 'bore', 'bored', 'boring', 'boris', 'born', 'borne', 'boro', 'borough', 'boroughs', 'borrell', 'borrow', 'borrowed', 'borrowing', 'borthwick', 'bortolami', 'borussia', 'boscholt', 'bosphorus', 'boss', 'bosses', 'bossy', 'boston', 'bosvelt', 'bosworth', 'bot', 'botch', 'botha', 'bother', 'bothered', 'bots', 'botswana', 'bottle', 'bottlenecks', 'bottles', 'bouba', 'boudewijn', 'bought', 'boulevard', 'boulton', 'bounce', 'bounced', 'bouncers', 'bouncing', 'bound', 'boundaries', 'boundary', 'bounded', 'bounty', 'bourgoin', 'bourn', 'bourne', 'bournemouth', 'bourse', 'bout', 'bovina', 'bow', 'bowden', 'bowe', 'bowers', 'bowie', 'bowl', 'bowles', 'bowman', 'bows', 'box', 'boxer', 'boxes', 'boxing', 'boy', 'boyd', 'boyfriend', 'boyfriends', 'boyko', 'boyle', 'boys', 'boyzone', 'bozzi', 'bp', 'bpi', 'br', 'brace', 'braced', 'bracing', 'bracket', 'brackets', 'bracknell', 'brad', 'bradfield', 'bradford', 'bradley', 'bradshaw', 'brady', 'braff', 'brag', 'bragging', 'braille', 'brain', 'brainchild', 'brains', 'brainwave', 'brake', 'brakes', 'braking', 'bramham', 'branch', 'branches', 'brand', 'branded', 'branding', 'brando', 'brands', 'brandy', 'brankin', 'brannen', 'branson', 'brass', 'bratman', 'bravado', 'brave', 'braved', 'bravely', 'bravest', 'brawl', 'brawn', 'brazenly', 'brazil', 'brazilian', 'brazilians', 'brc', 'breach', 'breached', 'breaches', 'breaching', 'bread', 'breadline', 'breadth', 'break', 'breakdown', 'breaker', 'breakers', 'breakfast', 'breaking', 'breakneck', 'breaks', 'breakthrough', 'breast', 'breath', 'breathalysed', 'breathe', 'breathed', 'brebner', 'breed', 'breeding', 'breezes', 'bremner', 'brenda', 'brendan', 'brennan', 'brent', 'brentford', 'breville', 'brewer', 'breweries', 'brewers', 'brewery', 'brewing', 'brian', 'bribe', 'bribery', 'bribes', 'bribing', 'brick', 'bricks', 'bride', 'bridge', 'bridgehead', 'bridgepoint', 'bridges', 'bridget', 'bridgewell', 'brie', 'brief', 'briefcase', 'briefed', 'briefers', 'briefing', 'briefings', 'briefly', 'brien', 'brigade', 'briggs', 'bright', 'brighten', 'brighter', 'brightest', 'brightly', 'brightmail', 'brighton', 'brigitte', 'brilliant', 'brilliantly', 'brimming', 'brindley', 'bring', 'bringing', 'brings', 'brink', 'brinkman', 'brisbane', 'bristol', 'brit', 'britain', 'britains', 'britannia', 'british', 'britishness', 'britney', 'briton', 'britons', 'brits', 'britten', 'britton', 'britz', 'brive', 'brixton', 'brizzel', 'broad', 'broadband', 'broadcast', 'broadcaster', 'broadcasters', 'broadcasting', 'broadcasts', 'broaden', 'broadened', 'broader', 'broadly', 'broadreach', 'broadsheet', 'broadside', 'broadway', 'brockstein', 'brody', 'broes', 'brokaw', 'broke', 'broken', 'broker', 'brokerage', 'brokered', 'brokers', 'broking', 'brolin', 'brom', 'bromesberrow', 'bromsgrove', 'bromwich', 'bronchitis', 'bronze', 'bronzes', 'brooker', 'brookings', 'brooks', 'brookstein', 'broom', 'bros', 'brosnan', 'brother', 'brotherhood', 'brothers', 'brought', 'brown', 'browne', 'brownie', 'brownite', 'brownlees', 'brownsville', 'browse', 'browsed', 'browser', 'browsers', 'browses', 'browsing', 'bruce', 'bruer', 'bruins', 'bruised', 'bruises', 'bruising', 'brunei', 'bruni', 'brunini', 'bruno', 'brunswick', 'brusca', 'brush', 'brushed', 'brushes', 'brussels', 'brutal', 'brutally', 'brute', 'bryan', 'bryn', 'bryson', 'bsa', 'bse', 'bskyb', 'bsl', 'bt', 'bubble', 'bubbles', 'bubbling', 'buccaneer', 'buccaneers', 'bucharest', 'buck', 'bucket', 'buckfield', 'bucking', 'buckingham', 'buckinghamshire', 'buckland', 'buckling', 'bucks', 'bud', 'budapest', 'budd', 'buddhist', 'buddy', 'budge', 'budget', 'budgetary', 'budgeted', 'budgets', 'buena', 'buenos', 'buerk', 'buffel', 'buffers', 'buffs', 'bug', 'bugs', 'build', 'builder', 'builders', 'building', 'buildings', 'builds', 'built', 'bulb', 'bulbs', 'bulgaria', 'bulgarian', 'bulging', 'bulk', 'bulky', 'bull', 'bullet', 'bulletin', 'bulletins', 'bullets', 'bullfighter', 'bullfrog', 'bullish', 'bulloch', 'bullock', 'bulls', 'bully', 'bullying', 'bump', 'bumped', 'bumper', 'bumping', 'bumps', 'bunch', 'bundesbank', 'bundle', 'bundled', 'bundling', 'bungie', 'buoy', 'buoyant', 'buoyed', 'bupa', 'burberry', 'burden', 'burdensome', 'bureau', 'bureaucracy', 'bureaucratic', 'bureaucratism', 'bureaucrats', 'burgas', 'burgeoning', 'burger', 'burglar', 'burglars', 'burglary', 'burgle', 'buried', 'buries', 'burke', 'burma', 'burn', 'burner', 'burnett', 'burning', 'burnish', 'burnley', 'burnout', 'burns', 'burrell', 'burrow', 'burst', 'bursting', 'bursts', 'burt', 'bury', 'burying', 'bus', 'buscemi', 'busch', 'bush', 'bushtucker', 'busier', 'busiest', 'business', 'businesses', 'businessman', 'businessmen', 'bust', 'busted', 'busting', 'busy', 'butcher', 'bute', 'butler', 'butlers', 'butragueno', 'buts', 'butt', 'butterflies', 'butters', 'butting', 'buttnumbathon', 'button', 'buttons', 'buxton', 'buy', 'buyback', 'buybacks', 'buyer', 'buyers', 'buying', 'buyout', 'buys', 'buzz', 'buzzing', 'buzzwords', 'bye', 'byline', 'bypass', 'byrne', 'byron', 'bysshe', 'c180', 'c4', 'caan', 'cab', 'caballeros', 'cabin', 'cabinet', 'cabinets', 'cabir', 'cable', 'cables', 'caborn', 'cabs', 'cache', 'cachet', 'cactus', 'cadena', 'cadle', 'cadmium', 'caf', 'cafe', 'cafes', 'cafod', 'cafu', 'cage', 'cagigal', 'caillet', 'caire', 'cairn', 'cairo', 'cake', 'calculate', 'calculated', 'calculations', 'calculator', 'calculators', 'calder', 'caldwell', 'caledonian', 'calendar', 'calf', 'calibre', 'california', 'calisto', 'callaghan', 'called', 'calleri', 'callers', 'calling', 'callow', 'calls', 'calm', 'calmer', 'calming', 'calum', 'calvisano', 'calyon', 'camara', 'camberley', 'cambiemos', 'cambodia', 'cambridge', 'cambridgeshire', 'camcorder', 'camcorders', 'came', 'camels', 'cameo', 'camera', 'cameras', 'cameron', 'cameroon', 'camilla', 'camille', 'camp', 'campaign', 'campaigned', 'campaigner', 'campaigners', 'campaigning', 'campaigns', 'campbell', 'camped', 'campell', 'camps', 'cams', 'canada', 'canadian', 'canal', 'canale', 'canaries', 'canas', 'cancel', 'cancellation', 'cancellations', 'cancelled', 'cancelling', 'cancels', 'cancer', 'candela', 'candid', 'candidate', 'candidates', 'candidly', 'candillon', 'canio', 'cannabidiol', 'cannabis', 'canned', 'cannes', 'cannibalism', 'cannibals', 'cannisters', 'cannon', 'canny', 'canopy', 'cans', 'canterbury', 'cantona', 'cantonese', 'canvas', 'canvass', 'canvassers', 'canvassing', 'cao', 'cap', 'capabilities', 'capability', 'capable', 'capacities', 'capacity', 'cape', 'capella', 'capellas', 'caper', 'capgemini', 'capital', 'capitalisation', 'capitalise', 'capitalised', 'capitalising', 'capitol', 'capitulate', 'capitulation', 'capped', 'capping', 'capra', 'capriati', 'caprice', 'caps', 'capt', 'captain', 'captaincy', 'captained', 'captaining', 'captains', 'caption', 'captioning', 'capture', 'captured', 'capturing', 'car', 'cara', 'carat', 'caravaggio', 'caravan', 'carbon', 'card', 'carded', 'carderplanet', 'cardiff', 'cards', 'cardwell', 'care', 'career', 'careers', 'careful', 'carefully', 'careless', 'carer', 'carers', 'cares', 'caretaker', 'carey', 'carfax', 'carib', 'caribbean', 'caribs', 'caricatures', 'caring', 'carl', 'carling', 'carlish', 'carlisle', 'carlo', 'carlos', 'carlsberg', 'carly', 'carmaker', 'carmakers', 'carmaking', 'carmen', 'carnival', 'carol', 'carolina', 'caroline', 'carousing', 'carpenter', 'carpet', 'carpets', 'carr', 'carradine', 'carragher', 'carrey', 'carrick', 'carried', 'carrier', 'carriers', 'carries', 'carroll', 'carrow', 'carry', 'carrying', 'cars', 'carsley', 'carson', 'carsten', 'cartagena', 'carte', 'cartel', 'carter', 'cartoon', 'cartoons', 'cartridge', 'carvalho', 'carve', 'carvel', 'carwyn', 'cas', 'casablanca', 'casalme', 'case', 'cases', 'casey', 'cash', 'cashed', 'casino', 'casinos', 'casio', 'caspian', 'cassette', 'cast', 'castaignede', 'castaldo', 'casting', 'castle', 'castor', 'castres', 'castro', 'castrogiovanni', 'casts', 'casual', 'casualties', 'casualty', 'cat', 'catalan', 'catalina', 'catalogue', 'catalogues', 'cataloguing', 'catalysed', 'catalyst', 'catastrophe', 'catastrophes', 'catch', 'catches', 'catching', 'catchy', 'cate', 'categorically', 'categories', 'categorisation', 'categorise', 'category', 'catering', 'cates', 'cathal', 'catherina', 'catherine', 'catholic', 'catholics', 'cathy', 'cats', 'catsuit', 'cattle', 'cattrall', 'catweazle', 'catwoman', 'caudwell', 'caught', 'cauldron', 'cause', 'caused', 'causes', 'causeway', 'causing', 'caustic', 'caution', 'cautioned', 'cautions', 'cautious', 'cautiously', 'cavalcade', 'cavalier', 'cavanagh', 'cayenne', 'cb', 'cbbc', 'cbi', 'cbo', 'cbs', 'ccf', 'cctv', 'cd', 'cdp', 'cds', 'cea', 'cease', 'ceased', 'ceasefire', 'cec', 'cech', 'cecil', 'cedric', 'cegetel', 'ceiling', 'celebrate', 'celebrated', 'celebrates', 'celebrating', 'celebration', 'celebrations', 'celebrities', 'celebrity', 'celestine', 'celine', 'cell', 'cellery', 'cellnet', 'cells', 'celltick', 'celta', 'celtic', 'celts', 'cement', 'cemented', 'cemetery', 'censor', 'censored', 'censors', 'censorship', 'cent', 'centenary', 'center', 'centr', 'central', 'centralisation', 'centralise', 'centrally', 'centre', 'centred', 'centrepiece', 'centres', 'centring', 'cents', 'centuries', 'century', 'ceo', 'cepes', 'ceplak', 'cept', 'ceremonies', 'ceremony', 'ceri', 'cern', 'certain', 'certainly', 'certainty', 'certificate', 'certificates', 'certification', 'certified', 'certify', 'ces', 'cesar', 'cesars', 'cesc', 'cessna', 'cfa', 'cfca', 'cfx', 'cg', 'cgi', 'chabal', 'chagrin', 'chain', 'chains', 'chair', 'chaired', 'chairing', 'chairman', 'chairmanship', 'chairmen', 'chairs', 'chairwoman', 'chaiyasoot', 'chakkara', 'chakrabarti', 'chalfont', 'chalk', 'challenge', 'challenged', 'challenger', 'challengers', 'challenges', 'challenging', 'chamber', 'chambers', 'chambre', 'champagne', 'champion', 'championing', 'champions', 'championship', 'championships', 'chan', 'chancay', 'chance', 'chancellor', 'chancellors', 'chances', 'chandler', 'chandon', 'chang', 'change', 'changeable', 'changed', 'changeover', 'changer', 'changes', 'changi', 'changing', 'channel', 'channelled', 'channels', 'chanting', 'chants', 'chaos', 'chaotic', 'chap', 'chapel', 'chaplin', 'chapter', 'chapters', 'character', 'characterised', 'characterises', 'characteristic', 'characteristically', 'characteristics', 'characterized', 'characters', 'charade', 'charbonnier', 'charcote', 'charge', 'charged', 'charges', 'charging', 'charing', 'charismatic', 'charities', 'charity', 'charlatans', 'charlene', 'charleroi', 'charles', 'charlie', 'charlize', 'charlotte', 'charlton', 'charm', 'charming', 'charms', 'chart', 'charted', 'charter', 'chartered', 'chartering', 'charting', 'charts', 'charvis', 'chase', 'chased', 'chases', 'chasing', 'chassis', 'chat', 'chatham', 'chatrooms', 'chatshow', 'chatted', 'chauvinistic', 'chavez', 'cheadle', 'cheap', 'cheapened', 'cheaper', 'cheapest', 'cheaply', 'cheapness', 'cheating', 'cheats', 'check', 'checked', 'checking', 'checks', 'cheekbone', 'cheeky', 'cheer', 'cheering', 'cheerleader', 'cheers', 'cheese', 'cheeses', 'cheetham', 'chef', 'chela', 'chelsea', 'chelsom', 'chemical', 'chemicals', 'chemistry', 'chen', 'cheney', 'chennai', 'chepkemei', 'cheque', 'cherie', 'cherish', 'cherkasky', 'cherkasova', 'cherney', 'chernin', 'cheshire', 'chest', 'chester', 'cheung', 'chevrolet', 'chevrontexaco', 'chi', 'chicago', 'chicken', 'chicoine', 'chidambaram', 'chides', 'chief', 'chiefly', 'chiefs', 'chiffon', 'chihwaseon', 'child', 'childcare', 'childe', 'childhood', 'childhoods', 'childishness', 'childlike', 'children', 'childrens', 'childs', 'chile', 'chilean', 'chill', 'chin', 'china', 'chinese', 'chino', 'chip', 'chipped', 'chipping', 'chips', 'chirac', 'chiropractor', 'chittabrata', 'chivas', 'choice', 'choices', 'choir', 'choking', 'cholesterol', 'chomsky', 'chong', 'chongqing', 'chook', 'choose', 'chooses', 'choosing', 'chopin', 'chopped', 'chore', 'choreographer', 'choreography', 'choristes', 'chorlton', 'chorton', 'chorus', 'chose', 'chosen', 'chris', 'chrissie', 'christ', 'christchurch', 'christian', 'christie', 'christina', 'christine', 'christmas', 'christmases', 'christophe', 'christopher', 'christos', 'chromium', 'chronic', 'chronicle', 'chronicles', 'chronology', 'chronometer', 'chrysler', 'chubb', 'chum', 'chung', 'chunk', 'church', 'churches', 'churlishly', 'churn', 'churning', 'chuter', 'cia', 'ciara', 'cibc', 'cicero', 'cigarette', 'cigarettes', 'cigars', 'cinema', 'cinemagoers', 'cinemas', 'cinematic', 'cinematographer', 'cinematographically', 'cinematography', 'ciphertrust', 'cips', 'circle', 'circles', 'circling', 'circuit', 'circuits', 'circular', 'circulate', 'circulated', 'circulating', 'circulation', 'circumstances', 'circumvent', 'circuses', 'cirkus', 'cis', 'cisco', 'cisse', 'cite', 'cited', 'cites', 'cities', 'citigroup', 'citing', 'citizen', 'citizens', 'citizenship', 'citreon', 'citroen', 'citu', 'city', 'civic', 'civil', 'civilian', 'civilly', 'cj', 'ckx', 'cl', 'claassens', 'claes', 'claim', 'claimant', 'claimed', 'claiming', 'claims', 'claire', 'clam', 'clamour', 'clamp', 'clampdown', 'clampett', 'clamping', 'clamshell', 'clan', 'clancy', 'clangers', 'clank', 'clans', 'clapton', 'claquin', 'clara', 'clare', 'clarence', 'clarets', 'claridge', 'clarified', 'clarify', 'clarifying', 'clarity', 'clark', 'clarke', 'clarkson', 'clash', 'clashed', 'clashes', 'class', 'classed', 'classes', 'classic', 'classical', 'classics', 'classified', 'classifying', 'classroom', 'classy', 'claude', 'claudia', 'claudio', 'clause', 'clauses', 'clawed', 'claws', 'claxton', 'clay', 'clayton', 'clean', 'cleaned', 'cleaner', 'cleaners', 'cleaning', 'clear', 'clearance', 'cleared', 'clearer', 'clearest', 'clearing', 'clearly', 'clearskies', 'clearstream', 'clearswift', 'clearview', 'cleese', 'clem', 'clement', 'clemente', 'clergy', 'clerk', 'clermont', 'cleveland', 'clever', 'cleverly', 'cliche', 'clichy', 'click', 'clicked', 'clicking', 'clicks', 'client', 'clients', 'cliff', 'cliffhanger', 'clifford', 'clijsters', 'climan', 'climate', 'climax', 'climb', 'climbdown', 'climbed', 'climbing', 'climbs', 'clinch', 'clinched', 'clinches', 'clinching', 'cling', 'clinging', 'clinic', 'clinical', 'clinically', 'clint', 'clinton', 'clipped', 'clipping', 'clips', 'cliques', 'clitheroe', 'clive', 'clock', 'clocked', 'clocking', 'clockwork', 'clog', 'clogged', 'clones', 'cloning', 'clooney', 'close', 'closed', 'closely', 'closer', 'closes', 'closest', 'closet', 'closets', 'closing', 'closure', 'closures', 'clothe', 'clothes', 'clothing', 'cloud', 'clouded', 'clouding', 'clown', 'clowns', 'club', 'clubbing', 'clubman', 'clubs', 'clues', 'cluley', 'clump', 'clumsily', 'clumsy', 'clung', 'clunkiness', 'clutch', 'clutches', 'clutterbuck', 'clyde', 'cmf', 'cml', 'cnpc', 'coach', 'coached', 'coaches', 'coaching', 'coachmen', 'coagulant', 'coal', 'coalition', 'coarse', 'coast', 'coastal', 'coasted', 'coat', 'coatings', 'coax', 'cobain', 'cobalt', 'cobblestones', 'cobh', 'cobham', 'cobhwoman', 'coby', 'cocaine', 'cochilco', 'cock', 'cockbain', 'cockerell', 'cockerill', 'cocktail', 'coddled', 'code', 'coded', 'codelco', 'codemasters', 'codename', 'codenamed', 'coders', 'codes', 'coffee', 'coffers', 'coghlan', 'cogniron', 'cohen', 'coherence', 'coherent', 'cohesion', 'coin', 'coincide', 'coincidence', 'coincidental', 'coincidentally', 'coinciding', 'coined', 'coins', 'coking', 'col', 'cola', 'colchester', 'cold', 'coldplay', 'cole', 'coleman', 'coleraine', 'colgan', 'colin', 'collaborate', 'collaborated', 'collaborating', 'collaboration', 'collaborations', 'collaborative', 'collaborator', 'collapse', 'collapsed', 'collapses', 'collar', 'collateral', 'collating', 'colleague', 'colleagues', 'collect', 'collected', 'collecting', 'collection', 'collections', 'collective', 'collectively', 'collector', 'collectors', 'collects', 'college', 'colleges', 'collide', 'collided', 'colliding', 'collier', 'collins', 'collision', 'collison', 'colloquial', 'colluded', 'colludes', 'colombia', 'colombian', 'colon', 'colonial', 'colonisation', 'colony', 'colorado', 'colosseum', 'colossus', 'colour', 'coloured', 'colourful', 'colours', 'coltrane', 'columbia', 'column', 'columnist', 'columns', 'com', 'combat', 'combatants', 'combating', 'combats', 'combination', 'combine', 'combined', 'combines', 'combining', 'come', 'comeback', 'comedian', 'comedians', 'comedic', 'comedies', 'comedy', 'comers', 'comes', 'comfort', 'comfortable', 'comfortably', 'comic', 'comics', 'coming', 'command', 'commanded', 'commandeered', 'commander', 'commanders', 'commanding', 'commands', 'commemoration', 'commences', 'commencing', 'commendable', 'comment', 'commentary', 'commentate', 'commentator', 'commentators', 'commented', 'commenting', 'comments', 'commerce', 'commercial', 'commercialisation', 'commercialised', 'commercially', 'commercials', 'commerzbank', 'commission', 'commissioned', 'commissioner', 'commissioners', 'commissions', 'commit', 'commitment', 'commitments', 'committed', 'committee', 'committees', 'committing', 'commodities', 'commoditising', 'commodity', 'commodore', 'common', 'commonly', 'commonplace', 'commons', 'commonwealth', 'communicate', 'communicated', 'communicateresearch', 'communicating', 'communication', 'communications', 'communicator', 'communiqu', 'communism', 'communist', 'communists', 'communities', 'community', 'commuters', 'compact', 'companies', 'companion', 'companions', 'company', 'comparable', 'comparatively', 'compare', 'compared', 'compares', 'comparing', 'comparison', 'comparisons', 'compass', 'compassion', 'compatibility', 'compatible', 'compatriot', 'compatriots', 'compelled', 'compelling', 'compensate', 'compensated', 'compensation', 'compete', 'competed', 'competency', 'competent', 'competes', 'competing', 'competition', 'competitions', 'competitive', 'competitiveness', 'competitor', 'competitors', 'competitve', 'compilation', 'compile', 'compiled', 'compiles', 'compiling', 'complacency', 'complacent', 'complain', 'complained', 'complaining', 'complains', 'complaint', 'complaints', 'complement', 'complete', 'completed', 'completely', 'completes', 'completing', 'completion', 'completions', 'complex', 'complexes', 'complexity', 'compliance', 'complicated', 'complied', 'complimentary', 'comply', 'complying', 'component', 'components', 'composed', 'composer', 'composers', 'composition', 'compositions', 'compostable', 'composure', 'compounded', 'comprehensive', 'comprehensively', 'compressed', 'compressing', 'compression', 'comprised', 'comprises', 'comprising', 'compromise', 'compromised', 'compromises', 'compromising', 'comptroller', 'compulsion', 'compulsive', 'compulsory', 'computational', 'computer', 'computerised', 'computers', 'computing', 'conceal', 'concealed', 'concealing', 'conceals', 'concede', 'conceded', 'concedes', 'conceding', 'conceivable', 'conceived', 'concentrate', 'concentrated', 'concentrates', 'concentrating', 'concentration', 'concept', 'concern', 'concerned', 'concerning', 'concerns', 'concert', 'concerted', 'concerts', 'concession', 'concessions', 'conchita', 'conciliation', 'conclude', 'concluded', 'concludes', 'concluding', 'conclusion', 'conclusions', 'conclusive', 'conclusively', 'concrete', 'concurrently', 'condemned', 'condemning', 'condemns', 'condition', 'conditions', 'condoleezza', 'condom', 'condoms', 'condone', 'conduct', 'conducted', 'conducting', 'conductive', 'conductor', 'conducts', 'confederation', 'confer', 'conference', 'conferences', 'conferencing', 'conferring', 'confess', 'confessed', 'confesses', 'confession', 'confessions', 'confided', 'confidence', 'confident', 'confidential', 'confidentiality', 'confidently', 'confifi', 'confined', 'confines', 'confirm', 'confirmation', 'confirmed', 'confirming', 'confirms', 'confiscatory', 'conflict', 'conflicting', 'conflicts', 'conform', 'conformity', 'confounded', 'confounding', 'confront', 'confrontation', 'confrontational', 'confronted', 'confuse', 'confused', 'confusing', 'confusingly', 'confusion', 'congdon', 'congenial', 'conglomerate', 'congratulate', 'congratulated', 'congratulations', 'congress', 'congressional', 'congressionally', 'congressmen', 'conjuction', 'conjunction', 'conjured', 'conleth', 'conlon', 'conmen', 'connacht', 'connaught', 'connect', 'connected', 'connecting', 'connection', 'connections']\n"
     ]
    }
   ],
   "source": [
    "feature_names = vectorizer.get_feature_names()\n",
    "\n",
    "print(len(feature_names))\n",
    "print(feature_names[:5000])"
   ]
  },
  {
   "cell_type": "code",
   "execution_count": 119,
   "metadata": {},
   "outputs": [],
   "source": [
    "import numpy as np\n",
    "import numpy.ma as ma\n",
    "\n",
    "def write_terms (feature_names, data, vector_data, index):\n",
    "    '''\n",
    "    Escribe los términos presentes en un mensaje representado como bolsa de palabras.\n",
    "    \n",
    "    - feature_names: terminos usados para vectorizar\n",
    "    - data: lista de mensajes original (si data==None no se muestra el mensaje original)\n",
    "    - vector_data: matriz (dispersa) de mensaje vectorizados\n",
    "    - index: posición del mensaje a mostrar\n",
    "    '''\n",
    "    # máscara para seleccionar sólo el mensaje en posición index\n",
    "    mask=vector_data[index,:]>0\n",
    "    \n",
    "    # términos que aparecen en ese mensaje vectorizado\n",
    "    terminos = ma.array(feature_names, mask = ~(mask[0].toarray()))\n",
    "    \n",
    "    # mostrar mensaje original\n",
    "    if data is not None:\n",
    "        print('Mensaje', index, ':', data[index])\n",
    "    \n",
    "    # mostrar términos que aparecen en el mensaje vectorizado\n",
    "    print('Mensaje', index, 'vectorizado:', terminos.compressed(),'\\n')"
   ]
  },
  {
   "cell_type": "code",
   "execution_count": 120,
   "metadata": {},
   "outputs": [
    {
     "name": "stdout",
     "output_type": "stream",
     "text": [
      "Mensaje 12 vectorizado: ['12' '16' '24' 'ability' 'accused' 'adding' 'allies' 'amazing' 'ashamed'\n",
      " 'awol' 'backsides' 'bbc' 'began' 'betrayal' 'betraying' 'break'\n",
      " 'bringing' 'britain' 'brussels' 'called' 'came' 'campaign' 'candidate'\n",
      " 'challenged' 'champagne' 'change' 'changed' 'chat' 'clear' 'committee'\n",
      " 'complaint' 'confirm' 'constituency' 'constituents' 'content' 'contested'\n",
      " 'continue' 'conviction' 'criminal' 'decision' 'did' 'disciplinary'\n",
      " 'disrepute' 'doing' 'dominated' 'east' 'election' 'elections'\n",
      " 'embarrassed' 'end' 'energy' 'europe' 'european' 'ex' 'explained'\n",
      " 'expulsion' 'failed' 'fat' 'fellow' 'flood' 'form' 'formal' 'general'\n",
      " 'genuine' 'going' 'gone' 'goodbye' 'govern' 'growing' 'happen' 'helped'\n",
      " 'hinckley' 'host' 'idea' 'independence' 'influence' 'initially'\n",
      " 'interested' 'joined' 'joke' 'june' 'just' 'kilroy' 'knapman' 'knowing'\n",
      " 'labelled' 'latin' 'leader' 'leadership' 'leave' 'leicestershire' 'marks'\n",
      " 'masses' 'meeting' 'member' 'membership' 'mep' 'meps' 'midlands' 'months'\n",
      " 'moving' 'mr' 'nagged' 'new' 'news' 'nice' 'offered' 'officials' 'open'\n",
      " 'opportunity' 'outside' 'party' 'people' 'place' 'plans' 'policies'\n",
      " 'political' 'posed' 'process' 'programme' 'prompted' 'publicity'\n",
      " 'queried' 'quit' 'quite' 'quits' 'radio' 'rancour' 'reasons' 'refused'\n",
      " 'rejected' 'remarkable' 'reports' 'result' 'right' 'robert' 'roger'\n",
      " 'rumours' 'sadly' 'said' 'say' 'says' 'seats' 'setting' 'shameful' 'silk'\n",
      " 'sitting' 'sky' 'speech' 'spokespeople' 'stand' 'starting' 'summer'\n",
      " 'support' 'supporters' 'things' 'thought' 'threat' 'thursday' 'today'\n",
      " 'told' 'tried' 'triggered' 'truth' 'uk' 'ukip' 'union' 'useful' 'veritas'\n",
      " 'vision' 'vote' 'voters' 'way' 'won'] \n",
      "\n",
      "Mensaje 123 vectorizado: ['15' '18' '25' '8m' 'act' 'action' 'added' 'adrian' 'applies' 'arriving'\n",
      " 'associated' 'association' 'authorities' 'backing' 'ban' 'banned'\n",
      " 'believed' 'blues' 'body' 'boost' 'breached' 'breaches' 'bridge' 'called'\n",
      " 'case' 'cases' 'chelsea' 'clear' 'clearly' 'club' 'coach' 'cocaine'\n",
      " 'code' 'coming' 'comment' 'company' 'considerations' 'contract' 'decided'\n",
      " 'decision' 'decline' 'denied' 'designed' 'difficult' 'director'\n",
      " 'disciplinary' 'discuss' 'doing' 'domestic' 'doping' 'drug' 'drugs'\n",
      " 'emerged' 'employees' 'english' 'enhance' 'enhanced' 'enhancing'\n",
      " 'expensive' 'expert' 'explaining' 'fa' 'face' 'failed' 'fans' 'fee'\n",
      " 'fifa' 'financial' 'followed' 'football' 'form' 'free' 'frozen' 'games'\n",
      " 'given' 'goals' 'governing' 'important' 'information' 'informed'\n",
      " 'initially' 'insists' 'international' 'iterated' 'jose' 'later'\n",
      " 'maintaining' 'major' 'make' 'matter' 'michelle' 'month' 'mourinho'\n",
      " 'mutu' 'october' 'offence' 'old' 'parma' 'performance' 'place' 'player'\n",
      " 'players' 'policy' 'position' 'positive' 'possible' 'prepared' 'question'\n",
      " 'quite' 'read' 'recreational' 'refuses' 'regarding' 'relevant' 'reported'\n",
      " 'reputation' 'responsibility' 'rest' 'right' 'romanian' 'rules' 'sack'\n",
      " 'sacked' 'said' 'saying' 'scored' 'season' 'sexual' 'signing' 'situation'\n",
      " 'social' 'spokesman' 'sport' 'sporting' 'stakeholders' 'stamford'\n",
      " 'stance' 'statement' 'stipulates' 'strong' 'substance' 'suggested'\n",
      " 'supports' 'suspension' 'takes' 'terms' 'test' 'tested' 'testing'\n",
      " 'tolerance' 'tolerate' 'totally' 'transfer' 'uk' 'verroken' 'want' 'went'\n",
      " 'won' 'world' 'write' 'year' 'zero'] \n",
      "\n"
     ]
    }
   ],
   "source": [
    "write_terms(feature_names, None, train_vector_data, 12)\n",
    "\n",
    "write_terms(feature_names, None, train_vector_data, 123)"
   ]
  },
  {
   "cell_type": "markdown",
   "metadata": {},
   "source": [
    "Esta vectorización, como se puede ver, añade un grupo amplio de términos de ruido, principalmente alfanuméricos que en general no aportarán demasiado y podrían complicar el aprendizaje de nuestros modelos. Ahora procederemos a ejecutar la segunda vectorización, que se basará en el diccionario inglés dado en la práctica. Originalmente hemos pensado que este diccionario podría dejar de lado algunas palabras para clasificar, y aunque será cierto en casos concretos, en general es bastante amplio e incorpora términos como \"batman\" y \"simpson\", bastante de la jerga y que  ayudan al algoritmo."
   ]
  },
  {
   "cell_type": "markdown",
   "metadata": {
    "id": "mbqVVeAk3yvI"
   },
   "source": [
    "## 3) Representación basada en word-embeddings\n",
    "\n",
    "La segunda vectorización que vamos a usar representará los mensajes usando word-embeddings. Cada documento se representará como el vector que resulta de promediar los embeddings de cada una de sus palabras. Al igual que en el apartado anterior, usaremos monogramas y las _stop words_ que vienen configuradas por defecto para el inglés. Recuerda usar como vocabulario para vectorizar el vocabulario del fichero con las word-embeddings. \n",
    "\n",
    "Entrena un clasificador Naive Bayes Gaussiano (el Multinomial no admite valores negativos que sí aparecen en los embeddings). Analiza el error por clase y dibuja la matriz de confusión.\n",
    "\n",
    "Entrena otro clasificador kNN con la nueva vectorización y la configuración por defecto y analiza su error."
   ]
  },
  {
   "cell_type": "code",
   "execution_count": null,
   "metadata": {
    "id": "uaJJB0Wp3yvJ"
   },
   "outputs": [],
   "source": []
  },
  {
   "cell_type": "markdown",
   "metadata": {
    "id": "XmM1ftJe3yvK"
   },
   "source": [
    "## 4) Análisis comparativo final\n",
    "\n",
    "Hemos entrenado dos clasificadores usando dos vectorizaciones diferentes de los datos. Compara la tasa de acierto de todos ellos y explica a qué crees que se deben las diferencias.\n",
    "\n",
    "Busca un mensaje mal clasificado por el Naive Bayes con vectorización de frecuencias y otro mal clasificado por el k-NN con Word-embeddings. Analiza los vectores de términos de dichos mensajes e intenta razonar por qué ha sido clasificado erróneamente.\n",
    "\n",
    "Para el Naive Bayes con vectorización de frecuencias, elige dos clases donde el clasificador no haya funcionado bien y analiza las palabras más relevantes para clasificar una noticia como de dichas clases. Razona si lo que ves crees que influye en la posible confusión a la hora de clasificar entre dichas clases."
   ]
  },
  {
   "cell_type": "code",
   "execution_count": null,
   "metadata": {
    "id": "vqZdbiiV3yvS"
   },
   "outputs": [],
   "source": []
  }
 ],
 "metadata": {
  "colab": {
   "name": "P1_clasificaccion_texto_2122_enunciado.ipynb",
   "provenance": []
  },
  "kernelspec": {
   "display_name": "Python 3",
   "language": "python",
   "name": "python3"
  },
  "language_info": {
   "codemirror_mode": {
    "name": "ipython",
    "version": 3
   },
   "file_extension": ".py",
   "mimetype": "text/x-python",
   "name": "python",
   "nbconvert_exporter": "python",
   "pygments_lexer": "ipython3",
   "version": "3.8.8"
  }
 },
 "nbformat": 4,
 "nbformat_minor": 1
}
